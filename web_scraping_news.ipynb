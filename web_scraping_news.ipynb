{
 "cells": [
  {
   "cell_type": "markdown",
   "metadata": {},
   "source": [
    "Importar librerias"
   ]
  },
  {
   "cell_type": "code",
   "execution_count": 1,
   "metadata": {},
   "outputs": [],
   "source": [
    "import requests\n",
    "from bs4 import BeautifulSoup\n",
    "import pandas as pd"
   ]
  },
  {
   "cell_type": "markdown",
   "metadata": {},
   "source": [
    "definir la URL y realizar conexion esperando respuesta con estatus 200"
   ]
  },
  {
   "cell_type": "code",
   "execution_count": 3,
   "metadata": {},
   "outputs": [
    {
     "data": {
      "text/plain": [
       "200"
      ]
     },
     "execution_count": 3,
     "metadata": {},
     "output_type": "execute_result"
    }
   ],
   "source": [
    "url='https://www.eltiempo.com/'\n",
    "tiempo=requests.get(url)\n",
    "tiempo.status_code"
   ]
  },
  {
   "cell_type": "markdown",
   "metadata": {},
   "source": [
    "Crear sopa de letras con la url"
   ]
  },
  {
   "cell_type": "code",
   "execution_count": 4,
   "metadata": {},
   "outputs": [
    {
     "data": {
      "text/plain": [
       "bs4.BeautifulSoup"
      ]
     },
     "execution_count": 4,
     "metadata": {},
     "output_type": "execute_result"
    }
   ],
   "source": [
    "tiempo_soup=BeautifulSoup(tiempo.text,'lxml')\n",
    "type(tiempo_soup)"
   ]
  },
  {
   "cell_type": "markdown",
   "metadata": {},
   "source": [
    "Creando lista con secciones"
   ]
  },
  {
   "cell_type": "code",
   "execution_count": 23,
   "metadata": {},
   "outputs": [],
   "source": [
    "secciones=tiempo_soup.find('ul',attrs={'class':'default-menu'}).find_all('li')\n",
    "\n",
    "# Usando list comprehension\n",
    "#lista_notas = [url + article.a.get('href') for article in articles.find_all('div', attrs={'class': 'article-item__content'}) if article.a]\n",
    "\n",
    "#Lista Secciones\n",
    "nombre_secciones=[nseccion.a.get_text('href') for nseccion in secciones]\n",
    "link_secciones=[url + lseccion.a.get('href') for lseccion in secciones]"
   ]
  },
  {
   "cell_type": "code",
   "execution_count": 24,
   "metadata": {},
   "outputs": [
    {
     "data": {
      "text/plain": [
       "['Opinión',\n",
       " 'Colombia',\n",
       " 'Bogotá',\n",
       " 'Internacional',\n",
       " 'Política',\n",
       " 'Justicia',\n",
       " 'Economía',\n",
       " 'Deportes',\n",
       " 'Cultura',\n",
       " 'Tecnología',\n",
       " 'Vida',\n",
       " 'Unidad Investigativa',\n",
       " 'Salud']"
      ]
     },
     "execution_count": 24,
     "metadata": {},
     "output_type": "execute_result"
    }
   ],
   "source": [
    "nombre_secciones"
   ]
  },
  {
   "cell_type": "code",
   "execution_count": 25,
   "metadata": {},
   "outputs": [
    {
     "data": {
      "text/plain": [
       "['https://www.eltiempo.com//opinion',\n",
       " 'https://www.eltiempo.com//colombia',\n",
       " 'https://www.eltiempo.com//bogota',\n",
       " 'https://www.eltiempo.com//mundo',\n",
       " 'https://www.eltiempo.com//politica',\n",
       " 'https://www.eltiempo.com//justicia',\n",
       " 'https://www.eltiempo.com//economia',\n",
       " 'https://www.eltiempo.com//deportes',\n",
       " 'https://www.eltiempo.com//cultura',\n",
       " 'https://www.eltiempo.com//tecnosfera',\n",
       " 'https://www.eltiempo.com//vida',\n",
       " 'https://www.eltiempo.com//unidad-investigativa',\n",
       " 'https://www.eltiempo.com//salud']"
      ]
     },
     "execution_count": 25,
     "metadata": {},
     "output_type": "execute_result"
    }
   ],
   "source": [
    "link_secciones"
   ]
  },
  {
   "cell_type": "code",
   "execution_count": 32,
   "metadata": {},
   "outputs": [],
   "source": [
    "secciones_data = {'nombre_seccion': nombre_secciones, 'Enlace': link_secciones}\n",
    "secciones_df = pd.DataFrame(secciones_data)\n",
    "#secciones_df = secciones_df[~secciones_df['nombre_seccion'].str.contains('opinión', case=False)]"
   ]
  },
  {
   "cell_type": "markdown",
   "metadata": {},
   "source": [
    "Columnistas de opinion por dia"
   ]
  },
  {
   "cell_type": "code",
   "execution_count": 28,
   "metadata": {},
   "outputs": [
    {
     "data": {
      "text/plain": [
       "200"
      ]
     },
     "execution_count": 28,
     "metadata": {},
     "output_type": "execute_result"
    }
   ],
   "source": [
    "url_dia_columns=('https://www.eltiempo.com//opinion')\n",
    "dia_columns=requests.get(url_dia_columns)\n",
    "dia_columns.status_code\n",
    "\n",
    "secciones=tiempo_soup.find('ul',attrs={'class':'default-menu'}).find_all('li')"
   ]
  }
 ],
 "metadata": {
  "kernelspec": {
   "display_name": ".venv",
   "language": "python",
   "name": "python3"
  },
  "language_info": {
   "codemirror_mode": {
    "name": "ipython",
    "version": 3
   },
   "file_extension": ".py",
   "mimetype": "text/x-python",
   "name": "python",
   "nbconvert_exporter": "python",
   "pygments_lexer": "ipython3",
   "version": "3.10.8"
  },
  "orig_nbformat": 4
 },
 "nbformat": 4,
 "nbformat_minor": 2
}
