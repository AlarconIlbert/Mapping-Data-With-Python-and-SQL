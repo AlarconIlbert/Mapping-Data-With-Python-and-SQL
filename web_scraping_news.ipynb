{
 "cells": [
  {
   "cell_type": "markdown",
   "metadata": {},
   "source": [
    "Importar librerias"
   ]
  },
  {
   "cell_type": "code",
   "execution_count": 1,
   "metadata": {},
   "outputs": [],
   "source": [
    "import requests\n",
    "from bs4 import BeautifulSoup\n",
    "import pandas as pd"
   ]
  },
  {
   "cell_type": "markdown",
   "metadata": {},
   "source": [
    "definir la URL y realizar conexion esperando respuesta con estatus 200"
   ]
  },
  {
   "cell_type": "code",
   "execution_count": 3,
   "metadata": {},
   "outputs": [
    {
     "data": {
      "text/plain": [
       "200"
      ]
     },
     "execution_count": 3,
     "metadata": {},
     "output_type": "execute_result"
    }
   ],
   "source": [
    "url='https://www.eltiempo.com/'\n",
    "tiempo=requests.get(url)\n",
    "tiempo.status_code"
   ]
  },
  {
   "cell_type": "markdown",
   "metadata": {},
   "source": [
    "Crear sopa de letras con la url"
   ]
  },
  {
   "cell_type": "code",
   "execution_count": 4,
   "metadata": {},
   "outputs": [
    {
     "data": {
      "text/plain": [
       "bs4.BeautifulSoup"
      ]
     },
     "execution_count": 4,
     "metadata": {},
     "output_type": "execute_result"
    }
   ],
   "source": [
    "tiempo_soup=BeautifulSoup(tiempo.text,'lxml')\n",
    "type(tiempo_soup)"
   ]
  },
  {
   "cell_type": "markdown",
   "metadata": {},
   "source": [
    "Creando lista con secciones"
   ]
  },
  {
   "cell_type": "code",
   "execution_count": 23,
   "metadata": {},
   "outputs": [],
   "source": [
    "secciones=tiempo_soup.find('ul',attrs={'class':'default-menu'}).find_all('li')\n",
    "\n",
    "# Usando list comprehension\n",
    "#lista_notas = [url + article.a.get('href') for article in articles.find_all('div', attrs={'class': 'article-item__content'}) if article.a]\n",
    "\n",
    "#Lista Secciones\n",
    "nombre_secciones=[nseccion.a.get_text('href') for nseccion in secciones]\n",
    "link_secciones=[url + lseccion.a.get('href') for lseccion in secciones]"
   ]
  },
  {
   "cell_type": "code",
   "execution_count": 24,
   "metadata": {},
   "outputs": [
    {
     "data": {
      "text/plain": [
       "['Opinión',\n",
       " 'Colombia',\n",
       " 'Bogotá',\n",
       " 'Internacional',\n",
       " 'Política',\n",
       " 'Justicia',\n",
       " 'Economía',\n",
       " 'Deportes',\n",
       " 'Cultura',\n",
       " 'Tecnología',\n",
       " 'Vida',\n",
       " 'Unidad Investigativa',\n",
       " 'Salud']"
      ]
     },
     "execution_count": 24,
     "metadata": {},
     "output_type": "execute_result"
    }
   ],
   "source": [
    "nombre_secciones"
   ]
  },
  {
   "cell_type": "code",
   "execution_count": 25,
   "metadata": {},
   "outputs": [
    {
     "data": {
      "text/plain": [
       "['https://www.eltiempo.com//opinion',\n",
       " 'https://www.eltiempo.com//colombia',\n",
       " 'https://www.eltiempo.com//bogota',\n",
       " 'https://www.eltiempo.com//mundo',\n",
       " 'https://www.eltiempo.com//politica',\n",
       " 'https://www.eltiempo.com//justicia',\n",
       " 'https://www.eltiempo.com//economia',\n",
       " 'https://www.eltiempo.com//deportes',\n",
       " 'https://www.eltiempo.com//cultura',\n",
       " 'https://www.eltiempo.com//tecnosfera',\n",
       " 'https://www.eltiempo.com//vida',\n",
       " 'https://www.eltiempo.com//unidad-investigativa',\n",
       " 'https://www.eltiempo.com//salud']"
      ]
     },
     "execution_count": 25,
     "metadata": {},
     "output_type": "execute_result"
    }
   ],
   "source": [
    "link_secciones"
   ]
  },
  {
   "cell_type": "code",
   "execution_count": 32,
   "metadata": {},
   "outputs": [],
   "source": [
    "secciones_data = {'nombre_seccion': nombre_secciones, 'Enlace': link_secciones}\n",
    "secciones_df = pd.DataFrame(secciones_data)\n",
    "#secciones_df = secciones_df[~secciones_df['nombre_seccion'].str.contains('opinión', case=False)]"
   ]
  },
  {
   "cell_type": "markdown",
   "metadata": {},
   "source": [
    "Columnistas de opinion por dia"
   ]
  },
  {
   "cell_type": "code",
   "execution_count": 129,
   "metadata": {},
   "outputs": [],
   "source": [
    "url_dia_columns=('https://www.eltiempo.com//colombia')\n",
    "dia_columns=requests.get(url_dia_columns)\n",
    "dia_columns.status_code\n",
    "\n",
    "tcolombia_soup=BeautifulSoup(dia_columns.text,'lxml')"
   ]
  },
  {
   "cell_type": "code",
   "execution_count": 284,
   "metadata": {},
   "outputs": [
    {
     "data": {
      "text/plain": [
       "[<article class=\"simple-image\" data-autor=\"Melissa munera zambrano\" data-bloqueo=\"Abierto\" data-board=\"Hs : Colombia\" data-category=\"Colombia/santander\" data-clasecontenido=\"Estandar\" data-editorial=\"Editorial\" data-id=\"795610\" data-name=\"Rodolfo hernandez no se ha sometido a ninguna cirugia para extraer su tumor\" data-publicacion=\"2023-08-12\" data-redactorvisible=\"Redaccion el tiempo\" data-seccion=\"Colombia\" data-subseccion=\"Santander\" data-tipocontenido=\"Articulo\" id=\"m1093-2-1094\" itemscope=\"\" itemtype=\"https://schema.org/NewsArticle\"><meta itemid=\"https://www.eltiempo.com/colombia/santander/rodolfo-hernandez-desmiente-cirugia-para-sacar-su-tumor-795610\" itemprop=\"mainEntityOfPage\" itemscope=\"\" itemtype=\"https://schema.org/WebPage\"/><div class=\"recurso\" itemtype=\"https://schema.org/NewsArticle\">\n",
       " <a class=\"multimediatag page-link\" href=\"/colombia/santander/rodolfo-hernandez-desmiente-cirugia-para-sacar-su-tumor-795610\">\n",
       " </a>\n",
       " <figure class=\"foto-desktop-noticias-seccion\"><a class=\"image page-link\" href=\"/colombia/santander/rodolfo-hernandez-desmiente-cirugia-para-sacar-su-tumor-795610\" id=\"m1104-1-1105\" itemprop=\"image\" itemscope=\"\" itemtype=\"https://schema.org/ImageObject\"><img alt=\"\" data-original=\"/files/secondary_default/uploads/2023/06/19/64904c746cf8e.jpeg\" height=\"130px\" src=\"/images/1x1.png\" style=\" display: inline;\" width=\"130px\"/><meta content=\"130\" itemprop=\"width\"/><meta content=\"130\" itemprop=\"height\"/><meta content=\"https://www.eltiempo.com/files/secondary_default/uploads/2023/06/19/64904c746cf8e.jpeg\" itemprop=\"url\"/></a></figure></div>\n",
       " <div class=\"info_contenido\">\n",
       " <div class=\"fecha_seccion\">\n",
       " <span class=\"oculto\" itemprop=\"author\" itemscope=\"\" itemtype=\"https://schema.org/Person\">Por\n",
       " <span itemprop=\"name\">Melissa Múnera Zambrano</span>\n",
       " </span>\n",
       " <meta content=\"2023-08-12\" itemprop=\"datePublished\"/><meta content=\"2023-08-12\" itemprop=\"dateModified\"/><a class=\"seccion category page-link colombia colombia--santander\" href=\"/colombia/santander\" id=\"m1111-2-1112\">Santander</a><span class=\"fecha published-at\" id=\"m1117-3-1118\">ago 12 de 2023</span></div>\n",
       " <h3 class=\"elecciones_titulo_dos\" itemprop=\"headline\">\n",
       " <a class=\"boton page-link\" href=\"/colombia/santander/rodolfo-hernandez-desmiente-cirugia-para-sacar-su-tumor-795610\" id=\"m1123-4-1124\">Rodolfo Hernández no se ha sometido a cirugía para extraer su tumor</a></h3>\n",
       " </div>\n",
       " <div class=\"oculto\" itemprop=\"publisher\" itemscope=\"\" itemtype=\"https://schema.org/Organization\">\n",
       " <div itemprop=\"logo\" itemscope=\"\" itemtype=\"https://schema.org/ImageObject\">\n",
       " <img alt=\"\" data-original=\"https://www.eltiempo.com/bundles/eltiempocms/images/el-tiempo/logo-el-tiempo-azul.jpg\" height=\"60\" src=\"/images/1x1.png\" width=\"600\"/><meta content=\"https://www.eltiempo.com/bundles/eltiempocms/images/el-tiempo/logo-el-tiempo-azul.jpg\" itemprop=\"url\"/><meta content=\"600\" itemprop=\"width\"/><meta content=\"60\" itemprop=\"height\"/></div>\n",
       " <meta content=\"EL TIEMPO\" itemprop=\"name\"/><meta content=\"https://www.eltiempo.com\" itemprop=\"url\"/></div>\n",
       " </article>,\n",
       " <article class=\"simple-image\" data-autor=\"Sebastian carvajal bolivar\" data-bloqueo=\"Abierto\" data-board=\"Hs : Colombia\" data-category=\"Colombia/medellin\" data-clasecontenido=\"Estandar\" data-editorial=\"Editorial\" data-id=\"795358\" data-name=\"Estos son los 310 candidatos al concejo de medellin en las 17 listas inscritas\" data-publicacion=\"2023-08-11\" data-redactorvisible=\"Redaccion el tiempo\" data-seccion=\"Colombia\" data-subseccion=\"Medellin\" data-tipocontenido=\"Articulo\" id=\"m1131-3-1132\" itemscope=\"\" itemtype=\"https://schema.org/NewsArticle\"><meta itemid=\"https://www.eltiempo.com/colombia/medellin/medellin-estos-son-los-310-candidatos-al-concejo-en-las-17-listas-inscritas-795358\" itemprop=\"mainEntityOfPage\" itemscope=\"\" itemtype=\"https://schema.org/WebPage\"/><div class=\"recurso\" itemtype=\"https://schema.org/NewsArticle\">\n",
       " <a class=\"multimediatag page-link\" href=\"/colombia/medellin/medellin-estos-son-los-310-candidatos-al-concejo-en-las-17-listas-inscritas-795358\">\n",
       " </a>\n",
       " <figure class=\"foto-desktop-noticias-seccion\"><a class=\"image page-link\" href=\"/colombia/medellin/medellin-estos-son-los-310-candidatos-al-concejo-en-las-17-listas-inscritas-795358\" id=\"m1142-1-1143\" itemprop=\"image\" itemscope=\"\" itemtype=\"https://schema.org/ImageObject\"><img alt=\"\" data-original=\"/files/secondary_default/uploads/2023/05/19/6467a0eaf1183.jpeg\" height=\"130px\" src=\"/images/1x1.png\" style=\" display: inline;\" width=\"130px\"/><meta content=\"130\" itemprop=\"width\"/><meta content=\"130\" itemprop=\"height\"/><meta content=\"https://www.eltiempo.com/files/secondary_default/uploads/2023/05/19/6467a0eaf1183.jpeg\" itemprop=\"url\"/></a></figure></div>\n",
       " <div class=\"info_contenido\">\n",
       " <div class=\"fecha_seccion\">\n",
       " <span class=\"oculto\" itemprop=\"author\" itemscope=\"\" itemtype=\"https://schema.org/Person\">Por\n",
       " <span itemprop=\"name\">Sebastián Carvajal Bolívar</span>\n",
       " </span>\n",
       " <meta content=\"2023-08-11\" itemprop=\"datePublished\"/><meta content=\"2023-08-11\" itemprop=\"dateModified\"/><a class=\"seccion category page-link colombia colombia--medellin\" href=\"/colombia/medellin\" id=\"m1149-2-1150\">Medellín</a><span class=\"fecha published-at\" id=\"m1155-3-1156\">ago 11 de 2023</span></div>\n",
       " <h3 class=\"elecciones_titulo_dos\" itemprop=\"headline\">\n",
       " <a class=\"boton page-link\" href=\"/colombia/medellin/medellin-estos-son-los-310-candidatos-al-concejo-en-las-17-listas-inscritas-795358\" id=\"m1161-4-1162\">Estos son los 310 candidatos al Concejo de Medellín</a></h3>\n",
       " </div>\n",
       " <div class=\"oculto\" itemprop=\"publisher\" itemscope=\"\" itemtype=\"https://schema.org/Organization\">\n",
       " <div itemprop=\"logo\" itemscope=\"\" itemtype=\"https://schema.org/ImageObject\">\n",
       " <img alt=\"\" data-original=\"https://www.eltiempo.com/bundles/eltiempocms/images/el-tiempo/logo-el-tiempo-azul.jpg\" height=\"60\" src=\"/images/1x1.png\" width=\"600\"/><meta content=\"https://www.eltiempo.com/bundles/eltiempocms/images/el-tiempo/logo-el-tiempo-azul.jpg\" itemprop=\"url\"/><meta content=\"600\" itemprop=\"width\"/><meta content=\"60\" itemprop=\"height\"/></div>\n",
       " <meta content=\"EL TIEMPO\" itemprop=\"name\"/><meta content=\"https://www.eltiempo.com\" itemprop=\"url\"/></div>\n",
       " </article>,\n",
       " <article class=\"simple-image\" data-autor=\"Melissa munera zambrano\" data-bloqueo=\"Abierto\" data-board=\"Hs : Colombia\" data-category=\"Colombia/santander\" data-clasecontenido=\"Estandar\" data-editorial=\"Editorial\" data-id=\"795244\" data-name=\"Floridablanca estos son los candidatos a la alcaldia algunos estan investigados\" data-publicacion=\"2023-08-11\" data-redactorvisible=\"Redaccion el tiempo\" data-seccion=\"Colombia\" data-subseccion=\"Santander\" data-tipocontenido=\"Articulo\" id=\"m1175-5-1176\" itemscope=\"\" itemtype=\"https://schema.org/NewsArticle\"><meta itemid=\"https://www.eltiempo.com/colombia/santander/floridablanca-estos-son-los-candidatos-a-la-alcaldia-y-algunos-estan-investigados-795244\" itemprop=\"mainEntityOfPage\" itemscope=\"\" itemtype=\"https://schema.org/WebPage\"/><div class=\"recurso\" itemtype=\"https://schema.org/NewsArticle\">\n",
       " <figure class=\"foto-desktop-noticias-seccion\"><a class=\"image page-link\" href=\"/colombia/santander/floridablanca-estos-son-los-candidatos-a-la-alcaldia-y-algunos-estan-investigados-795244\" id=\"m1180-1179-1181\" itemprop=\"image\" itemscope=\"\" itemtype=\"https://schema.org/ImageObject\"><img alt=\"\" data-original=\"/files/secondary_default/uploads/2023/08/11/64d6581296bbd.jpeg\" height=\"130px\" src=\"/images/1x1.png\" style=\" display: inline;\" width=\"130px\"/><meta content=\"130\" itemprop=\"width\"/><meta content=\"130\" itemprop=\"height\"/><meta content=\"https://www.eltiempo.com/files/secondary_default/uploads/2023/08/11/64d6581296bbd.jpeg\" itemprop=\"url\"/></a></figure></div>\n",
       " <div class=\"info_contenido\">\n",
       " <div class=\"fecha_seccion\">\n",
       " <span class=\"oculto\" itemprop=\"author\" itemscope=\"\" itemtype=\"https://schema.org/Person\">Por\n",
       " <span itemprop=\"name\">Melissa Múnera Zambrano</span>\n",
       " </span>\n",
       " <meta content=\"2023-08-11\" itemprop=\"datePublished\"/><meta content=\"2023-08-11\" itemprop=\"dateModified\"/><a class=\"seccion category page-link colombia colombia--santander\" href=\"/colombia/santander\" id=\"m1187-1-1188\">Santander</a><span class=\"fecha published-at\" id=\"m1193-2-1194\">ago 11 de 2023</span></div>\n",
       " <h3 class=\"elecciones_titulo_dos\" itemprop=\"headline\">\n",
       " <a class=\"multimediatag page-link\" href=\"/colombia/santander/floridablanca-estos-son-los-candidatos-a-la-alcaldia-y-algunos-estan-investigados-795244\">\n",
       " </a>\n",
       " <a class=\"boton page-link\" href=\"/colombia/santander/floridablanca-estos-son-los-candidatos-a-la-alcaldia-y-algunos-estan-investigados-795244\" id=\"m1205-4-1206\">Estos son los candidatos a Alcaldía de Floridablanca</a></h3>\n",
       " </div>\n",
       " <div class=\"oculto\" itemprop=\"publisher\" itemscope=\"\" itemtype=\"https://schema.org/Organization\">\n",
       " <div itemprop=\"logo\" itemscope=\"\" itemtype=\"https://schema.org/ImageObject\">\n",
       " <img alt=\"\" data-original=\"https://www.eltiempo.com/bundles/eltiempocms/images/el-tiempo/logo-el-tiempo-azul.jpg\" height=\"60\" src=\"/images/1x1.png\" width=\"600\"/><meta content=\"https://www.eltiempo.com/bundles/eltiempocms/images/el-tiempo/logo-el-tiempo-azul.jpg\" itemprop=\"url\"/><meta content=\"600\" itemprop=\"width\"/><meta content=\"60\" itemprop=\"height\"/></div>\n",
       " <meta content=\"EL TIEMPO\" itemprop=\"name\"/><meta content=\"https://www.eltiempo.com\" itemprop=\"url\"/></div>\n",
       " </article>,\n",
       " <article class=\"simple-image\" data-autor=\"David alejandro mercado\" data-bloqueo=\"Abierto\" data-board=\"Hs : Colombia\" data-category=\"Colombia/medellin\" data-clasecontenido=\"Estandar\" data-editorial=\"Editorial\" data-id=\"790990\" data-name=\"Elecciones 2023 estos son los candidatos que van por la alcaldia de medellin\" data-publicacion=\"2023-07-31\" data-redactorvisible=\"Redaccion el tiempo\" data-seccion=\"Colombia\" data-subseccion=\"Medellin\" data-tipocontenido=\"Articulo\" id=\"m1213-6-1214\" itemscope=\"\" itemtype=\"https://schema.org/NewsArticle\"><meta itemid=\"https://www.eltiempo.com/colombia/medellin/elecciones-medellin-2023-los-candidatos-inscritos-en-puja-por-la-alcaldia-790990\" itemprop=\"mainEntityOfPage\" itemscope=\"\" itemtype=\"https://schema.org/WebPage\"/><div class=\"recurso\" itemtype=\"https://schema.org/NewsArticle\">\n",
       " <figure class=\"foto-desktop-noticias-seccion\"><a class=\"image page-link\" href=\"/colombia/medellin/elecciones-medellin-2023-los-candidatos-inscritos-en-puja-por-la-alcaldia-790990\" id=\"m1218-1217-1219\" itemprop=\"image\" itemscope=\"\" itemtype=\"https://schema.org/ImageObject\"><img alt=\"\" data-original=\"/files/secondary_default/uploads/2023/07/28/64c46b46dfcbe.jpeg\" height=\"130px\" src=\"/images/1x1.png\" style=\" display: inline;\" width=\"130px\"/><meta content=\"130\" itemprop=\"width\"/><meta content=\"130\" itemprop=\"height\"/><meta content=\"https://www.eltiempo.com/files/secondary_default/uploads/2023/07/28/64c46b46dfcbe.jpeg\" itemprop=\"url\"/></a></figure></div>\n",
       " <div class=\"info_contenido\">\n",
       " <div class=\"fecha_seccion\">\n",
       " <span class=\"oculto\" itemprop=\"author\" itemscope=\"\" itemtype=\"https://schema.org/Person\">Por\n",
       " <span itemprop=\"name\">David Alejandro Mercado</span>\n",
       " </span>\n",
       " <meta content=\"2023-07-31\" itemprop=\"datePublished\"/><meta content=\"2023-07-29\" itemprop=\"dateModified\"/><a class=\"seccion category page-link colombia colombia--medellin\" href=\"/colombia/medellin\" id=\"m1225-1-1226\">Medellín</a><span class=\"fecha published-at\" id=\"m1231-2-1232\">jul 31 de 2023</span></div>\n",
       " <h3 class=\"elecciones_titulo_dos\" itemprop=\"headline\">\n",
       " <a class=\"multimediatag page-link\" href=\"/colombia/medellin/elecciones-medellin-2023-los-candidatos-inscritos-en-puja-por-la-alcaldia-790990\">\n",
       " </a>\n",
       " <a class=\"boton page-link\" href=\"/colombia/medellin/elecciones-medellin-2023-los-candidatos-inscritos-en-puja-por-la-alcaldia-790990\" id=\"m1243-4-1244\">Elecciones 2023: los candidatos que van por la Alcaldía de Medellín</a></h3>\n",
       " </div>\n",
       " <div class=\"oculto\" itemprop=\"publisher\" itemscope=\"\" itemtype=\"https://schema.org/Organization\">\n",
       " <div itemprop=\"logo\" itemscope=\"\" itemtype=\"https://schema.org/ImageObject\">\n",
       " <img alt=\"\" data-original=\"https://www.eltiempo.com/bundles/eltiempocms/images/el-tiempo/logo-el-tiempo-azul.jpg\" height=\"60\" src=\"/images/1x1.png\" width=\"600\"/><meta content=\"https://www.eltiempo.com/bundles/eltiempocms/images/el-tiempo/logo-el-tiempo-azul.jpg\" itemprop=\"url\"/><meta content=\"600\" itemprop=\"width\"/><meta content=\"60\" itemprop=\"height\"/></div>\n",
       " <meta content=\"EL TIEMPO\" itemprop=\"name\"/><meta content=\"https://www.eltiempo.com\" itemprop=\"url\"/></div>\n",
       " </article>,\n",
       " <article class=\"simple-image\" data-autor=\"Leidys rivero martinez\" data-bloqueo=\"Abierto\" data-board=\"Hs : Colombia\" data-category=\"Colombia/otras ciudades\" data-clasecontenido=\"Estandar\" data-editorial=\"Editorial\" data-id=\"791402\" data-name=\"Cartagena tiene 15 candidatos inscritos a la alcaldia\" data-publicacion=\"2023-07-31\" data-redactorvisible=\"Redaccion el tiempo\" data-seccion=\"Colombia\" data-subseccion=\"Otras ciudades\" data-tipocontenido=\"Articulo\" id=\"m1251-7-1252\" itemscope=\"\" itemtype=\"https://schema.org/NewsArticle\"><meta itemid=\"https://www.eltiempo.com/colombia/otras-ciudades/cartagena-candidatos-inscritos-a-la-alcaldia-791402\" itemprop=\"mainEntityOfPage\" itemscope=\"\" itemtype=\"https://schema.org/WebPage\"/><div class=\"recurso\" itemtype=\"https://schema.org/NewsArticle\">\n",
       " <figure class=\"foto-desktop-noticias-seccion\"><a class=\"image page-link\" href=\"/colombia/otras-ciudades/cartagena-candidatos-inscritos-a-la-alcaldia-791402\" id=\"m1256-1255-1257\" itemprop=\"image\" itemscope=\"\" itemtype=\"https://schema.org/ImageObject\"><img alt=\"\" data-original=\"/files/secondary_default/uploads/2023/07/31/64c7d0839dca2.jpeg\" height=\"130px\" src=\"/images/1x1.png\" style=\" display: inline;\" width=\"130px\"/><meta content=\"130\" itemprop=\"width\"/><meta content=\"130\" itemprop=\"height\"/><meta content=\"https://www.eltiempo.com/files/secondary_default/uploads/2023/07/31/64c7d0839dca2.jpeg\" itemprop=\"url\"/></a></figure></div>\n",
       " <div class=\"info_contenido\">\n",
       " <div class=\"fecha_seccion\">\n",
       " <span class=\"oculto\" itemprop=\"author\" itemscope=\"\" itemtype=\"https://schema.org/Person\">Por\n",
       " <span itemprop=\"name\">Leidys Rivero Martínez</span>\n",
       " </span>\n",
       " <meta content=\"2023-07-31\" itemprop=\"datePublished\"/><meta content=\"2023-07-31\" itemprop=\"dateModified\"/><a class=\"seccion category page-link colombia colombia--otras-ciudades\" href=\"/colombia/otras-ciudades\" id=\"m1263-1-1264\">Otras Ciudades</a><span class=\"fecha published-at\" id=\"m1269-2-1270\">jul 31 de 2023</span></div>\n",
       " <h3 class=\"elecciones_titulo_dos\" itemprop=\"headline\">\n",
       " <a class=\"multimediatag page-link\" href=\"/colombia/otras-ciudades/cartagena-candidatos-inscritos-a-la-alcaldia-791402\">\n",
       " </a>\n",
       " <a class=\"boton page-link\" href=\"/colombia/otras-ciudades/cartagena-candidatos-inscritos-a-la-alcaldia-791402\" id=\"m1281-4-1282\">Cartagena tiene 15 candidatos inscritos a la Alcaldía</a></h3>\n",
       " </div>\n",
       " <div class=\"oculto\" itemprop=\"publisher\" itemscope=\"\" itemtype=\"https://schema.org/Organization\">\n",
       " <div itemprop=\"logo\" itemscope=\"\" itemtype=\"https://schema.org/ImageObject\">\n",
       " <img alt=\"\" data-original=\"https://www.eltiempo.com/bundles/eltiempocms/images/el-tiempo/logo-el-tiempo-azul.jpg\" height=\"60\" src=\"/images/1x1.png\" width=\"600\"/><meta content=\"https://www.eltiempo.com/bundles/eltiempocms/images/el-tiempo/logo-el-tiempo-azul.jpg\" itemprop=\"url\"/><meta content=\"600\" itemprop=\"width\"/><meta content=\"60\" itemprop=\"height\"/></div>\n",
       " <meta content=\"EL TIEMPO\" itemprop=\"name\"/><meta content=\"https://www.eltiempo.com\" itemprop=\"url\"/></div>\n",
       " </article>,\n",
       " <article class=\"simple-image\" data-autor=\"Silvia contreras rodelo\" data-bloqueo=\"Abierto\" data-board=\"Hs : Colombia\" data-category=\"Colombia/otras ciudades\" data-clasecontenido=\"Estandar\" data-editorial=\"Editorial\" data-id=\"791879\" data-name=\"Elecciones 2023 estos son los candidatos que aspiran a la alcaldia de neiva\" data-publicacion=\"2023-08-01\" data-redactorvisible=\"Redaccion el tiempo\" data-seccion=\"Colombia\" data-subseccion=\"Otras ciudades\" data-tipocontenido=\"Articulo\" id=\"m1289-8-1290\" itemscope=\"\" itemtype=\"https://schema.org/NewsArticle\"><meta itemid=\"https://www.eltiempo.com/colombia/otras-ciudades/huila-estos-son-los-candidatos-a-la-alcaldia-para-las-elecciones-de-2023-791879\" itemprop=\"mainEntityOfPage\" itemscope=\"\" itemtype=\"https://schema.org/WebPage\"/><div class=\"recurso\" itemtype=\"https://schema.org/NewsArticle\">\n",
       " <figure class=\"foto-desktop-noticias-seccion\"><a class=\"image page-link\" href=\"/colombia/otras-ciudades/huila-estos-son-los-candidatos-a-la-alcaldia-para-las-elecciones-de-2023-791879\" id=\"m1294-1293-1295\" itemprop=\"image\" itemscope=\"\" itemtype=\"https://schema.org/ImageObject\"><img alt=\"\" data-original=\"/files/secondary_default/uploads/2023/08/01/64c94ff09f581.png\" height=\"130px\" src=\"/images/1x1.png\" style=\" display: inline;\" width=\"130px\"/><meta content=\"130\" itemprop=\"width\"/><meta content=\"130\" itemprop=\"height\"/><meta content=\"https://www.eltiempo.com/files/secondary_default/uploads/2023/08/01/64c94ff09f581.png\" itemprop=\"url\"/></a></figure></div>\n",
       " <div class=\"info_contenido\">\n",
       " <div class=\"fecha_seccion\">\n",
       " <span class=\"oculto\" itemprop=\"author\" itemscope=\"\" itemtype=\"https://schema.org/Person\">Por\n",
       " <span itemprop=\"name\">Silvia Contreras Rodelo</span>\n",
       " </span>\n",
       " <meta content=\"2023-08-01\" itemprop=\"datePublished\"/><meta content=\"2023-08-01\" itemprop=\"dateModified\"/><a class=\"seccion category page-link colombia colombia--otras-ciudades\" href=\"/colombia/otras-ciudades\" id=\"m1301-1-1302\">Otras Ciudades</a><span class=\"fecha published-at\" id=\"m1307-2-1308\">ago 1 de 2023</span></div>\n",
       " <h3 class=\"elecciones_titulo_dos\" itemprop=\"headline\">\n",
       " <a class=\"multimediatag page-link\" href=\"/colombia/otras-ciudades/huila-estos-son-los-candidatos-a-la-alcaldia-para-las-elecciones-de-2023-791879\">\n",
       " </a>\n",
       " <a class=\"boton page-link\" href=\"/colombia/otras-ciudades/huila-estos-son-los-candidatos-a-la-alcaldia-para-las-elecciones-de-2023-791879\" id=\"m1319-4-1320\">Elecciones 2023: los candidatos que aspiran a la Alcaldía de Neiva</a></h3>\n",
       " </div>\n",
       " <div class=\"oculto\" itemprop=\"publisher\" itemscope=\"\" itemtype=\"https://schema.org/Organization\">\n",
       " <div itemprop=\"logo\" itemscope=\"\" itemtype=\"https://schema.org/ImageObject\">\n",
       " <img alt=\"\" data-original=\"https://www.eltiempo.com/bundles/eltiempocms/images/el-tiempo/logo-el-tiempo-azul.jpg\" height=\"60\" src=\"/images/1x1.png\" width=\"600\"/><meta content=\"https://www.eltiempo.com/bundles/eltiempocms/images/el-tiempo/logo-el-tiempo-azul.jpg\" itemprop=\"url\"/><meta content=\"600\" itemprop=\"width\"/><meta content=\"60\" itemprop=\"height\"/></div>\n",
       " <meta content=\"EL TIEMPO\" itemprop=\"name\"/><meta content=\"https://www.eltiempo.com\" itemprop=\"url\"/></div>\n",
       " </article>,\n",
       " <article class=\"simple-image\">\n",
       " <div class=\"article-details-mobile\">\n",
       " <div class=\"category-published\">\n",
       " <a class=\"category page-link\" href=\"bogota\">Bogotá</a>\n",
       " <span class=\"published-at\">06:28 a. m. </span>\n",
       " </div>\n",
       " </div>\n",
       " <div class=\"recurso\">\n",
       " <figure class=\"image-container\">\n",
       " <a class=\"image page-link\" href=\"/bogota/habla-amiga-de-mujer-que-cayo-de-ventana-durante-temblor-explico-todo-lo-que-paso-799013\">\n",
       " <img alt=\"\" data-original=\"https://www.eltiempo.com/files/image_264_176/uploads/2023/08/23/64e6be3b43a99.png\" src=\"/images/1x1.png\"/>\n",
       " </a>\n",
       " </figure>\n",
       " </div>\n",
       " <div class=\"article-details\">\n",
       " <div class=\"category-published\">\n",
       " <a class=\"category page-link\" href=\"bogota\">Bogotá</a>\n",
       " <span class=\"published-at\">06:28 a. m. </span>\n",
       " </div>\n",
       " <h3 class=\"title-container\" itemprop=\"headline\">\n",
       " <a class=\"title page-link\" href=\"/bogota/habla-amiga-de-mujer-que-cayo-de-ventana-durante-temblor-explico-todo-lo-que-paso-799013\" itemprop=\"headline name\">Habla amiga de mujer que cayó de ventana durante temblor: explicó todo lo que pasó</a>\n",
       " </h3>\n",
       " </div>\n",
       " </article>,\n",
       " <article class=\"simple-image\">\n",
       " <div class=\"article-details-mobile\">\n",
       " <div class=\"category-published\">\n",
       " <a class=\"category page-link\" href=\"vida/ciencia\">Ciencia</a>\n",
       " <span class=\"published-at\">09:43 a. m. </span>\n",
       " </div>\n",
       " </div>\n",
       " <div class=\"recurso\">\n",
       " <figure class=\"image-container\">\n",
       " <a class=\"image page-link\" href=\"/vida/ciencia/lo-que-dice-el-sgc-sobre-un-proximo-gran-sismo-en-colombia-798696\">\n",
       " <img alt=\"\" data-original=\"https://www.eltiempo.com/files/image_264_176/uploads/2023/08/24/64e7474da461d.jpeg\" src=\"/images/1x1.png\"/>\n",
       " </a>\n",
       " </figure>\n",
       " </div>\n",
       " <div class=\"article-details\">\n",
       " <div class=\"category-published\">\n",
       " <a class=\"category page-link\" href=\"vida/ciencia\">Ciencia</a>\n",
       " <span class=\"published-at\">09:43 a. m. </span>\n",
       " </div>\n",
       " <h3 class=\"title-container\" itemprop=\"headline\">\n",
       " <a class=\"title page-link\" href=\"/vida/ciencia/lo-que-dice-el-sgc-sobre-un-proximo-gran-sismo-en-colombia-798696\" itemprop=\"headline name\">Esto dijo el Servicio Geológico Colombiano sobre un supuesto 'gran sismo' en Colombia</a>\n",
       " </h3>\n",
       " </div>\n",
       " </article>,\n",
       " <article class=\"simple-image\">\n",
       " <div class=\"article-details-mobile\">\n",
       " <div class=\"category-published\">\n",
       " <a class=\"category page-link\" href=\"cultura/gente\">Gente</a>\n",
       " <span class=\"published-at\">10:51 a. m. </span>\n",
       " </div>\n",
       " </div>\n",
       " <div class=\"recurso\">\n",
       " <figure class=\"image-container\">\n",
       " <a class=\"image page-link\" href=\"/cultura/gente/claudia-bahamon-estos-son-los-lucrativos-emprendimientos-que-tiene-la-presentadora-798887\">\n",
       " <img alt=\"\" data-original=\"https://www.eltiempo.com/files/image_264_176/uploads/2023/08/23/64e6880875b02.png\" src=\"/images/1x1.png\"/>\n",
       " </a>\n",
       " </figure>\n",
       " </div>\n",
       " <div class=\"article-details\">\n",
       " <div class=\"category-published\">\n",
       " <a class=\"category page-link\" href=\"cultura/gente\">Gente</a>\n",
       " <span class=\"published-at\">10:51 a. m. </span>\n",
       " </div>\n",
       " <h3 class=\"title-container\" itemprop=\"headline\">\n",
       " <a class=\"title page-link\" href=\"/cultura/gente/claudia-bahamon-estos-son-los-lucrativos-emprendimientos-que-tiene-la-presentadora-798887\" itemprop=\"headline name\">Claudia Bahamón: Estos son los negocios que tiene la presentadora de 'MasterChef'</a>\n",
       " </h3>\n",
       " </div>\n",
       " </article>,\n",
       " <article class=\"simple-image\">\n",
       " <div class=\"article-details-mobile\">\n",
       " <div class=\"category-published\">\n",
       " <a class=\"category page-link\" href=\"mundo/europa\">Europa</a>\n",
       " <span class=\"published-at\">10:03 a. m. </span>\n",
       " </div>\n",
       " </div>\n",
       " <div class=\"recurso\">\n",
       " <figure class=\"image-container\">\n",
       " <a class=\"image page-link\" href=\"/mundo/europa/yevgueni-prigozhin-que-se-sabe-de-la-muerte-del-lider-wagner-en-accidente-aereo-798988\">\n",
       " <img alt=\"\" data-original=\"https://www.eltiempo.com/files/image_264_176/uploads/2023/08/23/64e6aa370f4d4.jpeg\" src=\"/images/1x1.png\"/>\n",
       " </a>\n",
       " </figure>\n",
       " </div>\n",
       " <div class=\"article-details\">\n",
       " <div class=\"category-published\">\n",
       " <a class=\"category page-link\" href=\"mundo/europa\">Europa</a>\n",
       " <span class=\"published-at\">10:03 a. m. </span>\n",
       " </div>\n",
       " <h3 class=\"title-container\" itemprop=\"headline\">\n",
       " <a class=\"title page-link\" href=\"/mundo/europa/yevgueni-prigozhin-que-se-sabe-de-la-muerte-del-lider-wagner-en-accidente-aereo-798988\" itemprop=\"headline name\">Las tres hipótesis detrás de la muerte del jefe del Grupo Wagner en accidente aéreo</a>\n",
       " </h3>\n",
       " </div>\n",
       " </article>]"
      ]
     },
     "execution_count": 284,
     "metadata": {},
     "output_type": "execute_result"
    }
   ],
   "source": [
    "noticias = []\n",
    "# Encuentra todos los elementos 'article' con la clase 'simple-image'\n",
    "articles = tcolombia_soup.find_all('article', class_='simple-image')\n",
    "\n",
    "articles"
   ]
  },
  {
   "cell_type": "code",
   "execution_count": 283,
   "metadata": {},
   "outputs": [
    {
     "name": "stdout",
     "output_type": "stream",
     "text": [
      "{'nombre': 'Rodolfo Hernández no se ha sometido a cirugía para extraer su tumor', 'enlace': '/colombia/santander/rodolfo-hernandez-desmiente-cirugia-para-sacar-su-tumor-795610'}\n",
      "{'nombre': 'Estos son los 310 candidatos al Concejo de Medellín', 'enlace': '/colombia/medellin/medellin-estos-son-los-310-candidatos-al-concejo-en-las-17-listas-inscritas-795358'}\n",
      "{'nombre': 'Estos son los candidatos a Alcaldía de Floridablanca', 'enlace': '/colombia/santander/floridablanca-estos-son-los-candidatos-a-la-alcaldia-y-algunos-estan-investigados-795244'}\n",
      "{'nombre': 'Elecciones 2023: los candidatos que van por la Alcaldía de Medellín', 'enlace': '/colombia/medellin/elecciones-medellin-2023-los-candidatos-inscritos-en-puja-por-la-alcaldia-790990'}\n",
      "{'nombre': 'Cartagena tiene 15 candidatos inscritos a la Alcaldía', 'enlace': '/colombia/otras-ciudades/cartagena-candidatos-inscritos-a-la-alcaldia-791402'}\n",
      "{'nombre': 'Elecciones 2023: los candidatos que aspiran a la Alcaldía de Neiva', 'enlace': '/colombia/otras-ciudades/huila-estos-son-los-candidatos-a-la-alcaldia-para-las-elecciones-de-2023-791879'}\n"
     ]
    }
   ],
   "source": [
    "noticias = []\n",
    "\n",
    "# Encuentra todos los elementos 'article' con la clase 'simple-image'\n",
    "articles = tcolombia_soup.find_all('article', class_='simple-image')\n",
    "\n",
    "for article in articles:\n",
    "    # Encuentra el elemento 'a' dentro del 'article' con la clase 'boton'\n",
    "    link = article.find('a', class_='boton')\n",
    "    if link:\n",
    "        # Extrae el texto y el atributo 'href' del enlace\n",
    "        nombre = link.get_text()\n",
    "        enlace = link['href']\n",
    "        noticias.append({'nombre': nombre, 'enlace': enlace})\n",
    "\n",
    "# Imprime la lista de noticias\n",
    "for noticia in noticias:\n",
    "    print(noticia)"
   ]
  },
  {
   "cell_type": "code",
   "execution_count": 274,
   "metadata": {},
   "outputs": [
    {
     "data": {
      "text/plain": [
       "['', '', '', '']"
      ]
     },
     "execution_count": 274,
     "metadata": {},
     "output_type": "execute_result"
    }
   ],
   "source": [
    "nombre_titulos"
   ]
  },
  {
   "cell_type": "code",
   "execution_count": 83,
   "metadata": {},
   "outputs": [
    {
     "data": {
      "text/plain": [
       "['https://www.eltiempo.com//colombia/cali/dilian-francisca-toro-candidata-a-la-gobernacion-del-valle-2023-796507']"
      ]
     },
     "execution_count": 83,
     "metadata": {},
     "output_type": "execute_result"
    }
   ],
   "source": [
    "link_titulos"
   ]
  },
  {
   "cell_type": "code",
   "execution_count": 104,
   "metadata": {},
   "outputs": [
    {
     "ename": "AttributeError",
     "evalue": "'NavigableString' object has no attribute 'get'",
     "output_type": "error",
     "traceback": [
      "\u001b[1;31m---------------------------------------------------------------------------\u001b[0m",
      "\u001b[1;31mAttributeError\u001b[0m                            Traceback (most recent call last)",
      "Cell \u001b[1;32mIn[104], line 6\u001b[0m\n\u001b[0;32m      4\u001b[0m \u001b[39m#Lista Secciones\u001b[39;00m\n\u001b[0;32m      5\u001b[0m nombre_titulos\u001b[39m=\u001b[39m[ntitulos\u001b[39m.\u001b[39mget_text() \u001b[39mfor\u001b[39;00m ntitulos \u001b[39min\u001b[39;00m titulos]\n\u001b[1;32m----> 6\u001b[0m link_titulos\u001b[39m=\u001b[39m[url \u001b[39m+\u001b[39m ltitulos\u001b[39m.\u001b[39mget(\u001b[39m'\u001b[39m\u001b[39mhref\u001b[39m\u001b[39m'\u001b[39m) \u001b[39mfor\u001b[39;00m ltitulos \u001b[39min\u001b[39;00m titulos]\n",
      "Cell \u001b[1;32mIn[104], line 6\u001b[0m, in \u001b[0;36m<listcomp>\u001b[1;34m(.0)\u001b[0m\n\u001b[0;32m      4\u001b[0m \u001b[39m#Lista Secciones\u001b[39;00m\n\u001b[0;32m      5\u001b[0m nombre_titulos\u001b[39m=\u001b[39m[ntitulos\u001b[39m.\u001b[39mget_text() \u001b[39mfor\u001b[39;00m ntitulos \u001b[39min\u001b[39;00m titulos]\n\u001b[1;32m----> 6\u001b[0m link_titulos\u001b[39m=\u001b[39m[url \u001b[39m+\u001b[39m ltitulos\u001b[39m.\u001b[39;49mget(\u001b[39m'\u001b[39m\u001b[39mhref\u001b[39m\u001b[39m'\u001b[39m) \u001b[39mfor\u001b[39;00m ltitulos \u001b[39min\u001b[39;00m titulos]\n",
      "File \u001b[1;32md:\\_DATA ENGINEER\\Mapping-Data-With-Python-and-SQL\\.venv\\lib\\site-packages\\bs4\\element.py:984\u001b[0m, in \u001b[0;36mNavigableString.__getattr__\u001b[1;34m(self, attr)\u001b[0m\n\u001b[0;32m    982\u001b[0m     \u001b[39mreturn\u001b[39;00m \u001b[39mself\u001b[39m\n\u001b[0;32m    983\u001b[0m \u001b[39melse\u001b[39;00m:\n\u001b[1;32m--> 984\u001b[0m     \u001b[39mraise\u001b[39;00m \u001b[39mAttributeError\u001b[39;00m(\n\u001b[0;32m    985\u001b[0m         \u001b[39m\"\u001b[39m\u001b[39m'\u001b[39m\u001b[39m%s\u001b[39;00m\u001b[39m'\u001b[39m\u001b[39m object has no attribute \u001b[39m\u001b[39m'\u001b[39m\u001b[39m%s\u001b[39;00m\u001b[39m'\u001b[39m\u001b[39m\"\u001b[39m \u001b[39m%\u001b[39m (\n\u001b[0;32m    986\u001b[0m             \u001b[39mself\u001b[39m\u001b[39m.\u001b[39m\u001b[39m__class__\u001b[39m\u001b[39m.\u001b[39m\u001b[39m__name__\u001b[39m, attr))\n",
      "\u001b[1;31mAttributeError\u001b[0m: 'NavigableString' object has no attribute 'get'"
     ]
    }
   ],
   "source": [
    "titulos=[]\n",
    "titulos=tcolombia_soup.find('a',attrs={'class':'multimediatag page-link'})\n",
    "\n",
    "#Lista Secciones\n",
    "nombre_titulos=[ntitulos.get_text() for ntitulos in titulos]\n",
    "link_titulos=[url + ltitulos.get('href') for ltitulos in titulos]"
   ]
  },
  {
   "cell_type": "code",
   "execution_count": 101,
   "metadata": {},
   "outputs": [
    {
     "data": {
      "text/plain": [
       "['',\n",
       " 'Santander',\n",
       " '\\n',\n",
       " 'Estos son los candidatos a Alcaldía de Floridablanca',\n",
       " '',\n",
       " 'Medellín',\n",
       " '\\n',\n",
       " 'Elecciones 2023: los candidatos que van por la Alcaldía de Medellín',\n",
       " '',\n",
       " 'Otras Ciudades',\n",
       " '\\n',\n",
       " 'Cartagena tiene 15 candidatos inscritos a la Alcaldía',\n",
       " '',\n",
       " 'Otras Ciudades',\n",
       " '\\n',\n",
       " 'Elecciones 2023: los candidatos que aspiran a la Alcaldía de Neiva']"
      ]
     },
     "execution_count": 101,
     "metadata": {},
     "output_type": "execute_result"
    }
   ],
   "source": [
    "nombre_titulos"
   ]
  }
 ],
 "metadata": {
  "kernelspec": {
   "display_name": ".venv",
   "language": "python",
   "name": "python3"
  },
  "language_info": {
   "codemirror_mode": {
    "name": "ipython",
    "version": 3
   },
   "file_extension": ".py",
   "mimetype": "text/x-python",
   "name": "python",
   "nbconvert_exporter": "python",
   "pygments_lexer": "ipython3",
   "version": "3.10.8"
  },
  "orig_nbformat": 4
 },
 "nbformat": 4,
 "nbformat_minor": 2
}
