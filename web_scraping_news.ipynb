{
 "cells": [
  {
   "cell_type": "markdown",
   "metadata": {},
   "source": [
    "Importar librerias"
   ]
  },
  {
   "cell_type": "code",
   "execution_count": 1,
   "metadata": {},
   "outputs": [],
   "source": [
    "import requests\n",
    "from bs4 import BeautifulSoup\n",
    "import pandas as pd"
   ]
  },
  {
   "cell_type": "markdown",
   "metadata": {},
   "source": [
    "definir la URL y realizar conexion esperando respuesta con estatus 200"
   ]
  },
  {
   "cell_type": "code",
   "execution_count": 2,
   "metadata": {},
   "outputs": [
    {
     "data": {
      "text/plain": [
       "200"
      ]
     },
     "execution_count": 2,
     "metadata": {},
     "output_type": "execute_result"
    }
   ],
   "source": [
    "url='https://www.eltiempo.com/'\n",
    "tiempo=requests.get(url)\n",
    "tiempo.status_code"
   ]
  },
  {
   "cell_type": "markdown",
   "metadata": {},
   "source": [
    "Crear sopa de letras con la url"
   ]
  },
  {
   "cell_type": "code",
   "execution_count": 3,
   "metadata": {},
   "outputs": [
    {
     "data": {
      "text/plain": [
       "bs4.BeautifulSoup"
      ]
     },
     "execution_count": 3,
     "metadata": {},
     "output_type": "execute_result"
    }
   ],
   "source": [
    "tiempo_soup=BeautifulSoup(tiempo.text,'lxml')\n",
    "type(tiempo_soup)"
   ]
  },
  {
   "cell_type": "markdown",
   "metadata": {},
   "source": [
    "Creando lista con secciones"
   ]
  },
  {
   "cell_type": "code",
   "execution_count": 4,
   "metadata": {},
   "outputs": [],
   "source": [
    "secciones=tiempo_soup.find('ul',attrs={'class':'default-menu'}).find_all('li')\n",
    "\n",
    "# Usando list comprehension\n",
    "#lista_notas = [url + article.a.get('href') for article in articles.find_all('div', attrs={'class': 'article-item__content'}) if article.a]\n",
    "\n",
    "#Lista Secciones\n",
    "nombre_secciones=[nseccion.a.get_text('href') for nseccion in secciones]\n",
    "link_secciones=[url + lseccion.a.get('href') for lseccion in secciones]"
   ]
  },
  {
   "cell_type": "code",
   "execution_count": 5,
   "metadata": {},
   "outputs": [
    {
     "data": {
      "text/plain": [
       "['Opinión',\n",
       " 'Colombia',\n",
       " 'Bogotá',\n",
       " 'Internacional',\n",
       " 'Política',\n",
       " 'Justicia',\n",
       " 'Economía',\n",
       " 'Deportes',\n",
       " 'Cultura',\n",
       " 'Tecnología',\n",
       " 'Vida',\n",
       " 'Unidad Investigativa',\n",
       " 'Salud']"
      ]
     },
     "execution_count": 5,
     "metadata": {},
     "output_type": "execute_result"
    }
   ],
   "source": [
    "nombre_secciones"
   ]
  },
  {
   "cell_type": "code",
   "execution_count": 6,
   "metadata": {},
   "outputs": [
    {
     "data": {
      "text/plain": [
       "['https://www.eltiempo.com//opinion',\n",
       " 'https://www.eltiempo.com//colombia',\n",
       " 'https://www.eltiempo.com//bogota',\n",
       " 'https://www.eltiempo.com//mundo',\n",
       " 'https://www.eltiempo.com//politica',\n",
       " 'https://www.eltiempo.com//justicia',\n",
       " 'https://www.eltiempo.com//economia',\n",
       " 'https://www.eltiempo.com//deportes',\n",
       " 'https://www.eltiempo.com//cultura',\n",
       " 'https://www.eltiempo.com//tecnosfera',\n",
       " 'https://www.eltiempo.com//vida',\n",
       " 'https://www.eltiempo.com//unidad-investigativa',\n",
       " 'https://www.eltiempo.com//salud']"
      ]
     },
     "execution_count": 6,
     "metadata": {},
     "output_type": "execute_result"
    }
   ],
   "source": [
    "link_secciones"
   ]
  },
  {
   "cell_type": "code",
   "execution_count": 7,
   "metadata": {},
   "outputs": [],
   "source": [
    "secciones_data = {'nombre_seccion': nombre_secciones, 'Enlace': link_secciones}\n",
    "secciones_df = pd.DataFrame(secciones_data)\n",
    "#secciones_df = secciones_df[~secciones_df['nombre_seccion'].str.contains('opinión', case=False)]"
   ]
  },
  {
   "cell_type": "markdown",
   "metadata": {},
   "source": [
    "Columnistas de opinion por dia"
   ]
  },
  {
   "cell_type": "code",
   "execution_count": 8,
   "metadata": {},
   "outputs": [],
   "source": [
    "url_dia_columns=('https://www.eltiempo.com//colombia')\n",
    "dia_columns=requests.get(url_dia_columns)\n",
    "dia_columns.status_code\n",
    "\n",
    "tcolombia_soup=BeautifulSoup(dia_columns.text,'lxml')"
   ]
  },
  {
   "cell_type": "code",
   "execution_count": 9,
   "metadata": {},
   "outputs": [],
   "source": [
    "def obtener_rutas(s_nota):\n",
    "\n",
    "    nombres = []\n",
    "    enlaces = []\n",
    "\n",
    "    # Encuentra todos los elementos 'a' con la clase 'page-link'\n",
    "    noticias = s_nota.find_all('a', class_='boton page-link')\n",
    "\n",
    "    # Itera a través de las noticias y extrae los nombres y enlaces\n",
    "    for noticia in noticias:\n",
    "        nombre = noticia.text.strip()  # Extrae el nombre de la noticia\n",
    "        enlace = url+noticia['href']  # Obtiene el enlace de la noticia\n",
    "            \n",
    "        nombres.append(nombre)\n",
    "        enlaces.append(enlace)\n",
    "\n",
    "    ##.-.------\n",
    "    # Encuentra todos los elementos 'a' con la clase 'page-link'\n",
    "    primera = s_nota.find_all('article', class_='col2 notas principal main-module-bk play-inline contenido-exclusivo-icon')\n",
    "\n",
    "    # Itera a través de las noticias y extrae los nombres y enlaces\n",
    "    for noticia in primera:\n",
    "        nombre = noticia.find('h3', class_='titulo').text.strip()\n",
    "        enlace = url+noticia.find('a', class_='elecciones_titulo_uno')['href']\n",
    "            \n",
    "        nombres.append(nombre)\n",
    "        enlaces.append(enlace)\n",
    "\n",
    "    ##.-.------\n",
    "    # Encuentra todos los elementos 'a' con la clase 'page-link'\n",
    "    segunda = s_nota.find_all('article', class_='main')\n",
    "\n",
    "    # Itera a través de las noticias y extrae los nombres y enlaces\n",
    "    for noticia1 in segunda:\n",
    "        nombre = noticia1.find('a', class_='title page-link').text.strip()\n",
    "        enlace = url+noticia1.find('a', class_='title page-link')['href']\n",
    "            \n",
    "        nombres.append(nombre)\n",
    "        enlaces.append(enlace)\n",
    "\n",
    "    ##.-.------\n",
    "    # Encuentra todos los elementos 'a' con la clase 'page-link'\n",
    "    tercera = s_nota.find_all('article', class_='image-left')\n",
    "\n",
    "    # Itera a través de las noticias y extrae los nombres y enlaces\n",
    "    for noticia1 in tercera:\n",
    "        nombre = noticia1.find('a', class_='title page-link').text.strip()\n",
    "        enlace = url+noticia1.find('a', class_='title page-link')['href']\n",
    "            \n",
    "        nombres.append(nombre)\n",
    "        enlaces.append(enlace)\n",
    "\n",
    "    # Crear un DataFrame\n",
    "    data = {'Nombre': nombres, 'Enlace': enlaces}\n",
    "    noticias_df = pd.DataFrame(data)\n",
    "    return noticias_df"
   ]
  },
  {
   "cell_type": "code",
   "execution_count": 53,
   "metadata": {},
   "outputs": [],
   "source": [
    "df=obtener_rutas(tcolombia_soup)"
   ]
  },
  {
   "cell_type": "markdown",
   "metadata": {},
   "source": [
    "------"
   ]
  },
  {
   "cell_type": "markdown",
   "metadata": {},
   "source": [
    "Extraccion de informacion de noticias"
   ]
  },
  {
   "cell_type": "code",
   "execution_count": 50,
   "metadata": {},
   "outputs": [],
   "source": [
    "url_nota=('https://www.eltiempo.com/colombia/otras-ciudades/temblor-en-colombia-balance-de-danos-en-el-calvario-meta-tras-sismo-797488')"
   ]
  },
  {
   "cell_type": "code",
   "execution_count": 84,
   "metadata": {},
   "outputs": [],
   "source": [
    "def extaer_informacion(df):\n",
    "\n",
    "    nota_nombre=[]\n",
    "    nota_enlace=[]\n",
    "    nota_encab=[]\n",
    "    nota_fecha=[]\n",
    "    nota_cuerpo=[]\n",
    "    nota_imagen=[]\n",
    "\n",
    "    for index in range(len(df)):\n",
    "        url_nota=df.loc[index, 'Enlace']\n",
    "        titular = df.loc[index, 'Nombre']\n",
    "\n",
    "        try:\n",
    "            \n",
    "            nota=requests.get(url_nota)\n",
    "            if nota.status_code==200:\n",
    "                s_nota=BeautifulSoup(nota.text,'lxml')\n",
    "\n",
    "                #Extraer el resumen\n",
    "                encabezado=s_nota.find('div',class_='epigraph-container lead')\n",
    "                nota_encab.append(encabezado.text)\n",
    "\n",
    "                #Extraer fecha y hora de publicacion\n",
    "                fecha=s_nota.find('div',class_='img_info h-seccion')\n",
    "                fecha=fecha.find('span',class_='publishedAt').text\n",
    "                nota_fecha.append(fecha)\n",
    "                \n",
    "                cuerpo1=\"\"\n",
    "                cuerpo=s_nota.find('div',class_='articulo-contenido')\n",
    "                cuerpo=cuerpo.find_all('p',class_='contenido')\n",
    "                cuerpo1=\" \".join([p.get_text().strip() for p in cuerpo])\n",
    "                nota_cuerpo.append(cuerpo1)\n",
    "            \n",
    "                try:\n",
    "                    media =url+s_nota.find('div', class_='imagen-cuerpo-bk').img.get('src')\n",
    "                    img_req = requests.get(media)\n",
    "                    if img_req.status_code == 200:\n",
    "                        nota_imagen.append(media)\n",
    "                    else:\n",
    "                        media =None\n",
    "                        nota_imagen.append(media)\n",
    "                except:\n",
    "                    media =None\n",
    "                    nota_imagen.append(media)\n",
    "        except Exception as e:\n",
    "            print('Error:')\n",
    "            print(e)\n",
    "            print('\\n')\n",
    "        # Crear un DataFrame\n",
    "        data = {'titular':titular,'encabezado':nota_encab,'fecha':nota_fecha,'cuerpo':nota_cuerpo,'imagen':nota_imagen}\n",
    "        noticias_df = pd.DataFrame(data)\n",
    "    return noticias_df"
   ]
  },
  {
   "cell_type": "code",
   "execution_count": 85,
   "metadata": {},
   "outputs": [],
   "source": [
    "extaer_informacion(df)"
   ]
  },
  {
   "cell_type": "code",
   "execution_count": null,
   "metadata": {},
   "outputs": [],
   "source": []
  },
  {
   "cell_type": "code",
   "execution_count": null,
   "metadata": {},
   "outputs": [],
   "source": []
  },
  {
   "cell_type": "code",
   "execution_count": null,
   "metadata": {},
   "outputs": [],
   "source": []
  },
  {
   "cell_type": "code",
   "execution_count": 73,
   "metadata": {},
   "outputs": [
    {
     "name": "stdout",
     "output_type": "stream",
     "text": [
      "https://www.eltiempo.com//colombia/santander/rodolfo-hernandez-desmiente-cirugia-para-sacar-su-tumor-795610\n",
      "Rodolfo Hernández no se ha sometido a cirugía para extraer su tumor\n",
      "https://www.eltiempo.com//colombia/medellin/medellin-estos-son-los-310-candidatos-al-concejo-en-las-17-listas-inscritas-795358\n",
      "Estos son los 310 candidatos al Concejo de Medellín\n",
      "https://www.eltiempo.com//colombia/santander/floridablanca-estos-son-los-candidatos-a-la-alcaldia-y-algunos-estan-investigados-795244\n",
      "Estos son los candidatos a Alcaldía de Floridablanca\n",
      "https://www.eltiempo.com//colombia/medellin/elecciones-medellin-2023-los-candidatos-inscritos-en-puja-por-la-alcaldia-790990\n",
      "Elecciones 2023: los candidatos que van por la Alcaldía de Medellín\n",
      "https://www.eltiempo.com//colombia/otras-ciudades/cartagena-candidatos-inscritos-a-la-alcaldia-791402\n",
      "Cartagena tiene 15 candidatos inscritos a la Alcaldía\n",
      "https://www.eltiempo.com//colombia/otras-ciudades/huila-estos-son-los-candidatos-a-la-alcaldia-para-las-elecciones-de-2023-791879\n",
      "Elecciones 2023: los candidatos que aspiran a la Alcaldía de Neiva\n",
      "https://www.eltiempo.com//colombia/cali/dilian-francisca-toro-candidata-a-la-gobernacion-del-valle-2023-796507\n",
      "Así funciona el poder político de Dilian Francisca Toro en el Valle\n",
      "https://www.eltiempo.com//colombia/otras-ciudades/santa-marta-preocupacion-del-turismo-por-inseguridad-797568\n",
      "Inseguridad en Santa Marta: gremios hacen llamado por afectaciones al turismo\n",
      "https://www.eltiempo.com//colombia/medellin/medellin-policia-incauto-poderoso-armamento-a-banda-en-manrique-799550\n",
      "El poderoso armamento que le incautaron a banda criminal que genera zozobra en Manrique\n",
      "https://www.eltiempo.com//colombia/cali/autoridades-del-valle-propinan-golpe-a-la-delincuencia-en-el-departamento-799491\n",
      "En Ginebra capturan a alias 'El mocho', reconocido actor sicarial y de estupefacientes\n",
      "https://www.eltiempo.com//colombia/barranquilla/shakira-hoy-reaccion-al-conocer-la-estatua-que-le-hacen-en-barranquilla-799547\n",
      "La reacción de Shakira al conocer el monumento que le hacen en Barranquilla\n",
      "https://www.eltiempo.com//colombia/santander/cartel-de-los-mas-buscados-en-bucaramanga-ofrecen-recompensa-799492\n",
      "Este es el cartel de los más buscados en Bucaramanga: ofrecen millonaria recompensa\n",
      "https://www.eltiempo.com//colombia/otras-ciudades/en-pereira-y-dosquebradas-capturan-a-extraditables-miembros-de-banda-la-cordillera-799561\n",
      "En Pereira y Dosquebradas capturan a extraditables, miembros de banda 'La Cordillera'\n",
      "https://www.eltiempo.com/mas-contenido/como-transformar-los-datos-del-personal-en-decisiones-estrategicas-798700\n",
      "¿Cómo transformar los datos del personal en decisiones estratégicas?\n",
      "https://www.eltiempo.com//colombia/otras-ciudades/temblor-en-colombia-balance-de-danos-en-el-calvario-meta-tras-sismo-797488\n",
      "En El Calvario, Meta, seis casas colapsaron y 70 más resultaron afectadas\n",
      "https://www.eltiempo.com//colombia/otras-ciudades/apertura-del-puente-barragan-en-el-alambra-en-quindio-y-valle-del-cauca-797541\n",
      "Cerrarían nuevamente puente Barragán entre Quindío y Valle\n",
      "https://www.eltiempo.com//contenido-comercial/un-impulso-al-empoderamiento-femenino-en-el-comercio-ferretero-796901\n",
      "Un impulso al empoderamiento femenino en el comercio ferretero\n",
      "https://www.eltiempo.com//colombia/medellin/antioquia-investigan-muerte-de-fiscal-libardo-escobar-en-accidente-de-transito-799554\n",
      "Murió fiscal de San Francisco, Antioquia, en trágico accidente vial\n",
      "https://www.eltiempo.com//colombia/medellin/antioquia-voraz-incendio-en-itaguei-deja-tres-personas-heridas-y-15-familias-afectadas-799517\n",
      "Voraz incendio en Itagüí deja tres personas heridas y 15 familias afectadas\n",
      "https://www.eltiempo.com//colombia/medellin/medellin-a-candidato-al-concejo-lo-sacaron-de-la-udea-por-evento-contra-capuchos-799493\n",
      "A candidato al Concejo de Medellín lo sacaron de la UdeA por evento contra ‘capuchos’\n",
      "https://www.eltiempo.com//colombia/cali/el-arsenal-para-armar-fusiles-que-evadio-controles-desde-ee-uu-captura-en-cali-799427\n",
      "Hombre evadió controles de aeropuerto en EE.UU. e ingresó al país 107 partes de fusiles\n",
      "https://www.eltiempo.com//colombia/cali/agenda-de-evento-con-union-europea-y-universidades-799130\n",
      "¿Estudiar en la Unión Europea? Este viernes hay una feria de opciones\n",
      "https://www.eltiempo.com//colombia/cali/oscar-rivas-delincuentes-robaron-al-boxeador-en-el-sur-de-cali-799452\n",
      "Campeón mundial de boxeo fue víctima de robo en Cali; le hurtaron sus guantes\n",
      "https://www.eltiempo.com//colombia/cali/sicarios-asesinaron-a-tres-mujeres-en-48-horas-en-el-valle-798196\n",
      "Tres dramas: sicarios asesinaron a tres mujeres en 48 horas\n",
      "https://www.eltiempo.com//contenido-comercial/un-impulso-al-empoderamiento-femenino-en-el-comercio-ferretero-796901\n",
      "Un impulso al empoderamiento femenino en el comercio ferretero\n",
      "https://www.eltiempo.com//colombia/barranquilla/nuevo-incendio-forestal-en-la-isla-de-salamanca-ahoga-el-norte-de-barranquilla-799501\n",
      "Nuevo incendio forestal en la Isla de Salamanca ahoga al norte de Barranquilla\n",
      "https://www.eltiempo.com//colombia/barranquilla/shakira-asi-va-la-escultura-que-se-construye-en-barranquilla-799477\n",
      "Video: así va la escultura de 6.40 metros de Shakira que se construye en Barranquilla\n",
      "https://www.eltiempo.com//colombia/barranquilla/barrio-el-prado-cumple-100-anos-472172\n",
      "Un paseo por El Prado, el barrio con historias en cada esquina\n",
      "https://www.eltiempo.com//colombia/santander/carcel-para-hombre-que-mato-a-su-hermana-y-esposa-en-landazuri-799472\n",
      "Cárcel para hombre que mató a su hermana y esposa en Landázuri, esta fue la historia\n",
      "https://www.eltiempo.com//colombia/santander/bucraramanga-metrolinea-sera-liquidado-no-va-mas-por-las-deudas-y-mal-servicio-798897\n",
      "Metrolínea será liquidado, no va más por su ineficiencia en servicio y deudas\n",
      "https://www.eltiempo.com//colombia/santander/alvaro-uribe-velez-se-refirio-a-la-posible-quiebra-de-las-eps-799326\n",
      "Álvaro Uribe Vélez le echó pullas a Gustavo Petro por las EPS en quiebra\n",
      "https://www.eltiempo.com//colombia/santander/pico-y-placa-en-bucaramanga-para-el-25-de-agosto-799258\n",
      "¡Pilas! Asi regirá la medida de pico y placa en Bucaramaga para el 25 de agosto\n",
      "https://www.eltiempo.com//colombia/otras-ciudades/una-bateria-conectada-causo-grave-incendio-en-ibague-799530\n",
      "Una batería conectada provocó un grave incendio en una vivienda de Ibagué\n",
      "https://www.eltiempo.com//colombia/otras-ciudades/cartagena-mujer-expone-la-vida-para-una-fotografia-en-un-piso-10-de-bocagrande-799560\n",
      "Cartagena: mujer arriesga su vida para una fotografía en un piso 10 de Bocagrande\n",
      "https://www.eltiempo.com//colombia/otras-ciudades/vehiculos-de-carga-podran-pasar-sin-pagar-peaje-en-la-via-al-llano-799546\n",
      "Vehículos de carga no pagarán peaje en la vía al Llano durante el fin de semana\n",
      "https://www.eltiempo.com//colombia/otras-ciudades/santa-marta-directivo-de-transito-involucrado-en-desaparicion-de-motos-799526\n",
      "Directivo de tránsito en Santa Marta habría desaparecido motos inmovilizadas\n"
     ]
    }
   ],
   "source": [
    "for index in range(len(df)):\n",
    "    enlace = df.loc[index, 'Enlace']\n",
    "    nombre = df.loc[index, 'Nombre']\n",
    "    \n",
    "    print(enlace)\n",
    "    print(nombre)"
   ]
  }
 ],
 "metadata": {
  "kernelspec": {
   "display_name": ".venv",
   "language": "python",
   "name": "python3"
  },
  "language_info": {
   "codemirror_mode": {
    "name": "ipython",
    "version": 3
   },
   "file_extension": ".py",
   "mimetype": "text/x-python",
   "name": "python",
   "nbconvert_exporter": "python",
   "pygments_lexer": "ipython3",
   "version": "3.10.8"
  },
  "orig_nbformat": 4
 },
 "nbformat": 4,
 "nbformat_minor": 2
}
