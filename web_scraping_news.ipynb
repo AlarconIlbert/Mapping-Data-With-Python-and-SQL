{
 "cells": [
  {
   "cell_type": "markdown",
   "metadata": {},
   "source": [
    "Importar librerias"
   ]
  },
  {
   "cell_type": "code",
   "execution_count": 1,
   "metadata": {},
   "outputs": [],
   "source": [
    "import requests\n",
    "from bs4 import BeautifulSoup\n",
    "import pandas as pd"
   ]
  },
  {
   "cell_type": "markdown",
   "metadata": {},
   "source": [
    "definir la URL y realizar conexion esperando respuesta con estatus 200"
   ]
  },
  {
   "cell_type": "code",
   "execution_count": 3,
   "metadata": {},
   "outputs": [
    {
     "data": {
      "text/plain": [
       "200"
      ]
     },
     "execution_count": 3,
     "metadata": {},
     "output_type": "execute_result"
    }
   ],
   "source": [
    "url='https://www.eltiempo.com/'\n",
    "tiempo=requests.get(url)\n",
    "tiempo.status_code"
   ]
  },
  {
   "cell_type": "markdown",
   "metadata": {},
   "source": [
    "Crear sopa de letras con la url"
   ]
  },
  {
   "cell_type": "code",
   "execution_count": 4,
   "metadata": {},
   "outputs": [
    {
     "data": {
      "text/plain": [
       "bs4.BeautifulSoup"
      ]
     },
     "execution_count": 4,
     "metadata": {},
     "output_type": "execute_result"
    }
   ],
   "source": [
    "tiempo_soup=BeautifulSoup(tiempo.text,'lxml')\n",
    "type(tiempo_soup)"
   ]
  },
  {
   "cell_type": "markdown",
   "metadata": {},
   "source": [
    "Creando lista con secciones"
   ]
  },
  {
   "cell_type": "code",
   "execution_count": 23,
   "metadata": {},
   "outputs": [],
   "source": [
    "secciones=tiempo_soup.find('ul',attrs={'class':'default-menu'}).find_all('li')\n",
    "\n",
    "# Usando list comprehension\n",
    "#lista_notas = [url + article.a.get('href') for article in articles.find_all('div', attrs={'class': 'article-item__content'}) if article.a]\n",
    "\n",
    "#Lista Secciones\n",
    "nombre_secciones=[nseccion.a.get_text('href') for nseccion in secciones]\n",
    "link_secciones=[url + lseccion.a.get('href') for lseccion in secciones]"
   ]
  },
  {
   "cell_type": "code",
   "execution_count": 24,
   "metadata": {},
   "outputs": [
    {
     "data": {
      "text/plain": [
       "['Opinión',\n",
       " 'Colombia',\n",
       " 'Bogotá',\n",
       " 'Internacional',\n",
       " 'Política',\n",
       " 'Justicia',\n",
       " 'Economía',\n",
       " 'Deportes',\n",
       " 'Cultura',\n",
       " 'Tecnología',\n",
       " 'Vida',\n",
       " 'Unidad Investigativa',\n",
       " 'Salud']"
      ]
     },
     "execution_count": 24,
     "metadata": {},
     "output_type": "execute_result"
    }
   ],
   "source": [
    "nombre_secciones"
   ]
  },
  {
   "cell_type": "code",
   "execution_count": 25,
   "metadata": {},
   "outputs": [
    {
     "data": {
      "text/plain": [
       "['https://www.eltiempo.com//opinion',\n",
       " 'https://www.eltiempo.com//colombia',\n",
       " 'https://www.eltiempo.com//bogota',\n",
       " 'https://www.eltiempo.com//mundo',\n",
       " 'https://www.eltiempo.com//politica',\n",
       " 'https://www.eltiempo.com//justicia',\n",
       " 'https://www.eltiempo.com//economia',\n",
       " 'https://www.eltiempo.com//deportes',\n",
       " 'https://www.eltiempo.com//cultura',\n",
       " 'https://www.eltiempo.com//tecnosfera',\n",
       " 'https://www.eltiempo.com//vida',\n",
       " 'https://www.eltiempo.com//unidad-investigativa',\n",
       " 'https://www.eltiempo.com//salud']"
      ]
     },
     "execution_count": 25,
     "metadata": {},
     "output_type": "execute_result"
    }
   ],
   "source": [
    "link_secciones"
   ]
  },
  {
   "cell_type": "code",
   "execution_count": 32,
   "metadata": {},
   "outputs": [],
   "source": [
    "secciones_data = {'nombre_seccion': nombre_secciones, 'Enlace': link_secciones}\n",
    "secciones_df = pd.DataFrame(secciones_data)\n",
    "#secciones_df = secciones_df[~secciones_df['nombre_seccion'].str.contains('opinión', case=False)]"
   ]
  },
  {
   "cell_type": "markdown",
   "metadata": {},
   "source": [
    "Columnistas de opinion por dia"
   ]
  },
  {
   "cell_type": "code",
   "execution_count": 129,
   "metadata": {},
   "outputs": [],
   "source": [
    "url_dia_columns=('https://www.eltiempo.com//colombia')\n",
    "dia_columns=requests.get(url_dia_columns)\n",
    "dia_columns.status_code\n",
    "\n",
    "tcolombia_soup=BeautifulSoup(dia_columns.text,'lxml')"
   ]
  },
  {
   "cell_type": "code",
   "execution_count": 290,
   "metadata": {},
   "outputs": [],
   "source": [
    "nombres = []\n",
    "enlaces = []\n",
    "\n",
    "# Encuentra todos los elementos 'article' con la clase 'simple-image'\n",
    "articles = tcolombia_soup.find_all('article', class_='simple-image')\n",
    "\n",
    "for article in articles:\n",
    "    # Encuentra el elemento 'a' dentro del 'article' con la clase 'boton'\n",
    "    link = article.find('a', class_='boton')\n",
    "    if link:\n",
    "        # Extrae el texto y el atributo 'href' del enlace\n",
    "        nombre = link.get_text()\n",
    "        enlace = url_dia_columns+link['href']\n",
    "        \n",
    "        nombres.append(nombre)\n",
    "        enlaces.append(enlace)"
   ]
  },
  {
   "cell_type": "code",
   "execution_count": 292,
   "metadata": {},
   "outputs": [
    {
     "data": {
      "text/html": [
       "<div>\n",
       "<style scoped>\n",
       "    .dataframe tbody tr th:only-of-type {\n",
       "        vertical-align: middle;\n",
       "    }\n",
       "\n",
       "    .dataframe tbody tr th {\n",
       "        vertical-align: top;\n",
       "    }\n",
       "\n",
       "    .dataframe thead th {\n",
       "        text-align: right;\n",
       "    }\n",
       "</style>\n",
       "<table border=\"1\" class=\"dataframe\">\n",
       "  <thead>\n",
       "    <tr style=\"text-align: right;\">\n",
       "      <th></th>\n",
       "      <th>Nombre</th>\n",
       "      <th>Enlace</th>\n",
       "    </tr>\n",
       "  </thead>\n",
       "  <tbody>\n",
       "    <tr>\n",
       "      <th>0</th>\n",
       "      <td>Rodolfo Hernández no se ha sometido a cirugía ...</td>\n",
       "      <td>https://www.eltiempo.com//colombia/colombia/sa...</td>\n",
       "    </tr>\n",
       "    <tr>\n",
       "      <th>1</th>\n",
       "      <td>Estos son los 310 candidatos al Concejo de Med...</td>\n",
       "      <td>https://www.eltiempo.com//colombia/colombia/me...</td>\n",
       "    </tr>\n",
       "    <tr>\n",
       "      <th>2</th>\n",
       "      <td>Estos son los candidatos a Alcaldía de Florida...</td>\n",
       "      <td>https://www.eltiempo.com//colombia/colombia/sa...</td>\n",
       "    </tr>\n",
       "    <tr>\n",
       "      <th>3</th>\n",
       "      <td>Elecciones 2023: los candidatos que van por la...</td>\n",
       "      <td>https://www.eltiempo.com//colombia/colombia/me...</td>\n",
       "    </tr>\n",
       "    <tr>\n",
       "      <th>4</th>\n",
       "      <td>Cartagena tiene 15 candidatos inscritos a la A...</td>\n",
       "      <td>https://www.eltiempo.com//colombia/colombia/ot...</td>\n",
       "    </tr>\n",
       "    <tr>\n",
       "      <th>5</th>\n",
       "      <td>Elecciones 2023: los candidatos que aspiran a ...</td>\n",
       "      <td>https://www.eltiempo.com//colombia/colombia/ot...</td>\n",
       "    </tr>\n",
       "  </tbody>\n",
       "</table>\n",
       "</div>"
      ],
      "text/plain": [
       "                                              Nombre  \\\n",
       "0  Rodolfo Hernández no se ha sometido a cirugía ...   \n",
       "1  Estos son los 310 candidatos al Concejo de Med...   \n",
       "2  Estos son los candidatos a Alcaldía de Florida...   \n",
       "3  Elecciones 2023: los candidatos que van por la...   \n",
       "4  Cartagena tiene 15 candidatos inscritos a la A...   \n",
       "5  Elecciones 2023: los candidatos que aspiran a ...   \n",
       "\n",
       "                                              Enlace  \n",
       "0  https://www.eltiempo.com//colombia/colombia/sa...  \n",
       "1  https://www.eltiempo.com//colombia/colombia/me...  \n",
       "2  https://www.eltiempo.com//colombia/colombia/sa...  \n",
       "3  https://www.eltiempo.com//colombia/colombia/me...  \n",
       "4  https://www.eltiempo.com//colombia/colombia/ot...  \n",
       "5  https://www.eltiempo.com//colombia/colombia/ot...  "
      ]
     },
     "execution_count": 292,
     "metadata": {},
     "output_type": "execute_result"
    }
   ],
   "source": [
    "# Crear un DataFrame\n",
    "data = {'Nombre': nombres, 'Enlace': enlaces}\n",
    "noticias_df = pd.DataFrame(data)\n",
    "noticias_df"
   ]
  },
  {
   "cell_type": "code",
   "execution_count": 83,
   "metadata": {},
   "outputs": [
    {
     "data": {
      "text/plain": [
       "['https://www.eltiempo.com//colombia/cali/dilian-francisca-toro-candidata-a-la-gobernacion-del-valle-2023-796507']"
      ]
     },
     "execution_count": 83,
     "metadata": {},
     "output_type": "execute_result"
    }
   ],
   "source": [
    "link_titulos"
   ]
  },
  {
   "cell_type": "code",
   "execution_count": 104,
   "metadata": {},
   "outputs": [
    {
     "ename": "AttributeError",
     "evalue": "'NavigableString' object has no attribute 'get'",
     "output_type": "error",
     "traceback": [
      "\u001b[1;31m---------------------------------------------------------------------------\u001b[0m",
      "\u001b[1;31mAttributeError\u001b[0m                            Traceback (most recent call last)",
      "Cell \u001b[1;32mIn[104], line 6\u001b[0m\n\u001b[0;32m      4\u001b[0m \u001b[39m#Lista Secciones\u001b[39;00m\n\u001b[0;32m      5\u001b[0m nombre_titulos\u001b[39m=\u001b[39m[ntitulos\u001b[39m.\u001b[39mget_text() \u001b[39mfor\u001b[39;00m ntitulos \u001b[39min\u001b[39;00m titulos]\n\u001b[1;32m----> 6\u001b[0m link_titulos\u001b[39m=\u001b[39m[url \u001b[39m+\u001b[39m ltitulos\u001b[39m.\u001b[39mget(\u001b[39m'\u001b[39m\u001b[39mhref\u001b[39m\u001b[39m'\u001b[39m) \u001b[39mfor\u001b[39;00m ltitulos \u001b[39min\u001b[39;00m titulos]\n",
      "Cell \u001b[1;32mIn[104], line 6\u001b[0m, in \u001b[0;36m<listcomp>\u001b[1;34m(.0)\u001b[0m\n\u001b[0;32m      4\u001b[0m \u001b[39m#Lista Secciones\u001b[39;00m\n\u001b[0;32m      5\u001b[0m nombre_titulos\u001b[39m=\u001b[39m[ntitulos\u001b[39m.\u001b[39mget_text() \u001b[39mfor\u001b[39;00m ntitulos \u001b[39min\u001b[39;00m titulos]\n\u001b[1;32m----> 6\u001b[0m link_titulos\u001b[39m=\u001b[39m[url \u001b[39m+\u001b[39m ltitulos\u001b[39m.\u001b[39;49mget(\u001b[39m'\u001b[39m\u001b[39mhref\u001b[39m\u001b[39m'\u001b[39m) \u001b[39mfor\u001b[39;00m ltitulos \u001b[39min\u001b[39;00m titulos]\n",
      "File \u001b[1;32md:\\_DATA ENGINEER\\Mapping-Data-With-Python-and-SQL\\.venv\\lib\\site-packages\\bs4\\element.py:984\u001b[0m, in \u001b[0;36mNavigableString.__getattr__\u001b[1;34m(self, attr)\u001b[0m\n\u001b[0;32m    982\u001b[0m     \u001b[39mreturn\u001b[39;00m \u001b[39mself\u001b[39m\n\u001b[0;32m    983\u001b[0m \u001b[39melse\u001b[39;00m:\n\u001b[1;32m--> 984\u001b[0m     \u001b[39mraise\u001b[39;00m \u001b[39mAttributeError\u001b[39;00m(\n\u001b[0;32m    985\u001b[0m         \u001b[39m\"\u001b[39m\u001b[39m'\u001b[39m\u001b[39m%s\u001b[39;00m\u001b[39m'\u001b[39m\u001b[39m object has no attribute \u001b[39m\u001b[39m'\u001b[39m\u001b[39m%s\u001b[39;00m\u001b[39m'\u001b[39m\u001b[39m\"\u001b[39m \u001b[39m%\u001b[39m (\n\u001b[0;32m    986\u001b[0m             \u001b[39mself\u001b[39m\u001b[39m.\u001b[39m\u001b[39m__class__\u001b[39m\u001b[39m.\u001b[39m\u001b[39m__name__\u001b[39m, attr))\n",
      "\u001b[1;31mAttributeError\u001b[0m: 'NavigableString' object has no attribute 'get'"
     ]
    }
   ],
   "source": [
    "titulos=[]\n",
    "titulos=tcolombia_soup.find('a',attrs={'class':'multimediatag page-link'})\n",
    "\n",
    "#Lista Secciones\n",
    "nombre_titulos=[ntitulos.get_text() for ntitulos in titulos]\n",
    "link_titulos=[url + ltitulos.get('href') for ltitulos in titulos]"
   ]
  },
  {
   "cell_type": "code",
   "execution_count": 101,
   "metadata": {},
   "outputs": [
    {
     "data": {
      "text/plain": [
       "['',\n",
       " 'Santander',\n",
       " '\\n',\n",
       " 'Estos son los candidatos a Alcaldía de Floridablanca',\n",
       " '',\n",
       " 'Medellín',\n",
       " '\\n',\n",
       " 'Elecciones 2023: los candidatos que van por la Alcaldía de Medellín',\n",
       " '',\n",
       " 'Otras Ciudades',\n",
       " '\\n',\n",
       " 'Cartagena tiene 15 candidatos inscritos a la Alcaldía',\n",
       " '',\n",
       " 'Otras Ciudades',\n",
       " '\\n',\n",
       " 'Elecciones 2023: los candidatos que aspiran a la Alcaldía de Neiva']"
      ]
     },
     "execution_count": 101,
     "metadata": {},
     "output_type": "execute_result"
    }
   ],
   "source": [
    "nombre_titulos"
   ]
  }
 ],
 "metadata": {
  "kernelspec": {
   "display_name": ".venv",
   "language": "python",
   "name": "python3"
  },
  "language_info": {
   "codemirror_mode": {
    "name": "ipython",
    "version": 3
   },
   "file_extension": ".py",
   "mimetype": "text/x-python",
   "name": "python",
   "nbconvert_exporter": "python",
   "pygments_lexer": "ipython3",
   "version": "3.10.8"
  },
  "orig_nbformat": 4
 },
 "nbformat": 4,
 "nbformat_minor": 2
}
