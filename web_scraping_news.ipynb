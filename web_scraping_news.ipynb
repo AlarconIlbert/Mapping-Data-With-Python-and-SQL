{
 "cells": [
  {
   "cell_type": "markdown",
   "metadata": {},
   "source": [
    "Importar librerias"
   ]
  },
  {
   "cell_type": "code",
   "execution_count": 1,
   "metadata": {},
   "outputs": [],
   "source": [
    "import requests\n",
    "from bs4 import BeautifulSoup\n",
    "import pandas as pd"
   ]
  },
  {
   "cell_type": "markdown",
   "metadata": {},
   "source": [
    "definir la URL y realizar conexion esperando respuesta con estatus 200"
   ]
  },
  {
   "cell_type": "code",
   "execution_count": 2,
   "metadata": {},
   "outputs": [
    {
     "data": {
      "text/plain": [
       "200"
      ]
     },
     "execution_count": 2,
     "metadata": {},
     "output_type": "execute_result"
    }
   ],
   "source": [
    "url='https://www.eltiempo.com/'\n",
    "tiempo=requests.get(url)\n",
    "tiempo.status_code"
   ]
  },
  {
   "cell_type": "markdown",
   "metadata": {},
   "source": [
    "Crear sopa de letras con la url"
   ]
  },
  {
   "cell_type": "code",
   "execution_count": 3,
   "metadata": {},
   "outputs": [
    {
     "data": {
      "text/plain": [
       "bs4.BeautifulSoup"
      ]
     },
     "execution_count": 3,
     "metadata": {},
     "output_type": "execute_result"
    }
   ],
   "source": [
    "tiempo_soup=BeautifulSoup(tiempo.text,'lxml')\n",
    "type(tiempo_soup)"
   ]
  },
  {
   "cell_type": "markdown",
   "metadata": {},
   "source": [
    "Creando lista con secciones"
   ]
  },
  {
   "cell_type": "code",
   "execution_count": 4,
   "metadata": {},
   "outputs": [],
   "source": [
    "secciones=tiempo_soup.find('ul',attrs={'class':'default-menu'}).find_all('li')\n",
    "\n",
    "# Usando list comprehension\n",
    "#lista_notas = [url + article.a.get('href') for article in articles.find_all('div', attrs={'class': 'article-item__content'}) if article.a]\n",
    "\n",
    "#Lista Secciones\n",
    "nombre_secciones=[nseccion.a.get_text('href') for nseccion in secciones]\n",
    "link_secciones=[url + lseccion.a.get('href') for lseccion in secciones]"
   ]
  },
  {
   "cell_type": "code",
   "execution_count": 5,
   "metadata": {},
   "outputs": [
    {
     "data": {
      "text/plain": [
       "['Opinión',\n",
       " 'Colombia',\n",
       " 'Bogotá',\n",
       " 'Internacional',\n",
       " 'Política',\n",
       " 'Justicia',\n",
       " 'Economía',\n",
       " 'Deportes',\n",
       " 'Cultura',\n",
       " 'Tecnología',\n",
       " 'Vida',\n",
       " 'Unidad Investigativa',\n",
       " 'Salud']"
      ]
     },
     "execution_count": 5,
     "metadata": {},
     "output_type": "execute_result"
    }
   ],
   "source": [
    "nombre_secciones"
   ]
  },
  {
   "cell_type": "code",
   "execution_count": 6,
   "metadata": {},
   "outputs": [
    {
     "data": {
      "text/plain": [
       "['https://www.eltiempo.com//opinion',\n",
       " 'https://www.eltiempo.com//colombia',\n",
       " 'https://www.eltiempo.com//bogota',\n",
       " 'https://www.eltiempo.com//mundo',\n",
       " 'https://www.eltiempo.com//politica',\n",
       " 'https://www.eltiempo.com//justicia',\n",
       " 'https://www.eltiempo.com//economia',\n",
       " 'https://www.eltiempo.com//deportes',\n",
       " 'https://www.eltiempo.com//cultura',\n",
       " 'https://www.eltiempo.com//tecnosfera',\n",
       " 'https://www.eltiempo.com//vida',\n",
       " 'https://www.eltiempo.com//unidad-investigativa',\n",
       " 'https://www.eltiempo.com//salud']"
      ]
     },
     "execution_count": 6,
     "metadata": {},
     "output_type": "execute_result"
    }
   ],
   "source": [
    "link_secciones"
   ]
  },
  {
   "cell_type": "code",
   "execution_count": 7,
   "metadata": {},
   "outputs": [],
   "source": [
    "secciones_data = {'nombre_seccion': nombre_secciones, 'Enlace': link_secciones}\n",
    "secciones_df = pd.DataFrame(secciones_data)\n",
    "#secciones_df = secciones_df[~secciones_df['nombre_seccion'].str.contains('opinión', case=False)]"
   ]
  },
  {
   "cell_type": "markdown",
   "metadata": {},
   "source": [
    "Columnistas de opinion por dia"
   ]
  },
  {
   "cell_type": "code",
   "execution_count": 8,
   "metadata": {},
   "outputs": [],
   "source": [
    "url_dia_columns=('https://www.eltiempo.com//colombia')\n",
    "dia_columns=requests.get(url_dia_columns)\n",
    "dia_columns.status_code\n",
    "\n",
    "tcolombia_soup=BeautifulSoup(dia_columns.text,'lxml')"
   ]
  },
  {
   "cell_type": "code",
   "execution_count": 9,
   "metadata": {},
   "outputs": [],
   "source": [
    "def obtener_rutas(s_nota):\n",
    "\n",
    "    nombres = []\n",
    "    enlaces = []\n",
    "\n",
    "    # Encuentra todos los elementos 'a' con la clase 'page-link'\n",
    "    noticias = s_nota.find_all('a', class_='boton page-link')\n",
    "\n",
    "    # Itera a través de las noticias y extrae los nombres y enlaces\n",
    "    for noticia in noticias:\n",
    "        nombre = noticia.text.strip()  # Extrae el nombre de la noticia\n",
    "        enlace = url+noticia['href']  # Obtiene el enlace de la noticia\n",
    "            \n",
    "        nombres.append(nombre)\n",
    "        enlaces.append(enlace)\n",
    "\n",
    "    ##.-.------\n",
    "    # Encuentra todos los elementos 'a' con la clase 'page-link'\n",
    "    primera = s_nota.find_all('article', class_='col2 notas principal main-module-bk play-inline contenido-exclusivo-icon')\n",
    "\n",
    "    # Itera a través de las noticias y extrae los nombres y enlaces\n",
    "    for noticia in primera:\n",
    "        nombre = noticia.find('h3', class_='titulo').text.strip()\n",
    "        enlace = url+noticia.find('a', class_='elecciones_titulo_uno')['href']\n",
    "            \n",
    "        nombres.append(nombre)\n",
    "        enlaces.append(enlace)\n",
    "\n",
    "    ##.-.------\n",
    "    # Encuentra todos los elementos 'a' con la clase 'page-link'\n",
    "    segunda = s_nota.find_all('article', class_='main')\n",
    "\n",
    "    # Itera a través de las noticias y extrae los nombres y enlaces\n",
    "    for noticia1 in segunda:\n",
    "        nombre = noticia1.find('a', class_='title page-link').text.strip()\n",
    "        enlace = url+noticia1.find('a', class_='title page-link')['href']\n",
    "            \n",
    "        nombres.append(nombre)\n",
    "        enlaces.append(enlace)\n",
    "\n",
    "    ##.-.------\n",
    "    # Encuentra todos los elementos 'a' con la clase 'page-link'\n",
    "    tercera = s_nota.find_all('article', class_='image-left')\n",
    "\n",
    "    # Itera a través de las noticias y extrae los nombres y enlaces\n",
    "    for noticia1 in tercera:\n",
    "        nombre = noticia1.find('a', class_='title page-link').text.strip()\n",
    "        enlace = url+noticia1.find('a', class_='title page-link')['href']\n",
    "            \n",
    "        nombres.append(nombre)\n",
    "        enlaces.append(enlace)\n",
    "\n",
    "    # Crear un DataFrame\n",
    "    data = {'Nombre': nombres, 'Enlace': enlaces}\n",
    "    noticias_df = pd.DataFrame(data)\n",
    "    return noticias_df"
   ]
  },
  {
   "cell_type": "code",
   "execution_count": 10,
   "metadata": {},
   "outputs": [],
   "source": [
    "df=obtener_rutas(tcolombia_soup)"
   ]
  },
  {
   "cell_type": "markdown",
   "metadata": {},
   "source": [
    "------"
   ]
  },
  {
   "cell_type": "markdown",
   "metadata": {},
   "source": [
    "Extraccion de informacion de noticias"
   ]
  },
  {
   "cell_type": "code",
   "execution_count": 11,
   "metadata": {},
   "outputs": [],
   "source": [
    "url_nota=('https://www.eltiempo.com/colombia/otras-ciudades/temblor-en-colombia-balance-de-danos-en-el-calvario-meta-tras-sismo-797488')"
   ]
  },
  {
   "cell_type": "code",
   "execution_count": 22,
   "metadata": {},
   "outputs": [],
   "source": [
    "def extaer_informacion(df):\n",
    "\n",
    "    nota_nombre=[]\n",
    "    nota_enlace=[]\n",
    "    nota_encab=[]\n",
    "    nota_fecha=[]\n",
    "    nota_cuerpo=[]\n",
    "    nota_imagen=[]\n",
    "\n",
    "    for index in range(len(df)):\n",
    "        url_nota=df.loc[index, 'Enlace']\n",
    "        titular = df.loc[index, 'Nombre']\n",
    "        nota_nombre.append(titular)\n",
    "\n",
    "        try:\n",
    "            \n",
    "            nota=requests.get(url_nota)\n",
    "            if nota.status_code==200:\n",
    "                s_nota=BeautifulSoup(nota.text,'lxml')\n",
    "\n",
    "                #Extraer el resumen\n",
    "                encabezado=s_nota.find('div',class_='epigraph-container lead')\n",
    "                nota_encab.append(encabezado.text)\n",
    "\n",
    "                #Extraer fecha y hora de publicacion\n",
    "                fecha=s_nota.find('div',class_='img_info h-seccion')\n",
    "                fecha=fecha.find('span',class_='publishedAt').text\n",
    "                nota_fecha.append(fecha)\n",
    "                \n",
    "                cuerpo1=\"\"\n",
    "                cuerpo=s_nota.find('div',class_='articulo-contenido')\n",
    "                cuerpo=cuerpo.find_all('p',class_='contenido')\n",
    "                cuerpo1=\" \".join([p.get_text().strip() for p in cuerpo])\n",
    "                nota_cuerpo.append(cuerpo1)\n",
    "            \n",
    "                try:\n",
    "                    media =url+s_nota.find('div', class_='imagen-cuerpo-bk').img.get('src')\n",
    "                    img_req = requests.get(media)\n",
    "                    if img_req.status_code == 200:\n",
    "                        nota_imagen.append(media)\n",
    "                    else:\n",
    "                        media =None\n",
    "                        nota_imagen.append(media)\n",
    "                except:\n",
    "                    media =None\n",
    "                    nota_imagen.append(media)\n",
    "        except Exception as e:\n",
    "            print('Error:')\n",
    "            print(e)\n",
    "            print('\\n')\n",
    "        # Crear un DataFrame\n",
    "        data = {'titular':nota_nombre,'encabezado':nota_encab,'fecha':nota_fecha,'cuerpo':nota_cuerpo,'imagen':nota_imagen}\n",
    "        noticias_df = pd.DataFrame(data)\n",
    "    return noticias_df"
   ]
  },
  {
   "cell_type": "code",
   "execution_count": 24,
   "metadata": {},
   "outputs": [],
   "source": [
    "data=extaer_informacion(df)"
   ]
  },
  {
   "cell_type": "code",
   "execution_count": 30,
   "metadata": {},
   "outputs": [],
   "source": [
    "data.to_csv('pru.csv', sep='|', index=False)"
   ]
  }
 ],
 "metadata": {
  "kernelspec": {
   "display_name": ".venv",
   "language": "python",
   "name": "python3"
  },
  "language_info": {
   "codemirror_mode": {
    "name": "ipython",
    "version": 3
   },
   "file_extension": ".py",
   "mimetype": "text/x-python",
   "name": "python",
   "nbconvert_exporter": "python",
   "pygments_lexer": "ipython3",
   "version": "3.10.8"
  },
  "orig_nbformat": 4
 },
 "nbformat": 4,
 "nbformat_minor": 2
}
