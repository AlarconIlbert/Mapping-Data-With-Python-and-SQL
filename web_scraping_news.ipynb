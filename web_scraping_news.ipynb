{
 "cells": [
  {
   "cell_type": "markdown",
   "metadata": {},
   "source": [
    "Importar librerias"
   ]
  },
  {
   "cell_type": "code",
   "execution_count": 20,
   "metadata": {},
   "outputs": [],
   "source": [
    "import requests\n",
    "from bs4 import BeautifulSoup\n",
    "import pandas as pd"
   ]
  },
  {
   "cell_type": "markdown",
   "metadata": {},
   "source": [
    "definir la URL y realizar conexion esperando respuesta con estatus 200"
   ]
  },
  {
   "cell_type": "code",
   "execution_count": 21,
   "metadata": {},
   "outputs": [
    {
     "data": {
      "text/plain": [
       "200"
      ]
     },
     "execution_count": 21,
     "metadata": {},
     "output_type": "execute_result"
    }
   ],
   "source": [
    "url='https://www.eltiempo.com/'\n",
    "tiempo=requests.get(url)\n",
    "tiempo.status_code"
   ]
  },
  {
   "cell_type": "markdown",
   "metadata": {},
   "source": [
    "Crear sopa de letras con la url"
   ]
  },
  {
   "cell_type": "code",
   "execution_count": 22,
   "metadata": {},
   "outputs": [
    {
     "data": {
      "text/plain": [
       "bs4.BeautifulSoup"
      ]
     },
     "execution_count": 22,
     "metadata": {},
     "output_type": "execute_result"
    }
   ],
   "source": [
    "tiempo_soup=BeautifulSoup(tiempo.text,'lxml')\n",
    "type(tiempo_soup)"
   ]
  },
  {
   "cell_type": "markdown",
   "metadata": {},
   "source": [
    "Creando lista con secciones"
   ]
  },
  {
   "cell_type": "code",
   "execution_count": 23,
   "metadata": {},
   "outputs": [],
   "source": [
    "secciones=tiempo_soup.find('ul',attrs={'class':'default-menu'}).find_all('li')\n",
    "\n",
    "# Usando list comprehension\n",
    "#lista_notas = [url + article.a.get('href') for article in articles.find_all('div', attrs={'class': 'article-item__content'}) if article.a]\n",
    "\n",
    "#Lista Secciones\n",
    "nombre_secciones=[nseccion.a.get_text('href') for nseccion in secciones]\n",
    "link_secciones=[url + lseccion.a.get('href') for lseccion in secciones]"
   ]
  },
  {
   "cell_type": "code",
   "execution_count": 24,
   "metadata": {},
   "outputs": [
    {
     "data": {
      "text/plain": [
       "['Opinión',\n",
       " 'Colombia',\n",
       " 'Bogotá',\n",
       " 'Internacional',\n",
       " 'Política',\n",
       " 'Justicia',\n",
       " 'Economía',\n",
       " 'Deportes',\n",
       " 'Cultura',\n",
       " 'Tecnología',\n",
       " 'Vida',\n",
       " 'Unidad Investigativa',\n",
       " 'Salud']"
      ]
     },
     "execution_count": 24,
     "metadata": {},
     "output_type": "execute_result"
    }
   ],
   "source": [
    "nombre_secciones"
   ]
  },
  {
   "cell_type": "code",
   "execution_count": 25,
   "metadata": {},
   "outputs": [
    {
     "data": {
      "text/plain": [
       "['https://www.eltiempo.com//opinion',\n",
       " 'https://www.eltiempo.com//colombia',\n",
       " 'https://www.eltiempo.com//bogota',\n",
       " 'https://www.eltiempo.com//mundo',\n",
       " 'https://www.eltiempo.com//politica',\n",
       " 'https://www.eltiempo.com//justicia',\n",
       " 'https://www.eltiempo.com//economia',\n",
       " 'https://www.eltiempo.com//deportes',\n",
       " 'https://www.eltiempo.com//cultura',\n",
       " 'https://www.eltiempo.com//tecnosfera',\n",
       " 'https://www.eltiempo.com//vida',\n",
       " 'https://www.eltiempo.com//unidad-investigativa',\n",
       " 'https://www.eltiempo.com//salud']"
      ]
     },
     "execution_count": 25,
     "metadata": {},
     "output_type": "execute_result"
    }
   ],
   "source": [
    "link_secciones"
   ]
  },
  {
   "cell_type": "code",
   "execution_count": 26,
   "metadata": {},
   "outputs": [],
   "source": [
    "secciones_data = {'nombre_seccion': nombre_secciones, 'Enlace': link_secciones}\n",
    "secciones_df = pd.DataFrame(secciones_data)\n",
    "#secciones_df = secciones_df[~secciones_df['nombre_seccion'].str.contains('opinión', case=False)]"
   ]
  },
  {
   "cell_type": "markdown",
   "metadata": {},
   "source": [
    "Columnistas de opinion por dia"
   ]
  },
  {
   "cell_type": "code",
   "execution_count": 27,
   "metadata": {},
   "outputs": [],
   "source": [
    "url_dia_columns=('https://www.eltiempo.com//colombia')\n",
    "dia_columns=requests.get(url_dia_columns)\n",
    "dia_columns.status_code\n",
    "\n",
    "tcolombia_soup=BeautifulSoup(dia_columns.text,'lxml')"
   ]
  },
  {
   "cell_type": "code",
   "execution_count": 28,
   "metadata": {},
   "outputs": [],
   "source": [
    "nombres = []\n",
    "enlaces = []\n",
    "\n",
    "# Encuentra todos los elementos 'a' con la clase 'page-link'\n",
    "noticias = tcolombia_soup.find_all('a', class_='boton page-link')\n",
    "\n",
    "# Itera a través de las noticias y extrae los nombres y enlaces\n",
    "for noticia in noticias:\n",
    "    nombre = noticia.text.strip()  # Extrae el nombre de la noticia\n",
    "    enlace = url+noticia['href']  # Obtiene el enlace de la noticia\n",
    "        \n",
    "    nombres.append(nombre)\n",
    "    enlaces.append(enlace)\n",
    "\n",
    "##.-.------\n",
    "# Encuentra todos los elementos 'a' con la clase 'page-link'\n",
    "primera = tcolombia_soup.find_all('article', class_='col2 notas principal main-module-bk play-inline contenido-exclusivo-icon')\n",
    "\n",
    "# Itera a través de las noticias y extrae los nombres y enlaces\n",
    "for noticia in primera:\n",
    "    nombre = noticia.find('h3', class_='titulo').text.strip()\n",
    "    enlace = url+noticia.find('a', class_='elecciones_titulo_uno')['href']\n",
    "        \n",
    "    nombres.append(nombre)\n",
    "    enlaces.append(enlace)\n",
    "\n",
    "##.-.------\n",
    "# Encuentra todos los elementos 'a' con la clase 'page-link'\n",
    "segunda = tcolombia_soup.find_all('article', class_='main')\n",
    "\n",
    "# Itera a través de las noticias y extrae los nombres y enlaces\n",
    "for noticia1 in segunda:\n",
    "    nombre = noticia1.find('a', class_='title page-link').text.strip()\n",
    "    enlace = url+noticia1.find('a', class_='title page-link')['href']\n",
    "        \n",
    "    nombres.append(nombre)\n",
    "    enlaces.append(enlace)\n",
    "\n",
    "##.-.------\n",
    "# Encuentra todos los elementos 'a' con la clase 'page-link'\n",
    "tercera = tcolombia_soup.find_all('article', class_='image-left')\n",
    "\n",
    "# Itera a través de las noticias y extrae los nombres y enlaces\n",
    "for noticia1 in tercera:\n",
    "    nombre = noticia1.find('a', class_='title page-link').text.strip()\n",
    "    enlace = url+noticia1.find('a', class_='title page-link')['href']\n",
    "        \n",
    "    nombres.append(nombre)\n",
    "    enlaces.append(enlace)"
   ]
  },
  {
   "cell_type": "code",
   "execution_count": 29,
   "metadata": {},
   "outputs": [
    {
     "data": {
      "text/html": [
       "<div>\n",
       "<style scoped>\n",
       "    .dataframe tbody tr th:only-of-type {\n",
       "        vertical-align: middle;\n",
       "    }\n",
       "\n",
       "    .dataframe tbody tr th {\n",
       "        vertical-align: top;\n",
       "    }\n",
       "\n",
       "    .dataframe thead th {\n",
       "        text-align: right;\n",
       "    }\n",
       "</style>\n",
       "<table border=\"1\" class=\"dataframe\">\n",
       "  <thead>\n",
       "    <tr style=\"text-align: right;\">\n",
       "      <th></th>\n",
       "      <th>Nombre</th>\n",
       "      <th>Enlace</th>\n",
       "    </tr>\n",
       "  </thead>\n",
       "  <tbody>\n",
       "    <tr>\n",
       "      <th>0</th>\n",
       "      <td>Rodolfo Hernández no se ha sometido a cirugía ...</td>\n",
       "      <td>https://www.eltiempo.com//colombia/santander/r...</td>\n",
       "    </tr>\n",
       "    <tr>\n",
       "      <th>1</th>\n",
       "      <td>Estos son los 310 candidatos al Concejo de Med...</td>\n",
       "      <td>https://www.eltiempo.com//colombia/medellin/me...</td>\n",
       "    </tr>\n",
       "    <tr>\n",
       "      <th>2</th>\n",
       "      <td>Estos son los candidatos a Alcaldía de Florida...</td>\n",
       "      <td>https://www.eltiempo.com//colombia/santander/f...</td>\n",
       "    </tr>\n",
       "    <tr>\n",
       "      <th>3</th>\n",
       "      <td>Elecciones 2023: los candidatos que van por la...</td>\n",
       "      <td>https://www.eltiempo.com//colombia/medellin/el...</td>\n",
       "    </tr>\n",
       "    <tr>\n",
       "      <th>4</th>\n",
       "      <td>Cartagena tiene 15 candidatos inscritos a la A...</td>\n",
       "      <td>https://www.eltiempo.com//colombia/otras-ciuda...</td>\n",
       "    </tr>\n",
       "  </tbody>\n",
       "</table>\n",
       "</div>"
      ],
      "text/plain": [
       "                                              Nombre  \\\n",
       "0  Rodolfo Hernández no se ha sometido a cirugía ...   \n",
       "1  Estos son los 310 candidatos al Concejo de Med...   \n",
       "2  Estos son los candidatos a Alcaldía de Florida...   \n",
       "3  Elecciones 2023: los candidatos que van por la...   \n",
       "4  Cartagena tiene 15 candidatos inscritos a la A...   \n",
       "\n",
       "                                              Enlace  \n",
       "0  https://www.eltiempo.com//colombia/santander/r...  \n",
       "1  https://www.eltiempo.com//colombia/medellin/me...  \n",
       "2  https://www.eltiempo.com//colombia/santander/f...  \n",
       "3  https://www.eltiempo.com//colombia/medellin/el...  \n",
       "4  https://www.eltiempo.com//colombia/otras-ciuda...  "
      ]
     },
     "execution_count": 29,
     "metadata": {},
     "output_type": "execute_result"
    }
   ],
   "source": [
    "# Crear un DataFrame\n",
    "data = {'Nombre': nombres, 'Enlace': enlaces}\n",
    "noticias_df = pd.DataFrame(data)\n",
    "noticias_df.head(5)"
   ]
  },
  {
   "cell_type": "code",
   "execution_count": 30,
   "metadata": {},
   "outputs": [],
   "source": [
    "noticias_df.to_csv('pru.csv')"
   ]
  },
  {
   "cell_type": "markdown",
   "metadata": {},
   "source": [
    "------"
   ]
  },
  {
   "cell_type": "markdown",
   "metadata": {},
   "source": [
    "Extraccion de informacion de noticias"
   ]
  },
  {
   "cell_type": "code",
   "execution_count": 31,
   "metadata": {},
   "outputs": [],
   "source": [
    "url_nota=('https://www.eltiempo.com//colombia/otras-ciudades/temblor-en-colombia-balance-de-danos-en-el-calvario-meta-tras-sismo-797488')"
   ]
  },
  {
   "cell_type": "code",
   "execution_count": 74,
   "metadata": {},
   "outputs": [
    {
     "name": "stdout",
     "output_type": "stream",
     "text": [
      "\n",
      "El municipio del Meta sigue incomunicado por los deslizamientos de tierra de hace 30 días.\n",
      "\n",
      "\n",
      "18 de agosto 2023, 09:15 A. M.\n",
      "\n",
      "\n",
      "Muy compleja es la situación que viven los 2.000 habitantes de El Calvario, en el Meta, epicentro de los movimientos telúricos más fuertes de las últimas horas, y por los deslizamientos que provocaron las lluvias el pasado 17 de julio, que tienen la población incomunicada. El alcalde Wilson Alférez señaló que tiene un reporte de seis casas colapsadas y 70 más con afectaciones y sigue recibiendo reportes, con el propósito de tener un consolidado de la situación de todo el municipio, enclavado en la cordillera Oriental, cuya mayor parte de la población vive en zonas rurales. Las mayores concentraciones de población están en el área urbana, con unos 600 habitantes y en los centros poblados de San Francisco y Monfort y gran parte de las casas son construcciones antiguas construidas en bahareque, que no cumplen las normas de sismo resistencia, son las que mayores afectaciones tuvieron por los movimientos telúricos. Le puede interesar: Así fue la explosión que hace 67 años marcó el renacimiento de CaliLa otra gran dificultad, dice el mandatario, es que el municipio sigue incomunicado por sus cuatro vías de comunicación terrestre, tras los derrumbes que se presentaron sobre las vías hace un mes, pese a los trabajos que se adelantan con maquinaria amarilla pequeña, de su municipio, el trabajo de la comunidad y de los equipos que llegaron para para apoyarlos de la gobernación del Meta. Aseguró que en este momento la mayor preocupación se presenta por la situación de los habitantes de la vereda San Bernardo, en donde casi ni a pie se puede llegar y la familia de la señora Carmelita García, de más de 60 años y quien vive sola, está pidiendo ayuda para poderla evacuar hacia Acacías, también en el Meta. Alférez afirmó que espera concluir de consolidar la información sobre las afectaciones, por los sismos, para presentar un informe a los gobiernos Nacional y del Meta, con el propósito de empezar a recibir las ayudas para las familias y sus municipios lo más pronto posible. NELSON ARDILA ARIAS PARA EL TIEMPO VILLAVICENCIO\n",
      "\n",
      "\n"
     ]
    }
   ],
   "source": [
    "try:\n",
    "    nota=requests.get(url_nota)\n",
    "    if nota.status_code==200:\n",
    "        s_nota=BeautifulSoup(nota.text,'lxml')\n",
    "\n",
    "        #Extraer el resumen\n",
    "        encabezado=s_nota.find('div',class_='epigraph-container lead')\n",
    "        print(encabezado.text)\n",
    "        print('\\n')\n",
    "\n",
    "        #Extraer fecha y hora de publicacion\n",
    "        fecha=s_nota.find('div',class_='img_info h-seccion')\n",
    "        fecha=fecha.find('span',class_='publishedAt').text\n",
    "        print(fecha)\n",
    "        print('\\n')\n",
    "        \n",
    "        \"\"\"title=s_nota.find('div',attrs={'class':'col 2-col'})\n",
    "        print(title.h1.text)\n",
    "        print('\\n')\n",
    "        \n",
    "        pie=s_nota.find('h2',attrs={'class':'h3'})\n",
    "        print(pie.text)\n",
    "        print('\\n')\"\"\"\n",
    "        cuerpo1=\"\"\n",
    "        cuerpo=s_nota.find('div',class_='articulo-contenido')\n",
    "        cuerpo=cuerpo.find_all('p',class_='contenido')\n",
    "        cuerpo1=\" \".join([p.get_text().strip() for p in cuerpo])\n",
    "        print(cuerpo1)\n",
    "        print('\\n')\n",
    "except Exception as e:\n",
    "    print('Error:')\n",
    "    print(e)\n",
    "    print('\\n')"
   ]
  },
  {
   "cell_type": "code",
   "execution_count": 42,
   "metadata": {},
   "outputs": [
    {
     "data": {
      "text/plain": [
       "<div class=\"articulo-autor autor-container\">\n",
       "<div class=\"selection-author hidden\">\n",
       "<div class=\"article-creator seccion\" id=\"p797488-m607-606-608\">\n",
       "<div class=\"orientation\">\n",
       "Seleccione el creador del articulo en configuracion del este modulo\n",
       "</div>\n",
       "<div class=\"img_info h-seccion h-editor\">\n",
       "<span class=\"letters\">S.</span>\n",
       "<div class=\"author_data\">\n",
       "<span class=\"autor\">\n",
       "<span class=\"nombre who\" id=\"m612-611-613\" itemprop=\"name\">Nelson Ardila</span></span>\n",
       "<span class=\"publishedAt\">Hora de publicación del artículo</span>\n",
       "</div>\n",
       "</div>\n",
       "<div class=\"img_info h-author\">\n",
       "<span class=\"letters\"></span>\n",
       "<div class=\"author_data\">\n",
       "<span class=\"who\">Nombre del autor</span>\n",
       "<span class=\"publishedAt\">Hora de publicación del artículo</span>\n",
       "</div>\n",
       "</div>\n",
       "</div></div>\n",
       "<div class=\"img_info h-seccion\" style=\"display: none;\">\n",
       "<span class=\"letters\">\n",
       "N\n",
       "A\n",
       "</span>\n",
       "<div class=\"author_data\">\n",
       "<div itemprop=\"author\" itemscope=\"\" itemtype=\"http://schema.org/Person\">\n",
       "<a class=\"who\" href=\"/noticias/nelson-ardila\">\n",
       "<span class=\"who-modulo who\" itemprop=\"name\"></span>\n",
       "</a>\n",
       "<span class=\"publishedAt\">18 de agosto 2023, 09:15 A. M.</span>\n",
       "</div>\n",
       "</div>\n",
       "<div class=\"canales-whatsapp\">\n",
       "<div class=\"btn-unirse-whatsapp\">\n",
       "<a class=\"btn-unirse-whatsapp--url\" data-name=\"colombia/otras-ciudades\" target=\"_blank\">\n",
       "Unirse a WhatsApp\n",
       "</a>\n",
       "</div>\n",
       "</div>\n",
       "</div>\n",
       "<div class=\"img_info h-author\" style=\"display: none;\">\n",
       "<span class=\"letters\">\n",
       "MI\n",
       "</span>\n",
       "<div class=\"author_data\">\n",
       "<div itemprop=\"author\" itemscope=\"\" itemtype=\"http://schema.org/Person\">\n",
       "<a class=\"who\" href=\"/noticias/miguel-angel-espinosa-borrero\"><span class=\"who\" itemprop=\"name\">Miguel Ángel Espinosa Borrero</span></a>\n",
       "</div>\n",
       "<span class=\"publishedAt\">18 de agosto 2023, 09:15 A. M.</span>\n",
       "</div>\n",
       "<div class=\"canales-whatsapp\">\n",
       "<div class=\"btn-unirse-whatsapp\">\n",
       "<a class=\"btn-unirse-whatsapp--url\" data-name=\"colombia/otras-ciudades\" target=\"_blank\">\n",
       "Unirse a WhatsApp\n",
       "</a>\n",
       "</div>\n",
       "</div>\n",
       "</div>\n",
       "<div class=\"compartir-seguir-comentar\">\n",
       "<div class=\"redes_articulo\">\n",
       "<ul><li>\n",
       "<a class=\"facebook\" data-gtm-social-provider=\"facebook\" data-share=\"facebook\" href=\"https://www.facebook.com/sharer/sharer.php?u=https://www.eltiempo.com/colombia/otras-ciudades/temblor-en-colombia-balance-de-danos-en-el-calvario-meta-tras-sismo-797488\" name=\"Facebook\" rel=\"nofollow\" target=\"_blank\">\n",
       "</a>\n",
       "</li>\n",
       "<li>\n",
       "<a class=\"twitter\" data-gtm-social-provider=\"twitter\" data-share=\"twitter\" href=\"https://twitter.com/intent/tweet?text=En%20El%20Calvario,%20Meta,%20seis%20casas%20colapsaron%20y%2070%20m%C3%A1s%20resultaron%20afectadas&amp;url=https://www.eltiempo.com/colombia/otras-ciudades/temblor-en-colombia-balance-de-danos-en-el-calvario-meta-tras-sismo-797488\" name=\"Twitter\" rel=\"nofollow\" target=\"_blank\">\n",
       "</a>\n",
       "</li>\n",
       "<li>\n",
       "<a class=\"whastapp\" data-action=\"share/whatsapp/share\" data-gtm-social-provider=\"whatsapp\" data-share=\"whatsapp\" href=\"https://web.whatsapp.com/send?text=https%3A%2F%2Fwww.eltiempo.com%2Fcolombia%2Fotras-ciudades%2Ftemblor-en-colombia-balance-de-danos-en-el-calvario-meta-tras-sismo-797488?utm_source=whatsapp%26utm_medium=enlace%26utm_campaign=CompartirWhatsapp\" id=\"botonWhatsApp\" name=\"Whatsapp\" target=\"_blank\">\n",
       "</a>\n",
       "</li>\n",
       "<li class=\"enviar open-share-by-email-popup ico-rs\">\n",
       "<a data-share=\"email\" href=\"mailto:\" target=\"_blank\">\n",
       "<i class=\"fas fa-envelope\"></i>\n",
       "</a>\n",
       "</li>\n",
       "<li>\n",
       "<a class=\"linkedin\" data-gtm-social-provider=\"linkedin\" data-share=\"linkedin\" href=\"https://www.linkedin.com/sharing/share-offsite/?url=https%3A%2F%2Fwww.eltiempo.com%2Fcolombia%2Fotras-ciudades%2Ftemblor-en-colombia-balance-de-danos-en-el-calvario-meta-tras-sismo-797488\" name=\"Linked\" rel=\"nofollow\" target=\"_blank\">\n",
       "</a>\n",
       "</li>\n",
       "</ul></div>\n",
       "<div class=\"btn-seguir-comentar no-comments\">\n",
       "<a class=\"btn-seguir enviar open-share-by-email-popup\" data-share=\"email\" href=\"mailto:\" id=\"enviar-tema-mb\" target=\"_blank\">\n",
       "<span class=\"boton-tema-seguir seguir-temas bt-seguir-desktop-bk dtm-profiling-follow\">\n",
       "Enviar\n",
       "</span>\n",
       "<span class=\"span-following\">Otras Ciudades</span>\n",
       "</a>\n",
       "<label class=\"btn-seguir\" id=\"btn-seguir-tema-dt\">\n",
       "<input class=\"otras-ciudades\" data-name=\"colombia/otras-ciudades\" id=\"otras-ciudades\" name=\"Otras Ciudades\" onchange=\"followThemeSection(this)\" type=\"checkbox\"/><div>\n",
       "<span class=\"boton-tema-seguir seguir-temas bt-seguir-desktop-bk dtm-profiling-follow\">\n",
       "<div class=\"boton-tema-seguir-seguir\">Seguir </div>\n",
       "</span>\n",
       "<span class=\"span-following\">Otras Ciudades</span>\n",
       "</div>\n",
       "</label>\n",
       "<a class=\"btn-compartir comentar btn_Texto25\" data-id=\"797488\" href=\"javascript:void(0)\" id=\"btnVerComentarios\">\n",
       "<p>\n",
       "Comentar\n",
       "<span class=\"comentar\" id=\"count-viafoura\"></span>\n",
       "</p>\n",
       "</a>\n",
       "</div>\n",
       "</div>\n",
       "</div>"
      ]
     },
     "execution_count": 42,
     "metadata": {},
     "output_type": "execute_result"
    }
   ],
   "source": [
    "fecha"
   ]
  }
 ],
 "metadata": {
  "kernelspec": {
   "display_name": ".venv",
   "language": "python",
   "name": "python3"
  },
  "language_info": {
   "codemirror_mode": {
    "name": "ipython",
    "version": 3
   },
   "file_extension": ".py",
   "mimetype": "text/x-python",
   "name": "python",
   "nbconvert_exporter": "python",
   "pygments_lexer": "ipython3",
   "version": "3.10.8"
  },
  "orig_nbformat": 4
 },
 "nbformat": 4,
 "nbformat_minor": 2
}
