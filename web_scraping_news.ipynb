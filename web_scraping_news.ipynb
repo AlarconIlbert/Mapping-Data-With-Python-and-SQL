{
 "cells": [
  {
   "cell_type": "markdown",
   "metadata": {},
   "source": [
    "Importar librerias"
   ]
  },
  {
   "cell_type": "code",
   "execution_count": 1,
   "metadata": {},
   "outputs": [],
   "source": [
    "import requests\n",
    "from bs4 import BeautifulSoup\n",
    "import pandas as pd"
   ]
  },
  {
   "cell_type": "markdown",
   "metadata": {},
   "source": [
    "definir la URL y realizar conexion esperando respuesta con estatus 200"
   ]
  },
  {
   "cell_type": "code",
   "execution_count": 2,
   "metadata": {},
   "outputs": [
    {
     "data": {
      "text/plain": [
       "200"
      ]
     },
     "execution_count": 2,
     "metadata": {},
     "output_type": "execute_result"
    }
   ],
   "source": [
    "url='https://www.eltiempo.com/'\n",
    "tiempo=requests.get(url)\n",
    "tiempo.status_code"
   ]
  },
  {
   "cell_type": "markdown",
   "metadata": {},
   "source": [
    "Crear sopa de letras con la url"
   ]
  },
  {
   "cell_type": "code",
   "execution_count": 3,
   "metadata": {},
   "outputs": [
    {
     "data": {
      "text/plain": [
       "bs4.BeautifulSoup"
      ]
     },
     "execution_count": 3,
     "metadata": {},
     "output_type": "execute_result"
    }
   ],
   "source": [
    "tiempo_soup=BeautifulSoup(tiempo.text,'lxml')\n",
    "type(tiempo_soup)"
   ]
  },
  {
   "cell_type": "markdown",
   "metadata": {},
   "source": [
    "Creando lista con secciones"
   ]
  },
  {
   "cell_type": "code",
   "execution_count": 4,
   "metadata": {},
   "outputs": [],
   "source": [
    "secciones=tiempo_soup.find('ul',attrs={'class':'default-menu'}).find_all('li')\n",
    "\n",
    "# Usando list comprehension\n",
    "#lista_notas = [url + article.a.get('href') for article in articles.find_all('div', attrs={'class': 'article-item__content'}) if article.a]\n",
    "\n",
    "#Lista Secciones\n",
    "nombre_secciones=[nseccion.a.get_text('href') for nseccion in secciones]\n",
    "link_secciones=[url + lseccion.a.get('href') for lseccion in secciones]"
   ]
  },
  {
   "cell_type": "code",
   "execution_count": 5,
   "metadata": {},
   "outputs": [
    {
     "data": {
      "text/plain": [
       "['Opinión',\n",
       " 'Colombia',\n",
       " 'Bogotá',\n",
       " 'Internacional',\n",
       " 'Política',\n",
       " 'Justicia',\n",
       " 'Economía',\n",
       " 'Deportes',\n",
       " 'Cultura',\n",
       " 'Tecnología',\n",
       " 'Vida',\n",
       " 'Unidad Investigativa',\n",
       " 'Salud']"
      ]
     },
     "execution_count": 5,
     "metadata": {},
     "output_type": "execute_result"
    }
   ],
   "source": [
    "nombre_secciones"
   ]
  },
  {
   "cell_type": "code",
   "execution_count": 6,
   "metadata": {},
   "outputs": [
    {
     "data": {
      "text/plain": [
       "['https://www.eltiempo.com//opinion',\n",
       " 'https://www.eltiempo.com//colombia',\n",
       " 'https://www.eltiempo.com//bogota',\n",
       " 'https://www.eltiempo.com//mundo',\n",
       " 'https://www.eltiempo.com//politica',\n",
       " 'https://www.eltiempo.com//justicia',\n",
       " 'https://www.eltiempo.com//economia',\n",
       " 'https://www.eltiempo.com//deportes',\n",
       " 'https://www.eltiempo.com//cultura',\n",
       " 'https://www.eltiempo.com//tecnosfera',\n",
       " 'https://www.eltiempo.com//vida',\n",
       " 'https://www.eltiempo.com//unidad-investigativa',\n",
       " 'https://www.eltiempo.com//salud']"
      ]
     },
     "execution_count": 6,
     "metadata": {},
     "output_type": "execute_result"
    }
   ],
   "source": [
    "link_secciones"
   ]
  },
  {
   "cell_type": "code",
   "execution_count": 7,
   "metadata": {},
   "outputs": [],
   "source": [
    "secciones_data = {'nombre_seccion': nombre_secciones, 'Enlace': link_secciones}\n",
    "secciones_df = pd.DataFrame(secciones_data)\n",
    "#secciones_df = secciones_df[~secciones_df['nombre_seccion'].str.contains('opinión', case=False)]"
   ]
  },
  {
   "cell_type": "markdown",
   "metadata": {},
   "source": [
    "Columnistas de opinion por dia"
   ]
  },
  {
   "cell_type": "code",
   "execution_count": 8,
   "metadata": {},
   "outputs": [],
   "source": [
    "url_dia_columns=('https://www.eltiempo.com//colombia')\n",
    "dia_columns=requests.get(url_dia_columns)\n",
    "dia_columns.status_code\n",
    "\n",
    "tcolombia_soup=BeautifulSoup(dia_columns.text,'lxml')"
   ]
  },
  {
   "cell_type": "code",
   "execution_count": 10,
   "metadata": {},
   "outputs": [],
   "source": [
    "nombres = []\n",
    "enlaces = []\n",
    "\n",
    "# Encuentra todos los elementos 'article' con la clase 'simple-image'\n",
    "articles = tcolombia_soup.find_all('article', class_='simple-image')\n",
    "\n",
    "for article in articles:\n",
    "    # Encuentra el elemento 'a' dentro del 'article' con la clase 'boton'\n",
    "    link = article.find('a', class_='boton')\n",
    "    if link:\n",
    "        # Extrae el texto y el atributo 'href' del enlace\n",
    "        nombre = link.get_text()\n",
    "        enlace = url_dia_columns+link['href']\n",
    "        \n",
    "        nombres.append(nombre)\n",
    "        enlaces.append(enlace)"
   ]
  },
  {
   "cell_type": "code",
   "execution_count": 11,
   "metadata": {},
   "outputs": [
    {
     "data": {
      "text/html": [
       "<div>\n",
       "<style scoped>\n",
       "    .dataframe tbody tr th:only-of-type {\n",
       "        vertical-align: middle;\n",
       "    }\n",
       "\n",
       "    .dataframe tbody tr th {\n",
       "        vertical-align: top;\n",
       "    }\n",
       "\n",
       "    .dataframe thead th {\n",
       "        text-align: right;\n",
       "    }\n",
       "</style>\n",
       "<table border=\"1\" class=\"dataframe\">\n",
       "  <thead>\n",
       "    <tr style=\"text-align: right;\">\n",
       "      <th></th>\n",
       "      <th>Nombre</th>\n",
       "      <th>Enlace</th>\n",
       "    </tr>\n",
       "  </thead>\n",
       "  <tbody>\n",
       "    <tr>\n",
       "      <th>0</th>\n",
       "      <td>Rodolfo Hernández no se ha sometido a cirugía ...</td>\n",
       "      <td>https://www.eltiempo.com//colombia/colombia/sa...</td>\n",
       "    </tr>\n",
       "    <tr>\n",
       "      <th>1</th>\n",
       "      <td>Estos son los 310 candidatos al Concejo de Med...</td>\n",
       "      <td>https://www.eltiempo.com//colombia/colombia/me...</td>\n",
       "    </tr>\n",
       "    <tr>\n",
       "      <th>2</th>\n",
       "      <td>Estos son los candidatos a Alcaldía de Florida...</td>\n",
       "      <td>https://www.eltiempo.com//colombia/colombia/sa...</td>\n",
       "    </tr>\n",
       "    <tr>\n",
       "      <th>3</th>\n",
       "      <td>Elecciones 2023: los candidatos que van por la...</td>\n",
       "      <td>https://www.eltiempo.com//colombia/colombia/me...</td>\n",
       "    </tr>\n",
       "    <tr>\n",
       "      <th>4</th>\n",
       "      <td>Cartagena tiene 15 candidatos inscritos a la A...</td>\n",
       "      <td>https://www.eltiempo.com//colombia/colombia/ot...</td>\n",
       "    </tr>\n",
       "    <tr>\n",
       "      <th>5</th>\n",
       "      <td>Elecciones 2023: los candidatos que aspiran a ...</td>\n",
       "      <td>https://www.eltiempo.com//colombia/colombia/ot...</td>\n",
       "    </tr>\n",
       "  </tbody>\n",
       "</table>\n",
       "</div>"
      ],
      "text/plain": [
       "                                              Nombre  \\\n",
       "0  Rodolfo Hernández no se ha sometido a cirugía ...   \n",
       "1  Estos son los 310 candidatos al Concejo de Med...   \n",
       "2  Estos son los candidatos a Alcaldía de Florida...   \n",
       "3  Elecciones 2023: los candidatos que van por la...   \n",
       "4  Cartagena tiene 15 candidatos inscritos a la A...   \n",
       "5  Elecciones 2023: los candidatos que aspiran a ...   \n",
       "\n",
       "                                              Enlace  \n",
       "0  https://www.eltiempo.com//colombia/colombia/sa...  \n",
       "1  https://www.eltiempo.com//colombia/colombia/me...  \n",
       "2  https://www.eltiempo.com//colombia/colombia/sa...  \n",
       "3  https://www.eltiempo.com//colombia/colombia/me...  \n",
       "4  https://www.eltiempo.com//colombia/colombia/ot...  \n",
       "5  https://www.eltiempo.com//colombia/colombia/ot...  "
      ]
     },
     "execution_count": 11,
     "metadata": {},
     "output_type": "execute_result"
    }
   ],
   "source": [
    "# Crear un DataFrame\n",
    "data = {'Nombre': nombres, 'Enlace': enlaces}\n",
    "noticias_df = pd.DataFrame(data)\n",
    "noticias_df"
   ]
  },
  {
   "cell_type": "code",
   "execution_count": 15,
   "metadata": {},
   "outputs": [],
   "source": [
    "nombres = []\n",
    "enlaces = []\n",
    "\n",
    "# Encuentra todos los elementos 'article' con la clase 'simple-image'\n",
    "articles = tcolombia_soup.find_all('article', class_='play-inline')\n",
    "\n",
    "for article in articles:\n",
    "    # Encuentra el elemento 'a' dentro del 'article' con la clase 'boton'\n",
    "    link = article.find('a', class_='title page-link')\n",
    "    if link:\n",
    "        # Extrae el texto y el atributo 'href' del enlace\n",
    "        nombre = link.get_text()\n",
    "        enlace = url+link['href']\n",
    "        \n",
    "        nombres.append(nombre)\n",
    "        enlaces.append(enlace)"
   ]
  },
  {
   "cell_type": "code",
   "execution_count": 16,
   "metadata": {},
   "outputs": [
    {
     "data": {
      "text/plain": [
       "['https://www.eltiempo.com//colombia/otras-ciudades/santa-marta-preocupacion-del-turismo-por-inseguridad-797568']"
      ]
     },
     "execution_count": 16,
     "metadata": {},
     "output_type": "execute_result"
    }
   ],
   "source": [
    "enlaces"
   ]
  },
  {
   "cell_type": "code",
   "execution_count": 17,
   "metadata": {},
   "outputs": [
    {
     "data": {
      "text/html": [
       "<div>\n",
       "<style scoped>\n",
       "    .dataframe tbody tr th:only-of-type {\n",
       "        vertical-align: middle;\n",
       "    }\n",
       "\n",
       "    .dataframe tbody tr th {\n",
       "        vertical-align: top;\n",
       "    }\n",
       "\n",
       "    .dataframe thead th {\n",
       "        text-align: right;\n",
       "    }\n",
       "</style>\n",
       "<table border=\"1\" class=\"dataframe\">\n",
       "  <thead>\n",
       "    <tr style=\"text-align: right;\">\n",
       "      <th></th>\n",
       "      <th>Nombre</th>\n",
       "      <th>Enlace</th>\n",
       "    </tr>\n",
       "  </thead>\n",
       "  <tbody>\n",
       "    <tr>\n",
       "      <th>0</th>\n",
       "      <td>Inseguridad en Santa Marta: gremios hacen llam...</td>\n",
       "      <td>https://www.eltiempo.com//colombia/otras-ciuda...</td>\n",
       "    </tr>\n",
       "  </tbody>\n",
       "</table>\n",
       "</div>"
      ],
      "text/plain": [
       "                                              Nombre  \\\n",
       "0  Inseguridad en Santa Marta: gremios hacen llam...   \n",
       "\n",
       "                                              Enlace  \n",
       "0  https://www.eltiempo.com//colombia/otras-ciuda...  "
      ]
     },
     "execution_count": 17,
     "metadata": {},
     "output_type": "execute_result"
    }
   ],
   "source": [
    "# Crear un DataFrame\n",
    "data = {'Nombre': nombres, 'Enlace': enlaces}\n",
    "noticias_df = pd.DataFrame(data)\n",
    "noticias_df"
   ]
  },
  {
   "cell_type": "code",
   "execution_count": 18,
   "metadata": {},
   "outputs": [],
   "source": [
    "noticias_df.to_csv('pru.csv')"
   ]
  }
 ],
 "metadata": {
  "kernelspec": {
   "display_name": ".venv",
   "language": "python",
   "name": "python3"
  },
  "language_info": {
   "codemirror_mode": {
    "name": "ipython",
    "version": 3
   },
   "file_extension": ".py",
   "mimetype": "text/x-python",
   "name": "python",
   "nbconvert_exporter": "python",
   "pygments_lexer": "ipython3",
   "version": "3.10.8"
  },
  "orig_nbformat": 4
 },
 "nbformat": 4,
 "nbformat_minor": 2
}
