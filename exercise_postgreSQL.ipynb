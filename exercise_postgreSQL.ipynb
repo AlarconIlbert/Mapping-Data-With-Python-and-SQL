{
 "cells": [
  {
   "cell_type": "code",
   "execution_count": 10,
   "metadata": {},
   "outputs": [],
   "source": [
    "import pandas as pd\n",
    "import psycopg2\n",
    "from sqlalchemy import create_engine"
   ]
  },
  {
   "cell_type": "code",
   "execution_count": 2,
   "metadata": {},
   "outputs": [],
   "source": [
    "# Configura los detalles de conexión\n",
    "dbname = \"fast_SQL_python\"  # Reemplaza con el nombre que desees para la nueva base de datos\n",
    "user = \"postgres\"          # Reemplaza con tu nombre de usuario\n",
    "password = \"1qaz0OKM\"   # Reemplaza con tu contraseña\n",
    "host = \"127.0.0.1\"           # Reemplaza con la dirección del servidor PostgreSQL"
   ]
  },
  {
   "cell_type": "code",
   "execution_count": 3,
   "metadata": {},
   "outputs": [
    {
     "name": "stdout",
     "output_type": "stream",
     "text": [
      "Conexión exitosa a la base de datos.\n"
     ]
    }
   ],
   "source": [
    "# verifica que la conexion con la base de datos sea exitosa e imprime un mensaje, adicional crea un cursor\n",
    "\n",
    "cur=None\n",
    "\n",
    "try:\n",
    "    conn = psycopg2.connect(dbname=dbname, user=user, password=password, host=host)\n",
    "    cur=conn.cursor()\n",
    "    print(\"Conexión exitosa a la base de datos.\")\n",
    "except psycopg2.Error as e:\n",
    "    print(\"Error al conectar a la base de datos:\", e)\n",
    "finally:\n",
    "    if cur is not None:\n",
    "        cur.close()\n",
    "    if conn is not None:\n",
    "        conn.close()"
   ]
  },
  {
   "cell_type": "markdown",
   "metadata": {},
   "source": [
    "## Crear Tabla"
   ]
  },
  {
   "cell_type": "code",
   "execution_count": 37,
   "metadata": {},
   "outputs": [],
   "source": [
    "# verifica que la conexion con la base de datos sea exitosa e imprime un mensaje, adicional crea un cursor\n",
    "\n",
    "cur=None\n",
    "\n",
    "try:\n",
    "    conn = psycopg2.connect(dbname=dbname, user=user, password=password, host=host)\n",
    "    \n",
    "    cur=conn.cursor()\n",
    "\n",
    "    ##--\n",
    "\n",
    "    cur.execute(\"DROP TABLE IF EXISTS public.wine_rating\")\n",
    "\n",
    "    cur.execute(\"\"\"\n",
    "                CREATE TABLE IF NOT EXISTS wine_rating (\n",
    "                    id serial NOT NULL,\n",
    "                    name character varying(255) NOT NULL,\n",
    "                    grape character varying(255) NOT NULL,\n",
    "                    region character varying(255) NOT NULL,\n",
    "                    variety character varying(255) NOT NULL,\n",
    "                    rating integer NOT NULL,\n",
    "                    notes character varying(255) NOT NULL\n",
    "                )\n",
    "                \"\"\")\n",
    "\n",
    "    conn.commit()\n",
    "    ##--\n",
    "except psycopg2.Error as e:\n",
    "    print(\"Error al conectar a la base de datos:\", e)\n",
    "finally:\n",
    "    if cur is not None:\n",
    "        cur.close()\n",
    "    if conn is not None:\n",
    "        conn.close()"
   ]
  },
  {
   "cell_type": "markdown",
   "metadata": {},
   "source": [
    "## Definir Primary Key en Tabla Existente"
   ]
  },
  {
   "cell_type": "code",
   "execution_count": 38,
   "metadata": {},
   "outputs": [],
   "source": [
    "# definir prymary key en una tabla y columna existente\n",
    "\n",
    "cur=None\n",
    "\n",
    "try:\n",
    "    conn = psycopg2.connect(dbname=dbname, user=user, password=password, host=host)\n",
    "    \n",
    "    cur=conn.cursor()\n",
    "\n",
    "    ##--\n",
    "    \n",
    "    cur.execute(\"\"\"\n",
    "                ALTER TABLE IF EXISTS public.wine_rating\n",
    "                    ADD CONSTRAINT sdfdsfdsfdsfd PRIMARY KEY (id);\n",
    "                \"\"\")\n",
    "\n",
    "    conn.commit()\n",
    "    ##--\n",
    "except psycopg2.Error as e:\n",
    "    print(\"Error al conectar a la base de datos:\", e)\n",
    "finally:\n",
    "    if cur is not None:\n",
    "        cur.close()\n",
    "    if conn is not None:\n",
    "        conn.close()"
   ]
  },
  {
   "cell_type": "markdown",
   "metadata": {},
   "source": [
    "## Definir Foreing Key en Tablas Existentes"
   ]
  },
  {
   "cell_type": "code",
   "execution_count": 39,
   "metadata": {},
   "outputs": [
    {
     "name": "stdout",
     "output_type": "stream",
     "text": [
      "Error al conectar a la base de datos: no hay restricción unique que coincida con las columnas dadas en la tabla referida «wine_rating»\n",
      "\n"
     ]
    }
   ],
   "source": [
    "# definir foreing key en una tabla y columna existente, tenga en cuenta que las tablas y columnas deben coincidir \n",
    "\n",
    "cur=None\n",
    "\n",
    "try:\n",
    "    conn = psycopg2.connect(dbname=dbname, user=user, password=password, host=host)\n",
    "    \n",
    "    cur=conn.cursor()\n",
    "\n",
    "    ##--\n",
    "    \n",
    "    cur.execute(\"\"\"\n",
    "                ALTER TABLE IF EXISTS wine_rating\n",
    "                    ADD CONSTRAINT dfgdfgdfdfgdf FOREIGN KEY (id)\n",
    "                    REFERENCES public.wine_rating (name) MATCH FULL\n",
    "                    ON UPDATE CASCADE\n",
    "                    ON DELETE CASCADE;\n",
    "                \"\"\")\n",
    "\n",
    "    conn.commit()\n",
    "    ##--\n",
    "except psycopg2.Error as e:\n",
    "    print(\"Error al conectar a la base de datos:\", e)\n",
    "finally:\n",
    "    if cur is not None:\n",
    "        cur.close()\n",
    "    if conn is not None:\n",
    "        conn.close()"
   ]
  },
  {
   "cell_type": "markdown",
   "metadata": {},
   "source": [
    "## Crear una Particion de Tablas"
   ]
  },
  {
   "cell_type": "code",
   "execution_count": 46,
   "metadata": {},
   "outputs": [],
   "source": [
    "# definir foreing key en una tabla y columna existente, tenga en cuenta que las tablas y columnas deben coincidir \n",
    "\n",
    "cur=None\n",
    "\n",
    "try:\n",
    "    conn = psycopg2.connect(dbname=dbname, user=user, password=password, host=host)\n",
    "    \n",
    "    cur=conn.cursor()\n",
    "\n",
    "    ##--\n",
    "\n",
    "    cur.execute(\"\"\"\n",
    "                CREATE TABLE IF NOT EXISTS part_pasajeros_201001 PARTITION OF pasajeros\n",
    "                FOR VALUES FROM ('2010-01-01') TO ('2010-01-31')\n",
    "                \"\"\")\n",
    "    \n",
    "    cur.execute(\"\"\"\n",
    "                CREATE TABLE IF NOT EXISTS pasajeros (\n",
    "                    id serial NOT NULL,\n",
    "                    pasajero character varying(100),\n",
    "                    fecha date\n",
    "                ) PARTITION BY RANGE (fecha)\n",
    "                \"\"\")\n",
    "\n",
    "    conn.commit()\n",
    "    ##--\n",
    "except psycopg2.Error as e:\n",
    "    print(\"Error al conectar a la base de datos:\", e)\n",
    "finally:\n",
    "    if cur is not None:\n",
    "        cur.close()\n",
    "    if conn is not None:\n",
    "        conn.close()"
   ]
  },
  {
   "cell_type": "markdown",
   "metadata": {},
   "source": [
    "## Crear Roles desde Python"
   ]
  },
  {
   "cell_type": "code",
   "execution_count": 4,
   "metadata": {},
   "outputs": [],
   "source": [
    "# Creacion de usuario para solo consulta, no puede crear, eliminar o modificar tablas\n",
    "cur=None\n",
    "\n",
    "try:\n",
    "    conn = psycopg2.connect(dbname=dbname, user=user, password=password, host=host)\n",
    "    \n",
    "    cur=conn.cursor()\n",
    "\n",
    "    ##--\n",
    "\n",
    "    cur.execute(\"\"\"\n",
    "                CREATE ROLE \"ILBERT\" WITH\n",
    "                    LOGIN\n",
    "                    NOSUPERUSER\n",
    "                    NOCREATEDB\n",
    "                    NOCREATEROLE\n",
    "                    INHERIT\n",
    "                    NOREPLICATION\n",
    "                    CONNECTION LIMIT -1\n",
    "                    PASSWORD '123456';\n",
    "                COMMENT ON ROLE \"ILBERT\" IS 'usuario de consulta'\n",
    "                \"\"\")\n",
    "\n",
    "    conn.commit()\n",
    "    ##--\n",
    "except psycopg2.Error as e:\n",
    "    print(\"Error al conectar a la base de datos:\", e)\n",
    "finally:\n",
    "    if cur is not None:\n",
    "        cur.close()\n",
    "    if conn is not None:\n",
    "        conn.close()"
   ]
  },
  {
   "cell_type": "markdown",
   "metadata": {},
   "source": [
    "## Asignacion de Roles a una Tabla"
   ]
  },
  {
   "cell_type": "code",
   "execution_count": 9,
   "metadata": {},
   "outputs": [],
   "source": [
    "cur=None\n",
    "\n",
    "try:\n",
    "    conn = psycopg2.connect(dbname=dbname, user=user, password=password, host=host)\n",
    "    \n",
    "    cur=conn.cursor()\n",
    "\n",
    "    ##--\n",
    "\n",
    "    cur.execute(\"\"\"\n",
    "                GRANT INSERT, UPDATE, SELECT ON TABLE pasajeros TO \"ILBERT\";\n",
    "                \"\"\")\n",
    "\n",
    "    conn.commit()\n",
    "    ##--\n",
    "except psycopg2.Error as e:\n",
    "    print(\"Error al conectar a la base de datos:\", e)\n",
    "finally:\n",
    "    if cur is not None:\n",
    "        cur.close()\n",
    "    if conn is not None:\n",
    "        conn.close()"
   ]
  },
  {
   "cell_type": "markdown",
   "metadata": {},
   "source": [
    "## Cargar Filas"
   ]
  },
  {
   "cell_type": "code",
   "execution_count": 11,
   "metadata": {},
   "outputs": [],
   "source": [
    "df = pd.read_json('sample_data\\wine-ratings.json')"
   ]
  },
  {
   "cell_type": "code",
   "execution_count": 15,
   "metadata": {},
   "outputs": [
    {
     "name": "stdout",
     "output_type": "stream",
     "text": [
      "Datos cargados en la tabla wine-rating\n"
     ]
    }
   ],
   "source": [
    "engine = create_engine(f'postgresql://{user}:{password}@{host}/{dbname}')\n",
    "\n",
    "# 3. Cargar datos en la tabla existente en PostgreSQL\n",
    "table_name = \"wine_rating\"  # Reemplaza con el nombre de tu tabla en PostgreSQL\n",
    "\n",
    "df.to_sql(table_name, engine, if_exists='append', index=True)\n",
    "\n",
    "# Cierra la conexión\n",
    "engine.dispose()\n",
    "\n",
    "print(f'Datos cargados en la tabla {table_name}')"
   ]
  },
  {
   "cell_type": "markdown",
   "metadata": {},
   "source": [
    "## Realizar Consultas"
   ]
  },
  {
   "cell_type": "code",
   "execution_count": 58,
   "metadata": {},
   "outputs": [
    {
     "name": "stderr",
     "output_type": "stream",
     "text": [
      "C:\\Users\\Alarcon Ilbert\\AppData\\Local\\Temp\\ipykernel_11028\\2877578232.py:12: UserWarning: pandas only supports SQLAlchemy connectable (engine/connection) or database string URI or sqlite3 DBAPI2 connection. Other DBAPI2 objects are not tested. Please consider using SQLAlchemy.\n",
      "  df_consulta = pd.read_sql_query(consulta, conn).set_index('index')  # Carga los resultados en un DataFrame\n"
     ]
    }
   ],
   "source": [
    "cur=None\n",
    "\n",
    "try:\n",
    "    conn = psycopg2.connect(dbname=dbname, user=user, password=password, host=host)\n",
    "    \n",
    "    cur=conn.cursor()\n",
    "\n",
    "    ##--\n",
    "\n",
    "    # Ejecuta una consulta SQL\n",
    "    consulta = \"SELECT * FROM wine_rating;\"  # Reemplaza 'mi_tabla' con el nombre de tu tabla\n",
    "    df_consulta = pd.read_sql_query(consulta, conn).set_index('index')  # Carga los resultados en un DataFrame\n",
    "\n",
    "    # Imprime el DataFrame\n",
    "    df_consulta\n",
    "\n",
    "    conn.commit()\n",
    "    ##--\n",
    "except psycopg2.Error as e:\n",
    "    print(\"Error al conectar a la base de datos:\", e)\n",
    "finally:\n",
    "    if cur is not None:\n",
    "        cur.close()\n",
    "    if conn is not None:\n",
    "        conn.close()"
   ]
  },
  {
   "cell_type": "code",
   "execution_count": 60,
   "metadata": {},
   "outputs": [
    {
     "data": {
      "text/html": [
       "<div>\n",
       "<style scoped>\n",
       "    .dataframe tbody tr th:only-of-type {\n",
       "        vertical-align: middle;\n",
       "    }\n",
       "\n",
       "    .dataframe tbody tr th {\n",
       "        vertical-align: top;\n",
       "    }\n",
       "\n",
       "    .dataframe thead th {\n",
       "        text-align: right;\n",
       "    }\n",
       "</style>\n",
       "<table border=\"1\" class=\"dataframe\">\n",
       "  <thead>\n",
       "    <tr style=\"text-align: right;\">\n",
       "      <th></th>\n",
       "      <th>name</th>\n",
       "      <th>grape</th>\n",
       "      <th>region</th>\n",
       "      <th>variety</th>\n",
       "      <th>rating</th>\n",
       "      <th>notes</th>\n",
       "    </tr>\n",
       "    <tr>\n",
       "      <th>index</th>\n",
       "      <th></th>\n",
       "      <th></th>\n",
       "      <th></th>\n",
       "      <th></th>\n",
       "      <th></th>\n",
       "      <th></th>\n",
       "    </tr>\n",
       "  </thead>\n",
       "  <tbody>\n",
       "    <tr>\n",
       "      <th>0</th>\n",
       "      <td>Laurenz V Charming Gruner Veltliner 2013</td>\n",
       "      <td>None</td>\n",
       "      <td>Kamptal, Austria</td>\n",
       "      <td>White Wine</td>\n",
       "      <td>90</td>\n",
       "      <td>Aromas of ripe apples and a typical Veltliner ...</td>\n",
       "    </tr>\n",
       "    <tr>\n",
       "      <th>1</th>\n",
       "      <td>Laurenz V Charming Gruner Veltliner 2014</td>\n",
       "      <td>None</td>\n",
       "      <td>Kamptal, Austria</td>\n",
       "      <td>White Wine</td>\n",
       "      <td>90</td>\n",
       "      <td>Aromas of ripe apples and a typical Veltliner ...</td>\n",
       "    </tr>\n",
       "    <tr>\n",
       "      <th>2</th>\n",
       "      <td>Laurenz V Singing Gruner Veltliner 2007</td>\n",
       "      <td>None</td>\n",
       "      <td>Austria</td>\n",
       "      <td>White Wine</td>\n",
       "      <td>90</td>\n",
       "      <td>A very attractive fruit bouquet yields apple, ...</td>\n",
       "    </tr>\n",
       "    <tr>\n",
       "      <th>3</th>\n",
       "      <td>Laurenz V Singing Gruner Veltliner 2010</td>\n",
       "      <td>None</td>\n",
       "      <td>Austria</td>\n",
       "      <td>White Wine</td>\n",
       "      <td>88</td>\n",
       "      <td>A very attractive fruit bouquet yields apple, ...</td>\n",
       "    </tr>\n",
       "    <tr>\n",
       "      <th>4</th>\n",
       "      <td>Laurenz V Singing Gruner Veltliner 2011</td>\n",
       "      <td>None</td>\n",
       "      <td>Austria</td>\n",
       "      <td>White Wine</td>\n",
       "      <td>88</td>\n",
       "      <td>A very attractive fruit bouquet yields apple, ...</td>\n",
       "    </tr>\n",
       "  </tbody>\n",
       "</table>\n",
       "</div>"
      ],
      "text/plain": [
       "                                           name grape            region  \\\n",
       "index                                                                     \n",
       "0      Laurenz V Charming Gruner Veltliner 2013  None  Kamptal, Austria   \n",
       "1      Laurenz V Charming Gruner Veltliner 2014  None  Kamptal, Austria   \n",
       "2       Laurenz V Singing Gruner Veltliner 2007  None           Austria   \n",
       "3       Laurenz V Singing Gruner Veltliner 2010  None           Austria   \n",
       "4       Laurenz V Singing Gruner Veltliner 2011  None           Austria   \n",
       "\n",
       "          variety  rating                                              notes  \n",
       "index                                                                         \n",
       "0      White Wine      90  Aromas of ripe apples and a typical Veltliner ...  \n",
       "1      White Wine      90  Aromas of ripe apples and a typical Veltliner ...  \n",
       "2      White Wine      90  A very attractive fruit bouquet yields apple, ...  \n",
       "3      White Wine      88  A very attractive fruit bouquet yields apple, ...  \n",
       "4      White Wine      88  A very attractive fruit bouquet yields apple, ...  "
      ]
     },
     "execution_count": 60,
     "metadata": {},
     "output_type": "execute_result"
    }
   ],
   "source": [
    "df_consulta.head(5)"
   ]
  }
 ],
 "metadata": {
  "kernelspec": {
   "display_name": ".venv",
   "language": "python",
   "name": "python3"
  },
  "language_info": {
   "codemirror_mode": {
    "name": "ipython",
    "version": 3
   },
   "file_extension": ".py",
   "mimetype": "text/x-python",
   "name": "python",
   "nbconvert_exporter": "python",
   "pygments_lexer": "ipython3",
   "version": "3.10.8"
  },
  "orig_nbformat": 4
 },
 "nbformat": 4,
 "nbformat_minor": 2
}
