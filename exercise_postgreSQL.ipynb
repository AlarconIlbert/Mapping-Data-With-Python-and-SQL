{
 "cells": [
  {
   "cell_type": "code",
   "execution_count": 3,
   "metadata": {},
   "outputs": [],
   "source": [
    "import psycopg2"
   ]
  },
  {
   "cell_type": "code",
   "execution_count": 44,
   "metadata": {},
   "outputs": [],
   "source": [
    "# Configura los detalles de conexión\n",
    "dbname = \"fast_SQL_python\"  # Reemplaza con el nombre que desees para la nueva base de datos\n",
    "user = \"postgres\"          # Reemplaza con tu nombre de usuario\n",
    "password = \"1qaz0OKM\"   # Reemplaza con tu contraseña\n",
    "host = \"127.0.0.1\"           # Reemplaza con la dirección del servidor PostgreSQL"
   ]
  },
  {
   "cell_type": "code",
   "execution_count": 48,
   "metadata": {},
   "outputs": [
    {
     "name": "stdout",
     "output_type": "stream",
     "text": [
      "Conexión exitosa a la base de datos.\n"
     ]
    }
   ],
   "source": [
    "# verifica que la conexion con la base de datos sea exitosa e imprime un mensaje, adicional crea un cursor\n",
    "\n",
    "cur=None\n",
    "\n",
    "try:\n",
    "    conn = psycopg2.connect(dbname=dbname, user=user, password=password, host=host)\n",
    "    cur=conn.cursor()\n",
    "    print(\"Conexión exitosa a la base de datos.\")\n",
    "except psycopg2.Error as e:\n",
    "    print(\"Error al conectar a la base de datos:\", e)\n",
    "finally:\n",
    "    if cur is not None:\n",
    "        cur.close()\n",
    "    if conn is not None:\n",
    "        conn.close()"
   ]
  },
  {
   "cell_type": "markdown",
   "metadata": {},
   "source": [
    "## Crear Tabla"
   ]
  },
  {
   "cell_type": "code",
   "execution_count": null,
   "metadata": {},
   "outputs": [],
   "source": [
    "# verifica que la conexion con la base de datos sea exitosa e imprime un mensaje, adicional crea un cursor\n",
    "\n",
    "cur=None\n",
    "\n",
    "try:\n",
    "    conn = psycopg2.connect(dbname=dbname, user=user, password=password, host=host)\n",
    "    \n",
    "    cur=conn.cursor()\n",
    "\n",
    "    ##--\n",
    "\n",
    "    cur.execute(\"\"\"\n",
    "                CREATE TABLE IF NOT EXISTS wine-rating(\n",
    "                id SERIAL PRIMARY KEY,\n",
    "                name VARCHAR(255) NOT NULL,\n",
    "                grape VARCHAR(255) NOT NULL,\n",
    "                region VARCHAR(255) NOT NULL,\n",
    "                variety VARCHAR(255) NOT NULL,\n",
    "                rating VARCHAR(255) NOT NULL,\n",
    "                notes VARCHAR(255) NOT NULL,\n",
    "                )\n",
    "                \"\"\")\n",
    "\n",
    "    conn.commit()\n",
    "    ##--\n",
    "except psycopg2.Error as e:\n",
    "    print(\"Error al conectar a la base de datos:\", e)\n",
    "finally:\n",
    "    if cur is not None:\n",
    "        cur.close()\n",
    "    if conn is not None:\n",
    "        conn.close()"
   ]
  }
 ],
 "metadata": {
  "kernelspec": {
   "display_name": ".venv",
   "language": "python",
   "name": "python3"
  },
  "language_info": {
   "codemirror_mode": {
    "name": "ipython",
    "version": 3
   },
   "file_extension": ".py",
   "mimetype": "text/x-python",
   "name": "python",
   "nbconvert_exporter": "python",
   "pygments_lexer": "ipython3",
   "version": "3.10.8"
  },
  "orig_nbformat": 4
 },
 "nbformat": 4,
 "nbformat_minor": 2
}
