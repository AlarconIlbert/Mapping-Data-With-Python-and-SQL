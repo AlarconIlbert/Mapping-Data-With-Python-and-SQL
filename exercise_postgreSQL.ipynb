{
 "cells": [
  {
   "cell_type": "code",
   "execution_count": 1,
   "metadata": {},
   "outputs": [],
   "source": [
    "import psycopg2"
   ]
  },
  {
   "cell_type": "code",
   "execution_count": 2,
   "metadata": {},
   "outputs": [],
   "source": [
    "# Configura los detalles de conexión\n",
    "dbname = \"fast_SQL_python\"  # Reemplaza con el nombre que desees para la nueva base de datos\n",
    "user = \"postgres\"          # Reemplaza con tu nombre de usuario\n",
    "password = \"1qaz0OKM\"   # Reemplaza con tu contraseña\n",
    "host = \"127.0.0.1\"           # Reemplaza con la dirección del servidor PostgreSQL"
   ]
  },
  {
   "cell_type": "code",
   "execution_count": 3,
   "metadata": {},
   "outputs": [
    {
     "name": "stdout",
     "output_type": "stream",
     "text": [
      "Conexión exitosa a la base de datos.\n"
     ]
    }
   ],
   "source": [
    "# verifica que la conexion con la base de datos sea exitosa e imprime un mensaje, adicional crea un cursor\n",
    "\n",
    "cur=None\n",
    "\n",
    "try:\n",
    "    conn = psycopg2.connect(dbname=dbname, user=user, password=password, host=host)\n",
    "    cur=conn.cursor()\n",
    "    print(\"Conexión exitosa a la base de datos.\")\n",
    "except psycopg2.Error as e:\n",
    "    print(\"Error al conectar a la base de datos:\", e)\n",
    "finally:\n",
    "    if cur is not None:\n",
    "        cur.close()\n",
    "    if conn is not None:\n",
    "        conn.close()"
   ]
  },
  {
   "cell_type": "markdown",
   "metadata": {},
   "source": [
    "## Crear Tabla"
   ]
  },
  {
   "cell_type": "code",
   "execution_count": 37,
   "metadata": {},
   "outputs": [],
   "source": [
    "# verifica que la conexion con la base de datos sea exitosa e imprime un mensaje, adicional crea un cursor\n",
    "\n",
    "cur=None\n",
    "\n",
    "try:\n",
    "    conn = psycopg2.connect(dbname=dbname, user=user, password=password, host=host)\n",
    "    \n",
    "    cur=conn.cursor()\n",
    "\n",
    "    ##--\n",
    "\n",
    "    cur.execute(\"DROP TABLE IF EXISTS public.wine_rating\")\n",
    "\n",
    "    cur.execute(\"\"\"\n",
    "                CREATE TABLE IF NOT EXISTS wine_rating (\n",
    "                    id serial NOT NULL,\n",
    "                    name character varying(255) NOT NULL,\n",
    "                    grape character varying(255) NOT NULL,\n",
    "                    region character varying(255) NOT NULL,\n",
    "                    variety character varying(255) NOT NULL,\n",
    "                    rating integer NOT NULL,\n",
    "                    notes character varying(255) NOT NULL\n",
    "                )\n",
    "                \"\"\")\n",
    "\n",
    "    conn.commit()\n",
    "    ##--\n",
    "except psycopg2.Error as e:\n",
    "    print(\"Error al conectar a la base de datos:\", e)\n",
    "finally:\n",
    "    if cur is not None:\n",
    "        cur.close()\n",
    "    if conn is not None:\n",
    "        conn.close()"
   ]
  },
  {
   "cell_type": "markdown",
   "metadata": {},
   "source": [
    "## Definir Primary Key en Tabla Existente"
   ]
  },
  {
   "cell_type": "code",
   "execution_count": 38,
   "metadata": {},
   "outputs": [],
   "source": [
    "# definir prymary key en una tabla y columna existente\n",
    "\n",
    "cur=None\n",
    "\n",
    "try:\n",
    "    conn = psycopg2.connect(dbname=dbname, user=user, password=password, host=host)\n",
    "    \n",
    "    cur=conn.cursor()\n",
    "\n",
    "    ##--\n",
    "    \n",
    "    cur.execute(\"\"\"\n",
    "                ALTER TABLE IF EXISTS public.wine_rating\n",
    "                    ADD CONSTRAINT sdfdsfdsfdsfd PRIMARY KEY (id);\n",
    "                \"\"\")\n",
    "\n",
    "    conn.commit()\n",
    "    ##--\n",
    "except psycopg2.Error as e:\n",
    "    print(\"Error al conectar a la base de datos:\", e)\n",
    "finally:\n",
    "    if cur is not None:\n",
    "        cur.close()\n",
    "    if conn is not None:\n",
    "        conn.close()"
   ]
  },
  {
   "cell_type": "markdown",
   "metadata": {},
   "source": [
    "## Definir Foreing Key en Tablas Existentes"
   ]
  },
  {
   "cell_type": "code",
   "execution_count": 39,
   "metadata": {},
   "outputs": [
    {
     "name": "stdout",
     "output_type": "stream",
     "text": [
      "Error al conectar a la base de datos: no hay restricción unique que coincida con las columnas dadas en la tabla referida «wine_rating»\n",
      "\n"
     ]
    }
   ],
   "source": [
    "# definir foreing key en una tabla y columna existente, tenga en cuenta que las tablas y columnas deben coincidir \n",
    "\n",
    "cur=None\n",
    "\n",
    "try:\n",
    "    conn = psycopg2.connect(dbname=dbname, user=user, password=password, host=host)\n",
    "    \n",
    "    cur=conn.cursor()\n",
    "\n",
    "    ##--\n",
    "    \n",
    "    cur.execute(\"\"\"\n",
    "                ALTER TABLE IF EXISTS wine_rating\n",
    "                    ADD CONSTRAINT dfgdfgdfdfgdf FOREIGN KEY (id)\n",
    "                    REFERENCES public.wine_rating (name) MATCH FULL\n",
    "                    ON UPDATE CASCADE\n",
    "                    ON DELETE CASCADE;\n",
    "                \"\"\")\n",
    "\n",
    "    conn.commit()\n",
    "    ##--\n",
    "except psycopg2.Error as e:\n",
    "    print(\"Error al conectar a la base de datos:\", e)\n",
    "finally:\n",
    "    if cur is not None:\n",
    "        cur.close()\n",
    "    if conn is not None:\n",
    "        conn.close()"
   ]
  },
  {
   "cell_type": "markdown",
   "metadata": {},
   "source": [
    "## Crear una Particion de Tablas"
   ]
  },
  {
   "cell_type": "code",
   "execution_count": 46,
   "metadata": {},
   "outputs": [],
   "source": [
    "# definir foreing key en una tabla y columna existente, tenga en cuenta que las tablas y columnas deben coincidir \n",
    "\n",
    "cur=None\n",
    "\n",
    "try:\n",
    "    conn = psycopg2.connect(dbname=dbname, user=user, password=password, host=host)\n",
    "    \n",
    "    cur=conn.cursor()\n",
    "\n",
    "    ##--\n",
    "\n",
    "    cur.execute(\"\"\"\n",
    "                CREATE TABLE IF NOT EXISTS part_pasajeros_201001 PARTITION OF pasajeros\n",
    "                FOR VALUES FROM ('2010-01-01') TO ('2010-01-31')\n",
    "                \"\"\")\n",
    "    \n",
    "    cur.execute(\"\"\"\n",
    "                CREATE TABLE IF NOT EXISTS pasajeros (\n",
    "                    id serial NOT NULL,\n",
    "                    pasajero character varying(100),\n",
    "                    fecha date\n",
    "                ) PARTITION BY RANGE (fecha)\n",
    "                \"\"\")\n",
    "\n",
    "    conn.commit()\n",
    "    ##--\n",
    "except psycopg2.Error as e:\n",
    "    print(\"Error al conectar a la base de datos:\", e)\n",
    "finally:\n",
    "    if cur is not None:\n",
    "        cur.close()\n",
    "    if conn is not None:\n",
    "        conn.close()"
   ]
  },
  {
   "cell_type": "markdown",
   "metadata": {},
   "source": [
    "## Crear Roles desde Python"
   ]
  }
 ],
 "metadata": {
  "kernelspec": {
   "display_name": ".venv",
   "language": "python",
   "name": "python3"
  },
  "language_info": {
   "codemirror_mode": {
    "name": "ipython",
    "version": 3
   },
   "file_extension": ".py",
   "mimetype": "text/x-python",
   "name": "python",
   "nbconvert_exporter": "python",
   "pygments_lexer": "ipython3",
   "version": "3.10.8"
  },
  "orig_nbformat": 4
 },
 "nbformat": 4,
 "nbformat_minor": 2
}
