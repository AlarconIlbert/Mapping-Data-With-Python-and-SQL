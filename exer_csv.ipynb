{
 "cells": [
  {
   "cell_type": "markdown",
   "metadata": {},
   "source": [
    "# Usando CSV"
   ]
  },
  {
   "cell_type": "code",
   "execution_count": 1,
   "metadata": {},
   "outputs": [],
   "source": [
    "from csv import DictReader"
   ]
  },
  {
   "cell_type": "code",
   "execution_count": 2,
   "metadata": {},
   "outputs": [],
   "source": [
    "with open('sample_data/wine-ratings-small.csv', encoding='utf-8', errors='ignore') as f:\n",
    "    reader = DictReader(f)\n",
    "    wines = list(reader)"
   ]
  },
  {
   "cell_type": "code",
   "execution_count": 9,
   "metadata": {},
   "outputs": [
    {
     "data": {
      "text/plain": [
       "780"
      ]
     },
     "execution_count": 9,
     "metadata": {},
     "output_type": "execute_result"
    }
   ],
   "source": [
    "len(wines)"
   ]
  },
  {
   "cell_type": "code",
   "execution_count": null,
   "metadata": {},
   "outputs": [],
   "source": [
    "napa_wines = []\n",
    "for wine in wines:\n",
    "    if 'Napa' in wine['region']:\n",
    "        napa_wines.append(wine)\n"
   ]
  },
  {
   "cell_type": "markdown",
   "metadata": {},
   "source": [
    "☝️ napa_wines el anterior codigo crea e imprime una lista llamada napa_wines recorriendo la lista anteriomente creada wines, almacenando el registro de los vinos lo cuales en su region coincidan con 'Napa'"
   ]
  },
  {
   "cell_type": "markdown",
   "metadata": {},
   "source": [
    "# Usando Pandas"
   ]
  },
  {
   "cell_type": "code",
   "execution_count": 10,
   "metadata": {},
   "outputs": [],
   "source": [
    "import pandas as pd"
   ]
  },
  {
   "cell_type": "code",
   "execution_count": 12,
   "metadata": {},
   "outputs": [
    {
     "data": {
      "text/html": [
       "<div>\n",
       "<style scoped>\n",
       "    .dataframe tbody tr th:only-of-type {\n",
       "        vertical-align: middle;\n",
       "    }\n",
       "\n",
       "    .dataframe tbody tr th {\n",
       "        vertical-align: top;\n",
       "    }\n",
       "\n",
       "    .dataframe thead th {\n",
       "        text-align: right;\n",
       "    }\n",
       "</style>\n",
       "<table border=\"1\" class=\"dataframe\">\n",
       "  <thead>\n",
       "    <tr style=\"text-align: right;\">\n",
       "      <th></th>\n",
       "      <th>name</th>\n",
       "      <th>grape</th>\n",
       "      <th>region</th>\n",
       "      <th>variety</th>\n",
       "      <th>rating</th>\n",
       "      <th>notes</th>\n",
       "    </tr>\n",
       "  </thead>\n",
       "  <tbody>\n",
       "    <tr>\n",
       "      <th>0</th>\n",
       "      <td>Laurenz V Charming Gruner Veltliner 2013</td>\n",
       "      <td>NaN</td>\n",
       "      <td>Kamptal, Austria</td>\n",
       "      <td>White Wine</td>\n",
       "      <td>90.0</td>\n",
       "      <td>Aromas of ripe apples and a typical Veltliner ...</td>\n",
       "    </tr>\n",
       "    <tr>\n",
       "      <th>1</th>\n",
       "      <td>Laurenz V Charming Gruner Veltliner 2014</td>\n",
       "      <td>NaN</td>\n",
       "      <td>Kamptal, Austria</td>\n",
       "      <td>White Wine</td>\n",
       "      <td>90.0</td>\n",
       "      <td>Aromas of ripe apples and a typical Veltliner ...</td>\n",
       "    </tr>\n",
       "    <tr>\n",
       "      <th>2</th>\n",
       "      <td>Laurenz V Singing Gruner Veltliner 2007</td>\n",
       "      <td>NaN</td>\n",
       "      <td>Austria</td>\n",
       "      <td>White Wine</td>\n",
       "      <td>90.0</td>\n",
       "      <td>A very attractive fruit bouquet yields apple, ...</td>\n",
       "    </tr>\n",
       "    <tr>\n",
       "      <th>3</th>\n",
       "      <td>Laurenz V Singing Gruner Veltliner 2010</td>\n",
       "      <td>NaN</td>\n",
       "      <td>Austria</td>\n",
       "      <td>White Wine</td>\n",
       "      <td>88.0</td>\n",
       "      <td>A very attractive fruit bouquet yields apple, ...</td>\n",
       "    </tr>\n",
       "    <tr>\n",
       "      <th>4</th>\n",
       "      <td>Laurenz V Singing Gruner Veltliner 2011</td>\n",
       "      <td>NaN</td>\n",
       "      <td>Austria</td>\n",
       "      <td>White Wine</td>\n",
       "      <td>88.0</td>\n",
       "      <td>A very attractive fruit bouquet yields apple, ...</td>\n",
       "    </tr>\n",
       "  </tbody>\n",
       "</table>\n",
       "</div>"
      ],
      "text/plain": [
       "                                       name  grape            region  \\\n",
       "0  Laurenz V Charming Gruner Veltliner 2013    NaN  Kamptal, Austria   \n",
       "1  Laurenz V Charming Gruner Veltliner 2014    NaN  Kamptal, Austria   \n",
       "2   Laurenz V Singing Gruner Veltliner 2007    NaN           Austria   \n",
       "3   Laurenz V Singing Gruner Veltliner 2010    NaN           Austria   \n",
       "4   Laurenz V Singing Gruner Veltliner 2011    NaN           Austria   \n",
       "\n",
       "      variety  rating                                              notes  \n",
       "0  White Wine    90.0  Aromas of ripe apples and a typical Veltliner ...  \n",
       "1  White Wine    90.0  Aromas of ripe apples and a typical Veltliner ...  \n",
       "2  White Wine    90.0  A very attractive fruit bouquet yields apple, ...  \n",
       "3  White Wine    88.0  A very attractive fruit bouquet yields apple, ...  \n",
       "4  White Wine    88.0  A very attractive fruit bouquet yields apple, ...  "
      ]
     },
     "execution_count": 12,
     "metadata": {},
     "output_type": "execute_result"
    }
   ],
   "source": [
    "df = pd.read_csv(\"sample_data/wine-ratings-small.csv\", index_col=0) # read the csv file and set the index column to 0\n",
    "df.head(5)"
   ]
  },
  {
   "cell_type": "code",
   "execution_count": 13,
   "metadata": {},
   "outputs": [],
   "source": [
    "napa_df=df[df['region'].str.contains('Napa')]"
   ]
  },
  {
   "cell_type": "code",
   "execution_count": 14,
   "metadata": {},
   "outputs": [
    {
     "data": {
      "text/html": [
       "<div>\n",
       "<style scoped>\n",
       "    .dataframe tbody tr th:only-of-type {\n",
       "        vertical-align: middle;\n",
       "    }\n",
       "\n",
       "    .dataframe tbody tr th {\n",
       "        vertical-align: top;\n",
       "    }\n",
       "\n",
       "    .dataframe thead th {\n",
       "        text-align: right;\n",
       "    }\n",
       "</style>\n",
       "<table border=\"1\" class=\"dataframe\">\n",
       "  <thead>\n",
       "    <tr style=\"text-align: right;\">\n",
       "      <th></th>\n",
       "      <th>name</th>\n",
       "      <th>grape</th>\n",
       "      <th>region</th>\n",
       "      <th>variety</th>\n",
       "      <th>rating</th>\n",
       "      <th>notes</th>\n",
       "    </tr>\n",
       "  </thead>\n",
       "  <tbody>\n",
       "    <tr>\n",
       "      <th>24</th>\n",
       "      <td>Lava Vine Winery Napa Valley Cabernet Sauvigno...</td>\n",
       "      <td>NaN</td>\n",
       "      <td>Napa Valley, California</td>\n",
       "      <td>Red Wine</td>\n",
       "      <td>91.0</td>\n",
       "      <td>A wonderful representation of how amazing the ...</td>\n",
       "    </tr>\n",
       "    <tr>\n",
       "      <th>25</th>\n",
       "      <td>Lava Vine Winery Napa Valley Reserve Cabernet ...</td>\n",
       "      <td>NaN</td>\n",
       "      <td>Napa Valley, California</td>\n",
       "      <td>Red Wine</td>\n",
       "      <td>92.0</td>\n",
       "      <td>Black berries and hints of strawberry invite w...</td>\n",
       "    </tr>\n",
       "    <tr>\n",
       "      <th>26</th>\n",
       "      <td>Lava Vine Winery Napa Valley Reserve Cabernet ...</td>\n",
       "      <td>NaN</td>\n",
       "      <td>Napa Valley, California</td>\n",
       "      <td>Red Wine</td>\n",
       "      <td>92.0</td>\n",
       "      <td>A slight minty nose with dark chocolate and fr...</td>\n",
       "    </tr>\n",
       "    <tr>\n",
       "      <th>288</th>\n",
       "      <td>Leaping Lizard Cabernet Sauvignon 2007</td>\n",
       "      <td>NaN</td>\n",
       "      <td>Napa Valley, California</td>\n",
       "      <td>Red Wine</td>\n",
       "      <td>90.0</td>\n",
       "      <td>Our Cabernet Sauvignon is a full-bodied, fruit...</td>\n",
       "    </tr>\n",
       "    <tr>\n",
       "      <th>685</th>\n",
       "      <td>Levendi Stagecoach Cabernet Sauvignon 2008</td>\n",
       "      <td>NaN</td>\n",
       "      <td>Napa Valley, California</td>\n",
       "      <td>Red Wine</td>\n",
       "      <td>94.0</td>\n",
       "      <td>From the Stagecoach Vineyard high on the easte...</td>\n",
       "    </tr>\n",
       "  </tbody>\n",
       "</table>\n",
       "</div>"
      ],
      "text/plain": [
       "                                                  name  grape  \\\n",
       "24   Lava Vine Winery Napa Valley Cabernet Sauvigno...    NaN   \n",
       "25   Lava Vine Winery Napa Valley Reserve Cabernet ...    NaN   \n",
       "26   Lava Vine Winery Napa Valley Reserve Cabernet ...    NaN   \n",
       "288             Leaping Lizard Cabernet Sauvignon 2007    NaN   \n",
       "685         Levendi Stagecoach Cabernet Sauvignon 2008    NaN   \n",
       "\n",
       "                      region   variety  rating  \\\n",
       "24   Napa Valley, California  Red Wine    91.0   \n",
       "25   Napa Valley, California  Red Wine    92.0   \n",
       "26   Napa Valley, California  Red Wine    92.0   \n",
       "288  Napa Valley, California  Red Wine    90.0   \n",
       "685  Napa Valley, California  Red Wine    94.0   \n",
       "\n",
       "                                                 notes  \n",
       "24   A wonderful representation of how amazing the ...  \n",
       "25   Black berries and hints of strawberry invite w...  \n",
       "26   A slight minty nose with dark chocolate and fr...  \n",
       "288  Our Cabernet Sauvignon is a full-bodied, fruit...  \n",
       "685  From the Stagecoach Vineyard high on the easte...  "
      ]
     },
     "execution_count": 14,
     "metadata": {},
     "output_type": "execute_result"
    }
   ],
   "source": [
    "napa_df.head(5)"
   ]
  },
  {
   "cell_type": "markdown",
   "metadata": {},
   "source": [
    "☝️ El anterior codigo crea e imprime un data frame llamada napa_df recorriendo el data frame creado df, almacenando el registro de los vinos lo cuales en su region coincidan con 'Napa'"
   ]
  }
 ],
 "metadata": {
  "kernelspec": {
   "display_name": ".venv",
   "language": "python",
   "name": "python3"
  },
  "language_info": {
   "codemirror_mode": {
    "name": "ipython",
    "version": 3
   },
   "file_extension": ".py",
   "mimetype": "text/x-python",
   "name": "python",
   "nbconvert_exporter": "python",
   "pygments_lexer": "ipython3",
   "version": "3.10.8"
  },
  "orig_nbformat": 4
 },
 "nbformat": 4,
 "nbformat_minor": 2
}
