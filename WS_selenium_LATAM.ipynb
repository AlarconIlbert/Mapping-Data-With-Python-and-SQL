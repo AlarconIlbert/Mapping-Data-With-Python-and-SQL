{
 "cells": [
  {
   "cell_type": "code",
   "execution_count": 1,
   "metadata": {},
   "outputs": [],
   "source": [
    "import requests\n",
    "from bs4 import BeautifulSoup as bs\n",
    "from selenium import webdriver\n",
    "from selenium.webdriver.chrome.service import Service\n",
    "from selenium.webdriver.chrome.options import Options\n",
    "from webdriver_manager.chrome import ChromeDriverManager\n",
    "from selenium.webdriver.common.by import By"
   ]
  },
  {
   "cell_type": "code",
   "execution_count": 2,
   "metadata": {},
   "outputs": [],
   "source": [
    "url='https://www.latamairlines.com/co/es/ofertas-vuelos?origin=BOG&inbound=2023-10-21T17%3A00%3A00.000Z&outbound=2023-09-14T17%3A00%3A00.000Z&destination=MAD&adt=1&chd=0&inf=0&trip=RT&cabin=Economy&redemption=false&sort=RECOMMENDED'"
   ]
  },
  {
   "cell_type": "code",
   "execution_count": 3,
   "metadata": {},
   "outputs": [
    {
     "data": {
      "text/plain": [
       "200"
      ]
     },
     "execution_count": 3,
     "metadata": {},
     "output_type": "execute_result"
    }
   ],
   "source": [
    "r=requests.get(url)\n",
    "r.status_code"
   ]
  },
  {
   "cell_type": "code",
   "execution_count": 4,
   "metadata": {},
   "outputs": [],
   "source": [
    "soup_latam=bs(r.text,'lxml')"
   ]
  },
  {
   "cell_type": "code",
   "execution_count": 5,
   "metadata": {},
   "outputs": [],
   "source": [
    "#print(soup_latam.prettify())"
   ]
  },
  {
   "cell_type": "code",
   "execution_count": 7,
   "metadata": {},
   "outputs": [],
   "source": [
    "options=Options()\n",
    "options.add_experimental_option('detach',True)\n",
    "options.add_argument('--incognito')\n",
    "\n",
    "driver = webdriver.Chrome(service=Service(ChromeDriverManager().install()),\n",
    "                          options=options)\n",
    "\n",
    "driver.get(url)"
   ]
  },
  {
   "cell_type": "code",
   "execution_count": 9,
   "metadata": {},
   "outputs": [
    {
     "data": {
      "text/plain": [
       "[<selenium.webdriver.remote.webelement.WebElement (session=\"207fb9b038d879475b806bcb6be1ec94\", element=\"1C28E6DBFF4D1CD036C3FDECBCC6BB44_element_10\")>,\n",
       " <selenium.webdriver.remote.webelement.WebElement (session=\"207fb9b038d879475b806bcb6be1ec94\", element=\"1C28E6DBFF4D1CD036C3FDECBCC6BB44_element_11\")>,\n",
       " <selenium.webdriver.remote.webelement.WebElement (session=\"207fb9b038d879475b806bcb6be1ec94\", element=\"1C28E6DBFF4D1CD036C3FDECBCC6BB44_element_12\")>,\n",
       " <selenium.webdriver.remote.webelement.WebElement (session=\"207fb9b038d879475b806bcb6be1ec94\", element=\"1C28E6DBFF4D1CD036C3FDECBCC6BB44_element_13\")>,\n",
       " <selenium.webdriver.remote.webelement.WebElement (session=\"207fb9b038d879475b806bcb6be1ec94\", element=\"1C28E6DBFF4D1CD036C3FDECBCC6BB44_element_14\")>,\n",
       " <selenium.webdriver.remote.webelement.WebElement (session=\"207fb9b038d879475b806bcb6be1ec94\", element=\"1C28E6DBFF4D1CD036C3FDECBCC6BB44_element_15\")>,\n",
       " <selenium.webdriver.remote.webelement.WebElement (session=\"207fb9b038d879475b806bcb6be1ec94\", element=\"1C28E6DBFF4D1CD036C3FDECBCC6BB44_element_16\")>,\n",
       " <selenium.webdriver.remote.webelement.WebElement (session=\"207fb9b038d879475b806bcb6be1ec94\", element=\"1C28E6DBFF4D1CD036C3FDECBCC6BB44_element_17\")>,\n",
       " <selenium.webdriver.remote.webelement.WebElement (session=\"207fb9b038d879475b806bcb6be1ec94\", element=\"1C28E6DBFF4D1CD036C3FDECBCC6BB44_element_18\")>,\n",
       " <selenium.webdriver.remote.webelement.WebElement (session=\"207fb9b038d879475b806bcb6be1ec94\", element=\"1C28E6DBFF4D1CD036C3FDECBCC6BB44_element_19\")>,\n",
       " <selenium.webdriver.remote.webelement.WebElement (session=\"207fb9b038d879475b806bcb6be1ec94\", element=\"1C28E6DBFF4D1CD036C3FDECBCC6BB44_element_20\")>]"
      ]
     },
     "execution_count": 9,
     "metadata": {},
     "output_type": "execute_result"
    }
   ],
   "source": [
    "vuelos = driver.find_elements(By.XPATH,'//li[@class=\"body-flightsstyle__ListItemAvailableFlights-sc__sc-1p74not-5 ixybDA\"]')\n",
    "vuelos"
   ]
  },
  {
   "cell_type": "code",
   "execution_count": 12,
   "metadata": {},
   "outputs": [
    {
     "data": {
      "text/plain": [
       "<selenium.webdriver.remote.webelement.WebElement (session=\"207fb9b038d879475b806bcb6be1ec94\", element=\"1C28E6DBFF4D1CD036C3FDECBCC6BB44_element_10\")>"
      ]
     },
     "execution_count": 12,
     "metadata": {},
     "output_type": "execute_result"
    }
   ],
   "source": [
    "vuelo = vuelos[0]\n",
    "vuelo\n"
   ]
  },
  {
   "cell_type": "code",
   "execution_count": 11,
   "metadata": {},
   "outputs": [
    {
     "name": "stdout",
     "output_type": "stream",
     "text": [
      "12:30 p. m.\n"
     ]
    }
   ],
   "source": [
    "span_elements = vuelo.find_elements(By.XPATH,\"//div[@id='WrapperCardFlight0']//div[contains(@class, 'flight-information')]//span[@class='card-flightstyle__TextHourFlight-sc__sc-16r5pdw-18 kKmcWo'][1]\")\n",
    "span_elements\n",
    "hora_salida = span_elements[0].text\n",
    "print(hora_salida)"
   ]
  },
  {
   "cell_type": "code",
   "execution_count": 13,
   "metadata": {},
   "outputs": [
    {
     "name": "stdout",
     "output_type": "stream",
     "text": [
      "21 h 50 min\n"
     ]
    }
   ],
   "source": [
    "span_elements = vuelo.find_element(By.XPATH,\"//div[@id='WrapperCardFlight0']//div[contains(@class,'flight-duration')]//span[@class='card-flightstyle__TextTotalTimeFlight-sc__sc-16r5pdw-20 fuxJTD']\")\n",
    "print(span_elements.text)"
   ]
  },
  {
   "cell_type": "code",
   "execution_count": 16,
   "metadata": {},
   "outputs": [],
   "source": [
    "# Localiza el elemento <a> que representa el enlace de parada utilizando el Xpath\n",
    "enlace_parada = driver.find_element(By.XPATH, \"//a[@id='itinerary-modal-0-dialog-open']\")\n",
    "\n",
    "# Haz clic en el enlace\n",
    "enlace_parada.click()"
   ]
  }
 ],
 "metadata": {
  "kernelspec": {
   "display_name": ".venv",
   "language": "python",
   "name": "python3"
  },
  "language_info": {
   "codemirror_mode": {
    "name": "ipython",
    "version": 3
   },
   "file_extension": ".py",
   "mimetype": "text/x-python",
   "name": "python",
   "nbconvert_exporter": "python",
   "pygments_lexer": "ipython3",
   "version": "3.10.8"
  },
  "orig_nbformat": 4
 },
 "nbformat": 4,
 "nbformat_minor": 2
}
