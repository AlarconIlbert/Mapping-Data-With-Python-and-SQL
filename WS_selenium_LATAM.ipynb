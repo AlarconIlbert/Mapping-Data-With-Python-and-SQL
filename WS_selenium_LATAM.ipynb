{
 "cells": [
  {
   "cell_type": "code",
   "execution_count": 1,
   "metadata": {},
   "outputs": [],
   "source": [
    "import requests\n",
    "from bs4 import BeautifulSoup as bs\n",
    "from selenium import webdriver\n",
    "from selenium.webdriver.chrome.service import Service\n",
    "from selenium.webdriver.chrome.options import Options\n",
    "from webdriver_manager.chrome import ChromeDriverManager\n",
    "from selenium.webdriver.common.by import By"
   ]
  },
  {
   "cell_type": "code",
   "execution_count": 2,
   "metadata": {},
   "outputs": [],
   "source": [
    "url='https://www.latamairlines.com/co/es/ofertas-vuelos?origin=BOG&inbound=2023-10-21T17%3A00%3A00.000Z&outbound=2023-09-14T17%3A00%3A00.000Z&destination=MAD&adt=1&chd=0&inf=0&trip=RT&cabin=Economy&redemption=false&sort=RECOMMENDED'"
   ]
  },
  {
   "cell_type": "code",
   "execution_count": 3,
   "metadata": {},
   "outputs": [
    {
     "data": {
      "text/plain": [
       "200"
      ]
     },
     "execution_count": 3,
     "metadata": {},
     "output_type": "execute_result"
    }
   ],
   "source": [
    "r=requests.get(url)\n",
    "r.status_code"
   ]
  },
  {
   "cell_type": "code",
   "execution_count": 4,
   "metadata": {},
   "outputs": [],
   "source": [
    "soup_latam=bs(r.text,'lxml')"
   ]
  },
  {
   "cell_type": "code",
   "execution_count": 5,
   "metadata": {},
   "outputs": [],
   "source": [
    "#print(soup_latam.prettify())"
   ]
  },
  {
   "cell_type": "code",
   "execution_count": 6,
   "metadata": {},
   "outputs": [],
   "source": [
    "options=Options()\n",
    "options.add_experimental_option('detach',True)\n",
    "options.add_argument('--incognito')\n",
    "\n",
    "driver = webdriver.Chrome(service=Service(ChromeDriverManager().install()),\n",
    "                          options=options)\n",
    "\n",
    "driver.get(url)"
   ]
  },
  {
   "cell_type": "code",
   "execution_count": 9,
   "metadata": {},
   "outputs": [
    {
     "data": {
      "text/plain": [
       "[<selenium.webdriver.remote.webelement.WebElement (session=\"0171f9fdf9eddc580de7fc26dda858d6\", element=\"AB8D33BEA6C485D7A4CF9D327F05E810_element_10\")>,\n",
       " <selenium.webdriver.remote.webelement.WebElement (session=\"0171f9fdf9eddc580de7fc26dda858d6\", element=\"AB8D33BEA6C485D7A4CF9D327F05E810_element_11\")>,\n",
       " <selenium.webdriver.remote.webelement.WebElement (session=\"0171f9fdf9eddc580de7fc26dda858d6\", element=\"AB8D33BEA6C485D7A4CF9D327F05E810_element_12\")>,\n",
       " <selenium.webdriver.remote.webelement.WebElement (session=\"0171f9fdf9eddc580de7fc26dda858d6\", element=\"AB8D33BEA6C485D7A4CF9D327F05E810_element_13\")>,\n",
       " <selenium.webdriver.remote.webelement.WebElement (session=\"0171f9fdf9eddc580de7fc26dda858d6\", element=\"AB8D33BEA6C485D7A4CF9D327F05E810_element_14\")>,\n",
       " <selenium.webdriver.remote.webelement.WebElement (session=\"0171f9fdf9eddc580de7fc26dda858d6\", element=\"AB8D33BEA6C485D7A4CF9D327F05E810_element_15\")>,\n",
       " <selenium.webdriver.remote.webelement.WebElement (session=\"0171f9fdf9eddc580de7fc26dda858d6\", element=\"AB8D33BEA6C485D7A4CF9D327F05E810_element_16\")>,\n",
       " <selenium.webdriver.remote.webelement.WebElement (session=\"0171f9fdf9eddc580de7fc26dda858d6\", element=\"AB8D33BEA6C485D7A4CF9D327F05E810_element_17\")>,\n",
       " <selenium.webdriver.remote.webelement.WebElement (session=\"0171f9fdf9eddc580de7fc26dda858d6\", element=\"AB8D33BEA6C485D7A4CF9D327F05E810_element_18\")>,\n",
       " <selenium.webdriver.remote.webelement.WebElement (session=\"0171f9fdf9eddc580de7fc26dda858d6\", element=\"AB8D33BEA6C485D7A4CF9D327F05E810_element_19\")>,\n",
       " <selenium.webdriver.remote.webelement.WebElement (session=\"0171f9fdf9eddc580de7fc26dda858d6\", element=\"AB8D33BEA6C485D7A4CF9D327F05E810_element_20\")>]"
      ]
     },
     "execution_count": 9,
     "metadata": {},
     "output_type": "execute_result"
    }
   ],
   "source": [
    "vuelos = driver.find_elements(By.XPATH,'//li[@class=\"body-flightsstyle__ListItemAvailableFlights-sc__sc-1p74not-5 ixybDA\"]')\n",
    "vuelos"
   ]
  },
  {
   "cell_type": "code",
   "execution_count": 11,
   "metadata": {},
   "outputs": [
    {
     "data": {
      "text/plain": [
       "<selenium.webdriver.remote.webelement.WebElement (session=\"0171f9fdf9eddc580de7fc26dda858d6\", element=\"AB8D33BEA6C485D7A4CF9D327F05E810_element_10\")>"
      ]
     },
     "execution_count": 11,
     "metadata": {},
     "output_type": "execute_result"
    }
   ],
   "source": [
    "vuelo = vuelos[0]\n",
    "vuelo\n"
   ]
  },
  {
   "cell_type": "code",
   "execution_count": 12,
   "metadata": {},
   "outputs": [
    {
     "name": "stdout",
     "output_type": "stream",
     "text": [
      "12:30 p. m.\n"
     ]
    }
   ],
   "source": [
    "span_elements = vuelo.find_elements(By.XPATH,\"//div[@id='WrapperCardFlight0']//div[contains(@class, 'flight-information')]//span[@class='card-flightstyle__TextHourFlight-sc__sc-16r5pdw-18 kKmcWo'][1]\")\n",
    "span_elements\n",
    "hora_salida = span_elements[0].text\n",
    "print(hora_salida)"
   ]
  },
  {
   "cell_type": "code",
   "execution_count": 14,
   "metadata": {},
   "outputs": [
    {
     "name": "stdout",
     "output_type": "stream",
     "text": [
      "21 h 50 min\n"
     ]
    }
   ],
   "source": [
    "span_elements = vuelo.find_element(By.XPATH,\"//div[@id='WrapperCardFlight0']//div[contains(@class,'flight-duration')]//span[@class='card-flightstyle__TextTotalTimeFlight-sc__sc-16r5pdw-20 fuxJTD']\")\n",
    "print(span_elements.text)"
   ]
  },
  {
   "cell_type": "code",
   "execution_count": 30,
   "metadata": {},
   "outputs": [],
   "source": [
    "# Localiza el elemento <a> que representa el enlace de parada utilizando el Xpath\n",
    "enlace_parada = driver.find_element(By.XPATH, \"//a[@id='itinerary-modal-0-dialog-open']\")\n",
    "\n",
    "# Haz clic en el enlace\n",
    "enlace_parada.click()"
   ]
  },
  {
   "cell_type": "code",
   "execution_count": 31,
   "metadata": {},
   "outputs": [
    {
     "data": {
      "text/plain": [
       "[<selenium.webdriver.remote.webelement.WebElement (session=\"0171f9fdf9eddc580de7fc26dda858d6\", element=\"AB8D33BEA6C485D7A4CF9D327F05E810_element_56\")>,\n",
       " <selenium.webdriver.remote.webelement.WebElement (session=\"0171f9fdf9eddc580de7fc26dda858d6\", element=\"AB8D33BEA6C485D7A4CF9D327F05E810_element_57\")>]"
      ]
     },
     "execution_count": 31,
     "metadata": {},
     "output_type": "execute_result"
    }
   ],
   "source": [
    "segmentos = vuelo.find_elements(By.XPATH,\"//article[@class='itinerarystyle__Wrapper-sc__sc-1n97ky6-0 hfhDJj']//div[contains(@class,'path-infostyle__Top-sc__sc-xj1cll-2 eZnnpl')]//div[@class='iataCode']\")\n",
    "segmentos"
   ]
  },
  {
   "cell_type": "code",
   "execution_count": 32,
   "metadata": {},
   "outputs": [
    {
     "name": "stdout",
     "output_type": "stream",
     "text": [
      "1\n"
     ]
    }
   ],
   "source": [
    "escalas=len(segmentos)-1\n",
    "print(escalas)"
   ]
  },
  {
   "cell_type": "code",
   "execution_count": 33,
   "metadata": {},
   "outputs": [
    {
     "name": "stdout",
     "output_type": "stream",
     "text": [
      "BOG12:30 p. m.\n"
     ]
    }
   ],
   "source": [
    "print(segmentos[0].text)"
   ]
  },
  {
   "cell_type": "code",
   "execution_count": 35,
   "metadata": {},
   "outputs": [
    {
     "name": "stdout",
     "output_type": "stream",
     "text": [
      "LIM10:55 p. m.\n"
     ]
    }
   ],
   "source": [
    "print(segmentos[1].text)"
   ]
  },
  {
   "cell_type": "code",
   "execution_count": 36,
   "metadata": {},
   "outputs": [],
   "source": [
    "# Localiza el elemento <a> que representa el enlace de parada utilizando el Xpath\n",
    "cerrar_parada = driver.find_element(By.XPATH, \"//button[@id='itinerary-modal-0-dialog-close']\")\n",
    "\n",
    "# Haz clic en el enlace\n",
    "cerrar_parada.click()"
   ]
  },
  {
   "cell_type": "code",
   "execution_count": 37,
   "metadata": {},
   "outputs": [],
   "source": [
    "vuelo.click()"
   ]
  },
  {
   "cell_type": "code",
   "execution_count": 48,
   "metadata": {},
   "outputs": [
    {
     "data": {
      "text/plain": [
       "[<selenium.webdriver.remote.webelement.WebElement (session=\"0171f9fdf9eddc580de7fc26dda858d6\", element=\"AB8D33BEA6C485D7A4CF9D327F05E810_element_99\")>,\n",
       " <selenium.webdriver.remote.webelement.WebElement (session=\"0171f9fdf9eddc580de7fc26dda858d6\", element=\"AB8D33BEA6C485D7A4CF9D327F05E810_element_100\")>,\n",
       " <selenium.webdriver.remote.webelement.WebElement (session=\"0171f9fdf9eddc580de7fc26dda858d6\", element=\"AB8D33BEA6C485D7A4CF9D327F05E810_element_97\")>,\n",
       " <selenium.webdriver.remote.webelement.WebElement (session=\"0171f9fdf9eddc580de7fc26dda858d6\", element=\"AB8D33BEA6C485D7A4CF9D327F05E810_element_101\")>]"
      ]
     },
     "execution_count": 48,
     "metadata": {},
     "output_type": "execute_result"
    }
   ],
   "source": [
    "opciones=vuelo.find_elements(By.XPATH,\"//ol[@class='columnBrandListstyled__BrandListDesktop-sc__sc-ghohau-1 dcOsnT']//div[contains(@class,'columnBrandstyle__Brand-sc__sc-1e0tr9m-0 dPXqYU')]\")\n",
    "opciones"
   ]
  },
  {
   "cell_type": "code",
   "execution_count": 59,
   "metadata": {},
   "outputs": [
    {
     "data": {
      "text/plain": [
       "[<selenium.webdriver.remote.webelement.WebElement (session=\"0171f9fdf9eddc580de7fc26dda858d6\", element=\"AB8D33BEA6C485D7A4CF9D327F05E810_element_106\")>,\n",
       " <selenium.webdriver.remote.webelement.WebElement (session=\"0171f9fdf9eddc580de7fc26dda858d6\", element=\"AB8D33BEA6C485D7A4CF9D327F05E810_element_107\")>,\n",
       " <selenium.webdriver.remote.webelement.WebElement (session=\"0171f9fdf9eddc580de7fc26dda858d6\", element=\"AB8D33BEA6C485D7A4CF9D327F05E810_element_108\")>,\n",
       " <selenium.webdriver.remote.webelement.WebElement (session=\"0171f9fdf9eddc580de7fc26dda858d6\", element=\"AB8D33BEA6C485D7A4CF9D327F05E810_element_109\")>]"
      ]
     },
     "execution_count": 59,
     "metadata": {},
     "output_type": "execute_result"
    }
   ],
   "source": [
    "# Encuentra todas las opciones de tarifas disponibles\n",
    "tarifas = driver.find_elements(By.XPATH, '//ol[@aria-label=\"Tarifas disponibles.\"]/li')\n",
    "tarifas\n"
   ]
  },
  {
   "cell_type": "code",
   "execution_count": 60,
   "metadata": {},
   "outputs": [
    {
     "name": "stdout",
     "output_type": "stream",
     "text": [
      "COP\n"
     ]
    }
   ],
   "source": [
    "currenci=vuelo.find_elements(By.XPATH,\"//ol[@class='columnBrandListstyled__BrandListDesktop-sc__sc-ghohau-1 dcOsnT']//span[contains(@class,'display-currencystyle')]//span[@class='display-currencystyle__CurrencyAmount-sc__sc-19mlo29-2 fMjBKP currency']\")\n",
    "#tarifas\n",
    "print(currenci[1].text)"
   ]
  },
  {
   "cell_type": "code",
   "execution_count": 80,
   "metadata": {},
   "outputs": [
    {
     "name": "stdout",
     "output_type": "stream",
     "text": [
      "{'Light': {'moneda': 'COP', 'valor': '5.058.490,00'}}\n",
      "{'Plus': {'moneda': 'COP', 'valor': '5.324.140,00'}}\n",
      "{'Top': {'moneda': 'COP', 'valor': '5.648.260,00'}}\n",
      "{'Top\\nPremium Business': {'moneda': 'COP', 'valor': '12.117.750,00'}}\n"
     ]
    }
   ],
   "source": [
    "precios=[]\n",
    "for tarifa in tarifas:\n",
    "    nombre=tarifa.find_element(By.XPATH,\".//div[contains(@class,'columnBrandstyle__BrandHeader-sc')]\").text\n",
    "    valor=tarifa.find_element(By.XPATH,\".//span[contains(@class,'display-currencystyle')]//span[@class='display-currencystyle__CurrencyAmount-sc__sc-19mlo29-2 fMjBKP']\").text\n",
    "    moneda=tarifa.find_element(By.XPATH,\".//span[contains(@class,'display-currencystyle__CurrencyAmount-sc__sc-19mlo29-2 fMjBKP currency')]\").text\n",
    "    dic_tarifa={nombre:{'moneda':moneda,'valor':valor}}\n",
    "    precios.append(dic_tarifa)\n",
    "    print(dic_tarifa)"
   ]
  },
  {
   "cell_type": "code",
   "execution_count": 77,
   "metadata": {},
   "outputs": [
    {
     "name": "stdout",
     "output_type": "stream",
     "text": [
      "{'nombre': 'Light', 'valor': '5.058.490,00', 'moneda': 'COP'}\n",
      "{'nombre': 'Plus', 'valor': '5.324.140,00', 'moneda': 'COP'}\n",
      "{'nombre': 'Top', 'valor': '5.648.260,00', 'moneda': 'COP'}\n",
      "{'nombre': 'Top\\nPremium Business', 'valor': '12.117.750,00', 'moneda': 'COP'}\n"
     ]
    }
   ],
   "source": [
    "# Crear una lista para almacenar los diccionarios\n",
    "lista_tarifas = []\n",
    "\n",
    "for tarifa in tarifas:\n",
    "    nombre = tarifa.find_element(By.XPATH, \".//div[contains(@class,'columnBrandstyle__BrandHeader-sc')]\").text\n",
    "    valor = tarifa.find_element(By.XPATH, \".//span[contains(@class,'display-currencystyle')]//span[@class='display-currencystyle__CurrencyAmount-sc__sc-19mlo29-2 fMjBKP']\").text\n",
    "    moneda = tarifa.find_element(By.XPATH, \".//span[@class='display-currencystyle__CurrencyAmount-sc__sc-19mlo29-2 fMjBKP currency']\").text\n",
    "    \n",
    "    # Crear un diccionario para esta tarifa\n",
    "    tarifa_dict = {\n",
    "        'nombre': nombre,\n",
    "        'valor': valor,\n",
    "        'moneda': moneda\n",
    "    }\n",
    "    \n",
    "    # Agregar el diccionario a la lista de tarifas\n",
    "    lista_tarifas.append(tarifa_dict)\n",
    "\n",
    "# Imprimir la lista de diccionarios\n",
    "for tarifa_dict in lista_tarifas:\n",
    "    print(tarifa_dict)"
   ]
  },
  {
   "cell_type": "code",
   "execution_count": null,
   "metadata": {},
   "outputs": [],
   "source": []
  }
 ],
 "metadata": {
  "kernelspec": {
   "display_name": ".venv",
   "language": "python",
   "name": "python3"
  },
  "language_info": {
   "codemirror_mode": {
    "name": "ipython",
    "version": 3
   },
   "file_extension": ".py",
   "mimetype": "text/x-python",
   "name": "python",
   "nbconvert_exporter": "python",
   "pygments_lexer": "ipython3",
   "version": "3.10.8"
  },
  "orig_nbformat": 4
 },
 "nbformat": 4,
 "nbformat_minor": 2
}
